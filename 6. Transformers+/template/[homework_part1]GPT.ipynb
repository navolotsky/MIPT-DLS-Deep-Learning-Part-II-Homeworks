{
 "cells": [
  {
   "cell_type": "code",
   "execution_count": null,
   "metadata": {},
   "outputs": [],
   "source": [
    "# !pip install -q transformers datasets tokenizers"
   ]
  },
  {
   "cell_type": "markdown",
   "metadata": {},
   "source": [
    "# Домашнее задание. Transformers.\n",
    "\n",
    "Привет! Это очередное домашнее задание, но теперь ты познакомишься с моделя трансформеров и с библиотекой `HuggingFace🤗`. В этом задании будет предложено решить с помощью модели `GPT2` простую задачу (анализ сентимента) и сделать небольшое исследование карт внимания. Приступим!"
   ]
  },
  {
   "cell_type": "code",
   "execution_count": null,
   "metadata": {},
   "outputs": [],
   "source": [
    "import numpy as np\n",
    "import matplotlib.pyplot as plt\n",
    "from matplotlib import ticker\n",
    "\n",
    "import torch\n",
    "import torch.nn as nn\n",
    "\n",
    "from transformers import GPT2ForSequenceClassification, GPT2TokenizerFast, GPT2Config\n",
    "from datasets import load_dataset"
   ]
  },
  {
   "cell_type": "code",
   "execution_count": null,
   "metadata": {},
   "outputs": [],
   "source": [
    "device = \"cuda\" if torch.cuda.is_available else \"cpu\""
   ]
  },
  {
   "cell_type": "markdown",
   "metadata": {},
   "source": [
    "Датасет, который мы будем использовать сегодня – тексты из английского твиттера. Они уже почищенны от никнеймов, знаков препинания и прочего. "
   ]
  },
  {
   "cell_type": "code",
   "execution_count": null,
   "metadata": {},
   "outputs": [],
   "source": [
    "emotion_dataset = load_dataset(\"emotion\")"
   ]
  },
  {
   "cell_type": "markdown",
   "metadata": {},
   "source": [
    "Посмотри, из чего состоит `emotion_dataset`:"
   ]
  },
  {
   "cell_type": "code",
   "execution_count": null,
   "metadata": {},
   "outputs": [],
   "source": [
    "emotion_dataset"
   ]
  },
  {
   "cell_type": "code",
   "execution_count": null,
   "metadata": {},
   "outputs": [],
   "source": [
    "emotion_dataset[\"train\"]"
   ]
  },
  {
   "cell_type": "code",
   "execution_count": null,
   "metadata": {},
   "outputs": [],
   "source": [
    "emotion_dataset[\"train\"][\"text\"][0]"
   ]
  },
  {
   "cell_type": "code",
   "execution_count": null,
   "metadata": {},
   "outputs": [],
   "source": [
    "emotion_dataset[\"train\"][\"label\"][0]"
   ]
  },
  {
   "cell_type": "code",
   "execution_count": null,
   "metadata": {},
   "outputs": [],
   "source": [
    "len(emotion_dataset[\"train\"])"
   ]
  },
  {
   "cell_type": "markdown",
   "metadata": {},
   "source": [
    "Для перевода текста в токены мы будем использовать предобученный BPE-токенайзер."
   ]
  },
  {
   "cell_type": "code",
   "execution_count": null,
   "metadata": {},
   "outputs": [],
   "source": [
    "tokenizer = GPT2TokenizerFast.from_pretrained(\"distilgpt2\")\n",
    "tokenizer.pad_token = tokenizer.eos_token # У gpt2 нет pad токенов. Вместо них воспользуемся токенами конца текста."
   ]
  },
  {
   "cell_type": "markdown",
   "metadata": {},
   "source": [
    "Подготовь класс, который принимает датасет, токенайзер и имя используемой части (`train`, `validation`, `test`). Используй его для получения данных для обучения.\n",
    "\n",
    "P.S. Посмотри, как работает токенайзер ([docs](https://huggingface.co/transformers/main_classes/tokenizer.html)) и подумай, как его надо добавить в датасет."
   ]
  },
  {
   "cell_type": "markdown",
   "metadata": {},
   "source": [
    "Немного примеров, как работает токенайзер. Это поможет с написанием датасета."
   ]
  },
  {
   "cell_type": "code",
   "execution_count": null,
   "metadata": {},
   "outputs": [],
   "source": [
    "tokenizer.tokenize(emotion_dataset[\"train\"][\"text\"][0])"
   ]
  },
  {
   "cell_type": "code",
   "execution_count": null,
   "metadata": {},
   "outputs": [],
   "source": [
    "tokenizer.encode(emotion_dataset[\"train\"][\"text\"][0])"
   ]
  },
  {
   "cell_type": "code",
   "execution_count": null,
   "metadata": {},
   "outputs": [],
   "source": [
    "tokenizer.encode_plus(emotion_dataset[\"train\"][\"text\"][0])"
   ]
  },
  {
   "cell_type": "code",
   "execution_count": null,
   "metadata": {},
   "outputs": [],
   "source": [
    "tokenizer.encode_plus(emotion_dataset[\"train\"][\"text\"][0], return_tensors=\"pt\")"
   ]
  },
  {
   "cell_type": "code",
   "execution_count": null,
   "metadata": {},
   "outputs": [],
   "source": [
    "tokenizer.encode_plus(\n",
    "    emotion_dataset[\"train\"][\"text\"][0], \n",
    "    max_length=128, # максимальная длина текста\n",
    "    padding=\"max_length\", # надо ли добавлять паддинг в конце?\n",
    "    return_tensors=\"pt\", # возвращает pytorch тензоры\n",
    ")"
   ]
  },
  {
   "cell_type": "code",
   "execution_count": null,
   "metadata": {},
   "outputs": [],
   "source": [
    "# Если надо, попрактикуйся работать с токенайзером здесь"
   ]
  },
  {
   "cell_type": "code",
   "execution_count": null,
   "metadata": {},
   "outputs": [],
   "source": [
    "class TweetDataset(torch.utils.data.Dataset):\n",
    "    def __init__(self, part, dataset=emotion_dataset, tokenizer=tokenizer, max_length=128):\n",
    "        self.part = part\n",
    "        self.dataset = dataset\n",
    "        self.tokenizer = tokenizer\n",
    "        self.max_length = max_length\n",
    "        \n",
    "        self.labels = np.unique(dataset[part][\"label\"])\n",
    "        self.label2num = {l: num for num, l in enumerate(self.labels)}\n",
    "        \n",
    "    def __getitem__(self, idx):\n",
    "        \"\"\"\n",
    "        Return dict with tokens, attention_mask and label\n",
    "        \"\"\"\n",
    "        text = ...\n",
    "        label = ...\n",
    "        \n",
    "        tokenizer_output = ...\n",
    "        target = self.label2num[label]\n",
    "        return {\n",
    "            \"input_ids\": ..., \n",
    "            \"mask\": ...,\n",
    "            \"target\": target\n",
    "        }\n",
    "        \n",
    "    def __len__(self):\n",
    "        \"\"\"\n",
    "        Return length of dataset\n",
    "        \"\"\"\n",
    "        return len(self.dataset[self.part])"
   ]
  },
  {
   "cell_type": "markdown",
   "metadata": {},
   "source": [
    "Создай `train`, `validation` и `test` части датасета. Загрузи их в `DataLoaders`."
   ]
  },
  {
   "cell_type": "code",
   "execution_count": null,
   "metadata": {},
   "outputs": [],
   "source": [
    "train_dataset = ...\n",
    "valid_dataset = ... # validation\n",
    "test_dataset = ..."
   ]
  },
  {
   "cell_type": "code",
   "execution_count": null,
   "metadata": {},
   "outputs": [],
   "source": [
    "batch_size = 64 # Задай batch_size\n",
    "\n",
    "train_loader = torch.utils.data.DataLoader(\n",
    "    ...\n",
    ")\n",
    "valid_loader = torch.utils.data.DataLoader(\n",
    "    ...\n",
    ")\n",
    "test_loader = torch.utils.data.DataLoader(\n",
    "    ...\n",
    ")"
   ]
  },
  {
   "cell_type": "markdown",
   "metadata": {},
   "source": [
    "## Начнем с нуля.\n",
    "\n",
    "Попробуем обучить модель трансформер с нуля решать данную задачу."
   ]
  },
  {
   "cell_type": "code",
   "execution_count": null,
   "metadata": {},
   "outputs": [],
   "source": [
    "config = GPT2Config.from_pretrained(\n",
    "    \"distilgpt2\", # distilgpt2 – уменьшенная версия модели gpt2\n",
    "    output_attentions=True,\n",
    "    pad_token_id=tokenizer.eos_token_id,\n",
    "    num_labels=8\n",
    ")\n",
    "model_0 = GPT2ForSequenceClassification(config=config).to(device) # GPT2 для классификации текста"
   ]
  },
  {
   "cell_type": "markdown",
   "metadata": {},
   "source": [
    "Подготовь оптимайзер и критерий:"
   ]
  },
  {
   "cell_type": "code",
   "execution_count": null,
   "metadata": {},
   "outputs": [],
   "source": [
    "lr = 1e-5 # Предполагаемый learning rate. Он может быть больше или меньше :)\n",
    "\n",
    "optimizer = ...\n",
    "criterion = ...\n",
    "# scheduler = ... # Можно добавить шедулер для обучения моделей. Это на твое усмотрение"
   ]
  },
  {
   "cell_type": "markdown",
   "metadata": {},
   "source": [
    "Посмотри, что возвращает модель ([docs](https://huggingface.co/transformers/model_doc/gpt2.html#gpt2forsequenceclassification)), если в неё подать данные:"
   ]
  },
  {
   "cell_type": "code",
   "execution_count": null,
   "metadata": {},
   "outputs": [],
   "source": [
    "tokens = ... # Получи токены из датасета\n",
    "mask = ... # Получи маску из датасета\n",
    "\n",
    "model_0(...) # Посмотри на аутпут"
   ]
  },
  {
   "cell_type": "markdown",
   "metadata": {},
   "source": [
    "Обучи модель с помощью `train_dataset`, проверяй во время обучения качество с помощью `valid_dataset` и получи финальное качество с помощью `test_dataset`."
   ]
  },
  {
   "cell_type": "code",
   "execution_count": null,
   "metadata": {},
   "outputs": [],
   "source": [
    "from tqdm.notebook import tqdm\n",
    "\n",
    "\n",
    "num_epochs = 10\n",
    "\n",
    "# Train loop\n",
    "for e in range(num_epochs):\n",
    "    model_0.train()\n",
    "    train_loss = 0\n",
    "    for batch in tqdm(train_loader):\n",
    "        ...\n",
    "        \n",
    "    valid_loss = 0\n",
    "    valid_acc = 0\n",
    "    model_0.eval()\n",
    "    with torch.no_grad():\n",
    "        for batch in valid_loader:\n",
    "            ...\n",
    "    print(f\"Train Loss: {train_loss / len(train_loader)},\"\n",
    "          f\"Valid Loss: {valid_loss / len(valid_loader)},\"\n",
    "          f\"Valid Acc: {valid_acc / len(valid_loader)}\")\n",
    "        \n",
    "# Testing\n",
    "test_acc = 0\n",
    "model_0.eval()\n",
    "with torch.no_grad():\n",
    "    for batch in test_loader:\n",
    "        ...\n",
    "print(f\"Test Acc: {test_acc / len(test_loader)}\")"
   ]
  },
  {
   "cell_type": "markdown",
   "metadata": {},
   "source": [
    "После того, как получил лучшую модель для решения этой задачи, посмотри на карты внимания. Нашел ли что-нибудь интересное в них?"
   ]
  },
  {
   "cell_type": "code",
   "execution_count": null,
   "metadata": {},
   "outputs": [],
   "source": [
    "def get_attention_matrixes(model, tokenizer, text, device=device):\n",
    "    inp = list(filter(lambda x: x != tokenizer.sep_token_id, tokenizer.encode(text)))\n",
    "    inp = torch.tensor(inp, dtype=torch.long, device=device).unsqueeze(0)\n",
    "    attn_tensors = model(inp)[-1]\n",
    "    seq = [tokenizer.decode(x) for x in inp[0].tolist()]\n",
    "    attn = []\n",
    "    for i in range(len(attn_tensors)):\n",
    "        attn_layer = []\n",
    "        for j in range(attn_tensors[i].size(1)):\n",
    "            attn_layer.append(attn_tensors[i][0, j].cpu().detach().numpy())\n",
    "        attn.append(np.array(attn_layer))\n",
    "    \n",
    "    return np.array(attn)"
   ]
  },
  {
   "cell_type": "code",
   "execution_count": null,
   "metadata": {},
   "outputs": [],
   "source": [
    "def show_attention(seq, attentions):\n",
    "    # Set up figure with colorbar\n",
    "    fig = plt.figure(figsize=(20,20))\n",
    "    ax = fig.add_subplot(111)\n",
    "    cax = ax.matshow(attentions)\n",
    "    fig.colorbar(cax)\n",
    "\n",
    "    # Set up axes\n",
    "    ax.set_xticklabels(['']+seq, rotation=90, fontsize=16)\n",
    "    ax.set_yticklabels(['']+seq, fontsize=16)\n",
    "\n",
    "    # Show label at every tick\n",
    "    ax.xaxis.set_major_locator(ticker.MultipleLocator(1))\n",
    "    ax.yaxis.set_major_locator(ticker.MultipleLocator(1))\n",
    "\n",
    "    plt.show()"
   ]
  },
  {
   "cell_type": "code",
   "execution_count": null,
   "metadata": {},
   "outputs": [],
   "source": [
    "text = ... # Выбери текст из датасета\n",
    "tokens = tokenizer.tokenize(text)"
   ]
  },
  {
   "cell_type": "code",
   "execution_count": null,
   "metadata": {},
   "outputs": [],
   "source": [
    "attns = get_ettention_matrixes(model_0, tokenizer, text)\n",
    "show_attention(seq, attn[-1][0])"
   ]
  },
  {
   "cell_type": "markdown",
   "metadata": {},
   "source": [
    "## Fine-tuning\n",
    "\n",
    "Теперь другой подход: загрузим модель, которая обучалась решать задачу Language Modeling. Посмотрим, получим ли мы прирост в качестве."
   ]
  },
  {
   "cell_type": "code",
   "execution_count": null,
   "metadata": {},
   "outputs": [],
   "source": [
    "model_1 = GPT2ForSequenceClassification.from_pretrained(\n",
    "    \"distilgpt2\", \n",
    "    output_attentions=True,\n",
    "    pad_token_id=tokenizer.eos_token_id,\n",
    "    num_labels=8\n",
    ").to(device)"
   ]
  },
  {
   "cell_type": "code",
   "execution_count": null,
   "metadata": {},
   "outputs": [],
   "source": [
    "lr = 1e-5 # Предполагаемый learning rate. Он может быть больше или меньше :)\n",
    "\n",
    "optimizer = ...\n",
    "criterion = ...\n",
    "# scheduler = ... # Можно добавить шедулер для обучения моделей. Это на твое усмотрение"
   ]
  },
  {
   "cell_type": "markdown",
   "metadata": {},
   "source": [
    "Вывод модели ничем не отличается от предыдущего случая, поэтому сразу приступаем к обучению:"
   ]
  },
  {
   "cell_type": "code",
   "execution_count": null,
   "metadata": {},
   "outputs": [],
   "source": [
    "from tqdm.notebook import tqdm\n",
    "\n",
    "\n",
    "num_epochs = 10\n",
    "\n",
    "# Train loop\n",
    "for e in range(num_epochs):\n",
    "    model_1.train()\n",
    "    train_loss = 0\n",
    "    for batch in tqdm(train_loader):\n",
    "        ...\n",
    "        \n",
    "    valid_loss = 0\n",
    "    valid_acc = 0\n",
    "    model_1.eval()\n",
    "    with torch.no_grad():\n",
    "        for batch in valid_loader:\n",
    "            ...\n",
    "    print(f\"Train Loss: {train_loss / len(train_loader)},\"\n",
    "          f\"Valid Loss: {valid_loss / len(valid_loader)},\"\n",
    "          f\"Valid Acc: {valid_acc / len(valid_loader)}\")\n",
    "        \n",
    "# Testing\n",
    "test_acc = 0\n",
    "model_1.eval()\n",
    "with torch.no_grad():\n",
    "    for batch in test_loader:\n",
    "        ...\n",
    "print(f\"Test Acc: {test_acc / len(test_loader)}\")"
   ]
  },
  {
   "cell_type": "markdown",
   "metadata": {},
   "source": [
    "Есть ли прирост качества или скорости обучения?\n",
    "\n",
    "Посмотри на карты внимания. Есть ли отличие от предыдущего случая?"
   ]
  },
  {
   "cell_type": "code",
   "execution_count": null,
   "metadata": {},
   "outputs": [],
   "source": [
    "text = ... # Выбери текст из датасета\n",
    "tokens = tokenizer.tokenize(text)"
   ]
  },
  {
   "cell_type": "code",
   "execution_count": null,
   "metadata": {},
   "outputs": [],
   "source": [
    "attns = get_ettention_matrixes(model, tokenizer, text)\n",
    "show_attention(seq, attn[-1][0])"
   ]
  },
  {
   "cell_type": "markdown",
   "metadata": {},
   "source": [
    "## Отчет\n",
    "\n",
    "Покажи здесь, что ты выполнил по этой работе. Ответь на несколько вопросов:\n",
    "- Какой подход оказался лучше? \n",
    "- На какие слова модель большего всего обращала внимание?\n",
    "- На каких слоях/головах модель обращала внимание?\n",
    "\n",
    "< твой отчет/ответы >"
   ]
  },
  {
   "cell_type": "code",
   "execution_count": null,
   "metadata": {},
   "outputs": [],
   "source": []
  }
 ],
 "metadata": {
  "kernelspec": {
   "display_name": "Python 3",
   "language": "python",
   "name": "python3"
  },
  "language_info": {
   "codemirror_mode": {
    "name": "ipython",
    "version": 3
   },
   "file_extension": ".py",
   "mimetype": "text/x-python",
   "name": "python",
   "nbconvert_exporter": "python",
   "pygments_lexer": "ipython3",
   "version": "3.6.9"
  }
 },
 "nbformat": 4,
 "nbformat_minor": 4
}
