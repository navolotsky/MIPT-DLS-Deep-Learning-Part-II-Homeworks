{
  "nbformat": 4,
  "nbformat_minor": 0,
  "metadata": {
    "colab": {
      "name": "[homework]embeddings.ipynb",
      "private_outputs": true,
      "provenance": [],
      "collapsed_sections": []
    },
    "kernelspec": {
      "name": "python3",
      "display_name": "Python 3",
      "language": "python"
    },
    "accelerator": "GPU"
  },
  "cells": [
    {
      "cell_type": "markdown",
      "metadata": {
        "id": "Ot3c4fjZwC4T"
      },
      "source": [
        "<img src=\"https://s8.hostingkartinok.com/uploads/images/2018/08/308b49fcfbc619d629fe4604bceb67ac.jpg\" width=500, height=450>\n",
        "<h3 style=\"text-align: center;\"><b>Физтех-Школа Прикладной математики и информатики (ФПМИ) МФТИ</b></h3>"
      ]
    },
    {
      "cell_type": "markdown",
      "metadata": {
        "id": "P2JdzEXmwRU5"
      },
      "source": [
        "---"
      ]
    },
    {
      "cell_type": "markdown",
      "metadata": {
        "id": "eYtJxkhKpYK2"
      },
      "source": [
        "# Embeddings\n",
        "\n",
        "Привет! В этом домашнем задании мы с помощью эмбеддингов решим задачу семантической классификации твитов.\n",
        "\n",
        "Для этого мы воспользуемся предобученными эмбеддингами word2vec."
      ]
    },
    {
      "source": [
        "Student: Oleg Navolotsky / Наволоцкий Олег  \n",
        "Stepik: https://stepik.org/users/2403189  \n",
        "Telegram: [@mehwhatever0](https://t.me/mehwhatever0)  \n",
        "\n",
        " **Note**: reproducibility depends on [different things](https://pytorch.org/docs/stable/notes/randomness.html):\n",
        " >Completely reproducible results are not guaranteed across PyTorch releases, individual commits, or different platforms. Furthermore, results may not be reproducible between CPU and GPU executions, even when using identical seeds.\n",
        "\n",
        " Some used software versions:\n",
        " - PyTorch 1.7.0\n",
        " - NumPy 1.18.5\n",
        " - Gensim 3.8.3\n",
        " - NLTK 3.5\n",
        " - seaborn 0.10.1\n",
        " - pandas 1.0.5\n",
        " - scikit-learn 0.23.1\n",
        " - Python 3.8.3 (default, Jul  2 2020, 17:30:36) \\[MSC v.1916 64 bit (AMD64)] :: Anaconda, Inc. on win32\n",
        " - NVIDIA Driver 460.79\n",
        " - NVIDIA CUDA 11.2\n",
        " - Windows 10 Pro 1909, build 18363.535\n",
        "\n",
        "\n",
        " Hardware:\n",
        " - i5 2500 8 gb\n",
        " - GTX 1060 6 gb"
      ],
      "cell_type": "markdown",
      "metadata": {}
    },
    {
      "cell_type": "code",
      "execution_count": 1,
      "metadata": {},
      "outputs": [],
      "source": [
        "import os\n",
        "import random\n",
        "\n",
        "import numpy as np\n",
        "import torch\n",
        "\n",
        "\n",
        "SEED = 42\n",
        "\n",
        "\n",
        "def enable_reproducibility(\n",
        "        seed=SEED, raise_if_no_deterministic=True,\n",
        "        cudnn_deterministic=True, disable_cudnn_benchmarking=True):\n",
        "    # https://pytorch.org/docs/stable/notes/randomness.html#avoiding-nondeterministic-algorithms\n",
        "    if raise_if_no_deterministic:\n",
        "        torch.set_deterministic(True)\n",
        "\n",
        "    # https://docs.nvidia.com/cuda/cublas/index.html#cublasApi_reproducibility\n",
        "    os.environ['CUBLAS_WORKSPACE_CONFIG'] = \":4096:8\"\n",
        "    \n",
        "    if disable_cudnn_benchmarking:\n",
        "        torch.backends.cudnn.benchmark = False\n",
        "    if cudnn_deterministic:\n",
        "        torch.backends.cudnn.deterministic = True\n",
        "\n",
        "    torch.manual_seed(seed)\n",
        "    np.random.seed(seed)\n",
        "    random.seed(seed)\n",
        "    os.environ['PYTHONHASHSEED'] = str(seed)"
      ]
    },
    {
      "cell_type": "markdown",
      "metadata": {
        "id": "jBOdoFS8AdpP"
      },
      "source": [
        "Для начала скачаем датасет для семантической классификации твитов:"
      ]
    },
    {
      "cell_type": "code",
      "metadata": {
        "id": "wXjhtsfF_gBK"
      },
      "source": [
        "# !gdown https://drive.google.com/uc?id=1eE1FiUkXkcbw0McId4i7qY-L8hH-_Qph&export=download\n",
        "# !unzip archive.zip"
      ],
      "execution_count": 40,
      "outputs": []
    },
    {
      "cell_type": "markdown",
      "metadata": {
        "id": "Sh6wW-K53Mle"
      },
      "source": [
        "Импортируем нужные библиотеки:"
      ]
    },
    {
      "cell_type": "code",
      "metadata": {
        "id": "A2Y5CHRm6NFe"
      },
      "source": [
        "import math\n",
        "import random\n",
        "import string\n",
        "\n",
        "import numpy as np\n",
        "import pandas as pd\n",
        "import seaborn as sns\n",
        "\n",
        "import torch\n",
        "import nltk\n",
        "import gensim\n",
        "import gensim.downloader as api"
      ],
      "execution_count": 2,
      "outputs": [
        {
          "output_type": "stream",
          "name": "stderr",
          "text": [
            "C:\\Users\\user0\\anaconda3\\envs\\custom\\lib\\site-packages\\scipy\\sparse\\sparsetools.py:21: DeprecationWarning: `scipy.sparse.sparsetools` is deprecated!\nscipy.sparse.sparsetools is a private module for scipy.sparse, and should not be used.\n  _deprecated()\n"
          ]
        }
      ]
    },
    {
      "cell_type": "code",
      "metadata": {
        "id": "73Lb0wbESrgQ"
      },
      "source": [
        "enable_reproducibility()\n",
        "\n",
        "DEVICE = torch.device(\"cuda\" if torch.cuda.is_available() else \"cpu\")\n",
        "DEVICE"
      ],
      "execution_count": 3,
      "outputs": [
        {
          "output_type": "execute_result",
          "data": {
            "text/plain": [
              "device(type='cuda')"
            ]
          },
          "metadata": {},
          "execution_count": 3
        }
      ]
    },
    {
      "cell_type": "code",
      "metadata": {
        "id": "L_Wv-4bu83Fl"
      },
      "source": [
        "data = pd.read_csv(\"training.1600000.processed.noemoticon.csv\", encoding=\"latin\", header=None, names=[\"emotion\", \"id\", \"date\", \"flag\", \"user\", \"text\"])"
      ],
      "execution_count": 4,
      "outputs": []
    },
    {
      "cell_type": "markdown",
      "metadata": {
        "id": "RY1pvYDS3Yuj"
      },
      "source": [
        "Посмотрим на данные:"
      ]
    },
    {
      "cell_type": "code",
      "metadata": {
        "id": "jST2tjgjCTWD"
      },
      "source": [
        "data.head()"
      ],
      "execution_count": 5,
      "outputs": [
        {
          "output_type": "execute_result",
          "data": {
            "text/plain": [
              "   emotion          id                          date      flag  \\\n",
              "0        0  1467810369  Mon Apr 06 22:19:45 PDT 2009  NO_QUERY   \n",
              "1        0  1467810672  Mon Apr 06 22:19:49 PDT 2009  NO_QUERY   \n",
              "2        0  1467810917  Mon Apr 06 22:19:53 PDT 2009  NO_QUERY   \n",
              "3        0  1467811184  Mon Apr 06 22:19:57 PDT 2009  NO_QUERY   \n",
              "4        0  1467811193  Mon Apr 06 22:19:57 PDT 2009  NO_QUERY   \n",
              "\n",
              "              user                                               text  \n",
              "0  _TheSpecialOne_  @switchfoot http://twitpic.com/2y1zl - Awww, t...  \n",
              "1    scotthamilton  is upset that he can't update his Facebook by ...  \n",
              "2         mattycus  @Kenichan I dived many times for the ball. Man...  \n",
              "3          ElleCTF    my whole body feels itchy and like its on fire   \n",
              "4           Karoli  @nationwideclass no, it's not behaving at all....  "
            ],
            "text/html": "<div>\n<style scoped>\n    .dataframe tbody tr th:only-of-type {\n        vertical-align: middle;\n    }\n\n    .dataframe tbody tr th {\n        vertical-align: top;\n    }\n\n    .dataframe thead th {\n        text-align: right;\n    }\n</style>\n<table border=\"1\" class=\"dataframe\">\n  <thead>\n    <tr style=\"text-align: right;\">\n      <th></th>\n      <th>emotion</th>\n      <th>id</th>\n      <th>date</th>\n      <th>flag</th>\n      <th>user</th>\n      <th>text</th>\n    </tr>\n  </thead>\n  <tbody>\n    <tr>\n      <th>0</th>\n      <td>0</td>\n      <td>1467810369</td>\n      <td>Mon Apr 06 22:19:45 PDT 2009</td>\n      <td>NO_QUERY</td>\n      <td>_TheSpecialOne_</td>\n      <td>@switchfoot http://twitpic.com/2y1zl - Awww, t...</td>\n    </tr>\n    <tr>\n      <th>1</th>\n      <td>0</td>\n      <td>1467810672</td>\n      <td>Mon Apr 06 22:19:49 PDT 2009</td>\n      <td>NO_QUERY</td>\n      <td>scotthamilton</td>\n      <td>is upset that he can't update his Facebook by ...</td>\n    </tr>\n    <tr>\n      <th>2</th>\n      <td>0</td>\n      <td>1467810917</td>\n      <td>Mon Apr 06 22:19:53 PDT 2009</td>\n      <td>NO_QUERY</td>\n      <td>mattycus</td>\n      <td>@Kenichan I dived many times for the ball. Man...</td>\n    </tr>\n    <tr>\n      <th>3</th>\n      <td>0</td>\n      <td>1467811184</td>\n      <td>Mon Apr 06 22:19:57 PDT 2009</td>\n      <td>NO_QUERY</td>\n      <td>ElleCTF</td>\n      <td>my whole body feels itchy and like its on fire</td>\n    </tr>\n    <tr>\n      <th>4</th>\n      <td>0</td>\n      <td>1467811193</td>\n      <td>Mon Apr 06 22:19:57 PDT 2009</td>\n      <td>NO_QUERY</td>\n      <td>Karoli</td>\n      <td>@nationwideclass no, it's not behaving at all....</td>\n    </tr>\n  </tbody>\n</table>\n</div>"
          },
          "metadata": {},
          "execution_count": 5
        }
      ]
    },
    {
      "cell_type": "markdown",
      "metadata": {
        "id": "OhbR5JJyA2VW"
      },
      "source": [
        "Выведем несколько примеров твитов, чтобы понимать, с чем мы имеем дело:"
      ]
    },
    {
      "cell_type": "code",
      "metadata": {
        "id": "kCBwe0wR83C2"
      },
      "source": [
        "examples = data[\"text\"].sample(10)\n",
        "print(\"\\n\".join(examples))"
      ],
      "execution_count": 6,
      "outputs": [
        {
          "output_type": "stream",
          "name": "stdout",
          "text": [
            "@chrishasboobs AHHH I HOPE YOUR OK!!! \n@misstoriblack cool , i have no tweet apps  for my razr 2\n@TiannaChaos i know  just family drama. its lame.hey next time u hang out with kim n u guys like have a sleepover or whatever, ill call u\nSchool email won't open  and I have geography stuff on there to revise! *Stupid School* :'(\nupper airways problem \nGoing to miss Pastor's sermon on Faith... \non lunch....dj should come eat with me \n@piginthepoke oh why are you feeling like that? \ngahh noo!peyton needs to live!this is horrible \n@mrstessyman thank you glad you like it! There is a product review bit on the site  Enjoy knitting it!\n"
          ]
        }
      ]
    },
    {
      "cell_type": "markdown",
      "metadata": {
        "id": "GvcYW8aX3mKt"
      },
      "source": [
        "Как вилим, тексты твитов очень \"грязные\". Нужно предобработать датасет, прежде чем строить для него модель классификации.\n",
        "\n",
        "Чтобы сравнивать различные методы обработки текста/модели/прочее, разделим датасет на dev(для обучения модели) и test(для получения качества модели)."
      ]
    },
    {
      "cell_type": "code",
      "metadata": {
        "id": "f8hUK-jnQg6O"
      },
      "source": [
        "indexes = np.arange(data.shape[0])\n",
        "np.random.shuffle(indexes)\n",
        "dev_size = math.ceil(data.shape[0] * 0.8)\n",
        "\n",
        "dev_indexes = indexes[:dev_size]\n",
        "test_indexes = indexes[dev_size:]\n",
        "\n",
        "dev_data = data.iloc[dev_indexes]\n",
        "test_data = data.iloc[test_indexes]\n",
        "\n",
        "dev_data.reset_index(drop=True, inplace=True)\n",
        "test_data.reset_index(drop=True, inplace=True)"
      ],
      "execution_count": 7,
      "outputs": []
    },
    {
      "cell_type": "markdown",
      "metadata": {
        "id": "6ivcpeFoCnZA"
      },
      "source": [
        "## Обработка текста"
      ]
    },
    {
      "cell_type": "markdown",
      "metadata": {
        "id": "Df4nca285Dar"
      },
      "source": [
        "Токенизируем текст, избавимся от знаков пунктуации и выкинем все слова, состоящие менее чем из 4 букв:"
      ]
    },
    {
      "cell_type": "code",
      "metadata": {
        "id": "nsNHNDES9ZVF"
      },
      "source": [
        "tokenizer = nltk.WordPunctTokenizer()\n",
        "line = tokenizer.tokenize(dev_data[\"text\"][0].lower())\n",
        "print(\" \".join(line))"
      ],
      "execution_count": 8,
      "outputs": [
        {
          "output_type": "stream",
          "name": "stdout",
          "text": [
            "@ claire_nelson i ' m on the north devon coast the next few weeks will be down in devon again in may sometime i hope though !\n"
          ]
        }
      ]
    },
    {
      "cell_type": "code",
      "metadata": {
        "id": "GcBS_u_hTuxp"
      },
      "source": [
        "filtered_line = [w for w in line if all(c not in string.punctuation for c in w) and len(w) > 3]\n",
        "print(\" \".join(filtered_line))"
      ],
      "execution_count": 9,
      "outputs": [
        {
          "output_type": "stream",
          "name": "stdout",
          "text": [
            "north devon coast next weeks will down devon again sometime hope though\n"
          ]
        }
      ]
    },
    {
      "cell_type": "markdown",
      "metadata": {
        "id": "cuFmlXkC6E7X"
      },
      "source": [
        "Загрузим предобученную модель эмбеддингов. \n",
        "\n",
        "Если хотите, можно попробовать другую. Полный список можно найти здесь: https://github.com/RaRe-Technologies/gensim-data.\n",
        "\n",
        "Данная модель выдает эмбеддинги для **слов**. Строить по эмбеддингам слов эмбеддинги предложений мы будем ниже."
      ]
    },
    {
      "cell_type": "code",
      "metadata": {
        "id": "cACJpje2T5bc"
      },
      "source": [
        "word2vec = api.load(\"word2vec-google-news-300\")"
      ],
      "execution_count": 10,
      "outputs": [
        {
          "output_type": "stream",
          "name": "stderr",
          "text": [
            "C:\\Users\\user0\\anaconda3\\envs\\custom\\lib\\site-packages\\gensim\\models\\keyedvectors.py:1547: ResourceWarning: unclosed file <_io.BufferedReader name='C:\\\\Users\\\\user0/gensim-data\\\\word2vec-google-news-300\\\\word2vec-google-news-300.gz'>\n  return _load_word2vec_format(\nResourceWarning: Enable tracemalloc to get the object allocation traceback\n"
          ]
        }
      ]
    },
    {
      "cell_type": "code",
      "metadata": {
        "id": "NafmYHrkT5YD"
      },
      "source": [
        "emb_line = [word2vec.get_vector(w) for w in filtered_line if w in word2vec]\n",
        "print(sum(emb_line).shape)"
      ],
      "execution_count": 11,
      "outputs": [
        {
          "output_type": "stream",
          "name": "stdout",
          "text": [
            "(300,)\n"
          ]
        }
      ]
    },
    {
      "cell_type": "markdown",
      "metadata": {
        "id": "LTS6LCkd6_E7"
      },
      "source": [
        "Нормализуем эмбеддинги, прежде чем обучать на них сеть. \n",
        "(наверное, вы помните, что нейронные сети гораздо лучше обучаются на нормализованных данных)"
      ]
    },
    {
      "cell_type": "code",
      "metadata": {
        "id": "3PyLTZ6xf3Oq"
      },
      "source": [
        "w2v_mean = np.mean(word2vec.vectors, 0)\n",
        "w2v_std = np.std(word2vec.vectors, 0)\n",
        "norm_emb_line = [(word2vec.get_vector(w) - w2v_mean) / w2v_std for w in filtered_line if w in word2vec and len(w) > 3]\n",
        "print(sum(norm_emb_line).shape)\n",
        "print([all(norm_emb_line[i] == emb_line[i]) for i in range(len(emb_line))])"
      ],
      "execution_count": 12,
      "outputs": [
        {
          "output_type": "stream",
          "name": "stdout",
          "text": [
            "(300,)\n[False, False, False, False, False, False, False, False, False, False, False, False]\n"
          ]
        }
      ]
    },
    {
      "cell_type": "markdown",
      "metadata": {
        "id": "q7vm6Ppd7Ubw"
      },
      "source": [
        "Сделаем датасет, который будет по запросу возвращать подготовленные данные."
      ]
    },
    {
      "cell_type": "code",
      "metadata": {
        "id": "b4eZajF7pZ1X"
      },
      "source": [
        "from torch.utils.data import Dataset\n",
        "\n",
        "\n",
        "class TwitterDataset(Dataset):\n",
        "    def __init__(self, data: pd.DataFrame, feature_column: str, target_column: str, word2vec: gensim.models.Word2Vec):\n",
        "        self.tokenizer = nltk.WordPunctTokenizer()\n",
        "        \n",
        "        self.data = data\n",
        "\n",
        "        self.feature_column = feature_column\n",
        "        self.target_column = target_column\n",
        "\n",
        "        self.word2vec = word2vec\n",
        "\n",
        "        self.label2num = lambda label: 0 if label == 0 else 1\n",
        "        self.mean = np.mean(word2vec.vectors, axis=0)\n",
        "        self.std = np.std(word2vec.vectors, axis=0)\n",
        "\n",
        "    def __getitem__(self, item):\n",
        "        text = self.data[self.feature_column][item]\n",
        "        label = self.label2num(self.data[self.target_column][item])\n",
        "\n",
        "        tokens = self.get_tokens_(text)\n",
        "        embeddings = self.get_embeddings_(tokens)\n",
        "\n",
        "        return {\"feature\": embeddings, \"target\": label}\n",
        "\n",
        "    def get_tokens_(self, text):\n",
        "        # Получи все токены из текста и профильтруй их\n",
        "        return  [w for w in self.tokenizer.tokenize(text.lower()) if all(c not in string.punctuation for c in w) and len(w) > 3]\n",
        "\n",
        "    def get_embeddings_(self, tokens):\n",
        "        # Получи эмбеддинги слов и усредни их\n",
        "        embeddings = [(self.word2vec[tok] - self.mean) / self.std for tok in tokens if tok in self.word2vec] \n",
        "\n",
        "        if len(embeddings) == 0:\n",
        "            embeddings = np.zeros((1, self.word2vec.vector_size))\n",
        "        else:\n",
        "            embeddings = np.array(embeddings)\n",
        "            if len(embeddings.shape) == 1:\n",
        "                embeddings = embeddings.reshape(-1, 1)\n",
        "\n",
        "        return embeddings\n",
        "\n",
        "    def __len__(self):\n",
        "        return self.data.shape[0]"
      ],
      "execution_count": 13,
      "outputs": []
    },
    {
      "cell_type": "code",
      "metadata": {
        "id": "IZJpttbXpZyz"
      },
      "source": [
        "%%time\n",
        "dev = TwitterDataset(dev_data, \"text\", \"emotion\", word2vec)"
      ],
      "execution_count": 14,
      "outputs": [
        {
          "output_type": "stream",
          "name": "stdout",
          "text": [
            "Wall time: 2min 10s\n"
          ]
        }
      ]
    },
    {
      "cell_type": "code",
      "execution_count": 15,
      "metadata": {},
      "outputs": [
        {
          "output_type": "stream",
          "name": "stderr",
          "text": [
            "[nltk_data] Downloading package stopwords to\n[nltk_data]     C:\\Users\\user0\\AppData\\Roaming\\nltk_data...\n[nltk_data]   Package stopwords is already up-to-date!\n"
          ]
        }
      ],
      "source": [
        "import re\n",
        "\n",
        "import gensim\n",
        "import nltk\n",
        "import numpy as np\n",
        "from torch.utils.data import Dataset\n",
        "from tqdm.notebook import tqdm\n",
        "\n",
        "nltk.download('stopwords')\n",
        "stop_words = nltk.corpus.stopwords.words('english')\n",
        "\n",
        "# \"\\w+\" pattern is a full equivalent of\n",
        "# nltk.tokenize.wordpunct_tokenize() + filtering punctuation\n",
        "def text_to_tokens(text):\n",
        "    return [tok for tok in re.findall(r\"\\w+\", text.lower()) if tok not in stop_words]\n",
        "\n",
        "\n",
        "class SlightlyMoreComputationallyEfficientDataset(Dataset):\n",
        "    def __init__(\n",
        "        self, texts, labels,\n",
        "        word2vec: gensim.models.Word2Vec, w2v_mean=None, w2v_std=None,\n",
        "        tokenizer=text_to_tokens, **_init_features_w2v_embeddings_kwargs\n",
        "    ):\n",
        "        super().__init__()\n",
        "        self._no_missing_embeddings = False\n",
        "        self._embedding_dim = word2vec.vector_size\n",
        "        self._embedding_dtype = word2vec.vectors.dtype\n",
        "        self._tokenizer = tokenizer\n",
        "        if w2v_mean is None:\n",
        "            self._w2v_mean = np.mean(word2vec.vectors, axis=0)\n",
        "        else:\n",
        "            self._w2v_mean = w2v_mean\n",
        "        if w2v_std is None:\n",
        "            self._w2v_std = np.std(word2vec.vectors, axis=0)\n",
        "        else:\n",
        "            self._w2v_std = w2v_std\n",
        "        self._init_features_w2v_embeddings(\n",
        "            texts, word2vec, **_init_features_w2v_embeddings_kwargs)\n",
        "        self._init_targets(labels)\n",
        "\n",
        "    def _get_tokens(self, text):\n",
        "        return self._tokenizer(text)\n",
        "\n",
        "    def _init_targets(self, labels):\n",
        "        targets = []\n",
        "        label2target = {}\n",
        "        target2label = {}\n",
        "        for target, label in enumerate(sorted(set(labels))):\n",
        "            target2label[target] = label\n",
        "            label2target[label] = target\n",
        "        targets = [label2target[label] for label in labels]\n",
        "        self._targets = targets\n",
        "        self.label2target = label2target\n",
        "        self.target2label = target2label\n",
        "\n",
        "    def _init_features_w2v_embeddings(\n",
        "            self, features, word2vec):\n",
        "\n",
        "        # used as single stub token for text in which no proper tokens found\n",
        "        shared_zero_embedding = np.zeros(\n",
        "            self._embedding_dim, dtype=self._embedding_dtype)\n",
        "        shared_zero_embedding_index = 0\n",
        "\n",
        "        # Stores token embeddings:\n",
        "        embeddings = [shared_zero_embedding]\n",
        "        # Stores lists of token embedding indexes, one list for each text:\n",
        "        embeddings_indexes = []\n",
        "\n",
        "        token2index = {}\n",
        "\n",
        "        for text in tqdm(features, desc=\"processing texts\", postfix=\"gathering embeddings for tokens\"):\n",
        "            tokens = self._get_tokens(text)\n",
        "\n",
        "            if not tokens:  # text are empty for us, no way to do something else\n",
        "                embeddings_indexes.append([shared_zero_embedding_index])\n",
        "                continue\n",
        "\n",
        "            indexes = []\n",
        "            for tok in tokens:\n",
        "                if tok in token2index:\n",
        "                    indexes.append(token2index[tok])\n",
        "                elif tok in word2vec:\n",
        "                    new_embedding = (\n",
        "                        word2vec[tok] - self._w2v_mean) / self._w2v_std\n",
        "                    assert new_embedding.shape == (\n",
        "                        self._embedding_dim,), new_embedding.shape\n",
        "                    embeddings.append(new_embedding)\n",
        "                    new_index = len(embeddings) - 1\n",
        "                    token2index[tok] = new_index\n",
        "                    indexes.append(new_index)\n",
        "                else:\n",
        "                    indexes.append(None)\n",
        "            embeddings_indexes.append(indexes)\n",
        "\n",
        "        embeddings = np.array(embeddings)\n",
        "        assert len(\n",
        "            embeddings.shape) == 2 and embeddings.shape[-1] == self._embedding_dim, embeddings.shape\n",
        "        self._features_w2v_embeddings_indexes = embeddings_indexes\n",
        "        self._features_w2v_embeddings = embeddings\n",
        "        self._shared_zero_embedding_index = shared_zero_embedding_index\n",
        "\n",
        "    def _get_features_w2v_embeddings(self, indexes):\n",
        "        if self._no_missing_embeddings:\n",
        "            embeddings = self._features_w2v_embeddings[indexes]\n",
        "            assert embeddings.shape[0] != 0, (indexes, embeddings.shape)\n",
        "        else:\n",
        "            embeddings = [self._features_w2v_embeddings[idx]\n",
        "                          for idx in indexes if idx is not None]\n",
        "            if not embeddings:\n",
        "                embeddings = [\n",
        "                    self._features_w2v_embeddings[self._shared_zero_embedding_index]]\n",
        "            embeddings = np.array(embeddings)\n",
        "        assert len(\n",
        "            embeddings.shape) == 2 and embeddings.shape[-1] == self._embedding_dim, (indexes, embeddings.shape)\n",
        "        return embeddings\n",
        "\n",
        "    def __getitem__(self, item):\n",
        "        if isinstance(item, int):\n",
        "            indexes = self._features_w2v_embeddings_indexes[item]\n",
        "            embeddings = self._get_features_w2v_embeddings(indexes)\n",
        "        else:\n",
        "            embeddings = []\n",
        "            for indexes in self._features_w2v_embeddings_indexes[item]:\n",
        "                embeddings.append(self._get_features_w2v_embeddings(indexes))\n",
        "        target = self._targets[item]\n",
        "        return {\"feature\": embeddings, \"target\": target}\n",
        "\n",
        "    def __len__(self):\n",
        "        return len(self._features_w2v_embeddings_indexes)"
      ]
    },
    {
      "cell_type": "code",
      "execution_count": 16,
      "metadata": {},
      "outputs": [],
      "source": [
        "import math\n",
        "import time\n",
        "\n",
        "import pandas as pd\n",
        "import numpy as np\n",
        "\n",
        "\n",
        "def prepare_and_split_data(\n",
        "        data=\"training.1600000.processed.noemoticon.csv\",\n",
        "        feature_col=\"text\", target_col=\"emotion\",\n",
        "        valid_part=0.2, test_part=0.2, reproducibility=True):\n",
        "    \n",
        "    valid_part = 0 if valid_part is None else valid_part\n",
        "    test_part = 0 if test_part is None else test_part\n",
        "\n",
        "    if valid_part < 0 or test_part < 0 or (valid_part + test_part) > 1:\n",
        "        raise ValueError\n",
        "\n",
        "    if isinstance(data, str):\n",
        "        print(f\"Loading data from {data}...\", flush=True)\n",
        "        start = time.time()\n",
        "        data = pd.read_csv(data, encoding=\"latin\", header=None, names=[\n",
        "                           \"emotion\", \"id\", \"date\", \"flag\", \"user\", \"text\"])\n",
        "        print(f\"Data loaded. Time spent: {time.time() - start}.\", flush=True)\n",
        "\n",
        "    if reproducibility:\n",
        "        enable_reproducibility()\n",
        "\n",
        "    data = data[[feature_col, target_col]]\n",
        "    data_size = len(data)\n",
        "    indexes = np.arange(data_size)\n",
        "    np.random.shuffle(indexes)\n",
        "\n",
        "    res = dict.fromkeys((\"train_features\", \"train_targets\",\n",
        "                         \"valid_features\", \"valid_targets\",\n",
        "                         \"test_features\", \"test_targets\"))\n",
        "\n",
        "    if test_part > 0:\n",
        "        test_size = math.ceil(data_size * test_part)\n",
        "        test = data.iloc[indexes[:test_size]]\n",
        "        indexes = indexes[test_size:]\n",
        "        res[\"test_features\"], res[\"test_targets\"] = test[feature_col], test[target_col]\n",
        "    if valid_part > 0:\n",
        "        valid_size = math.ceil(data_size * valid_part)\n",
        "        valid = data.iloc[indexes[:valid_size]]\n",
        "        indexes = indexes[valid_size:]\n",
        "        res[\"valid_features\"], res[\"valid_targets\"] = valid[feature_col], valid[target_col]\n",
        "\n",
        "    train = data.iloc[indexes]\n",
        "    res[\"train_features\"], res[\"train_targets\"] = train[feature_col], train[target_col]\n",
        "    \n",
        "    return res"
      ]
    },
    {
      "cell_type": "code",
      "execution_count": 17,
      "metadata": {},
      "outputs": [],
      "source": [
        "def create_datasets(\n",
        "        dataset_cls,\n",
        "        train_features=None, train_targets=None,\n",
        "        valid_features=None, valid_targets=None,\n",
        "        test_features=None, test_targets=None,\n",
        "        reproducibility=True,\n",
        "        datasets_kwargs=None):\n",
        "\n",
        "    res = dict.fromkeys((\"train_dataset\", \"valid_dataset\", \"test_dataset\"))\n",
        "\n",
        "    locals_ = locals()\n",
        "    for name in (\"train\", \"valid\", \"test\"):\n",
        "        features = locals_[f\"{name}_features\"]\n",
        "        if features is None:\n",
        "            continue\n",
        "        if datasets_kwargs is not None:\n",
        "            kwargs = datasets_kwargs.get(name, {})\n",
        "        targets = locals_[f\"{name}_targets\"]\n",
        "        print(f\"Creating {name} dataset...\", end='\\n\\n', flush=True)\n",
        "        start = time.time()\n",
        "        if reproducibility:\n",
        "            enable_reproducibility()\n",
        "        res[f\"{name}_dataset\"] = dataset_cls(features, targets, **kwargs)\n",
        "        print(f\"{name.title()} dataset created. \"\n",
        "              f\"Time spent: {time.time() - start}.\", flush=True)\n",
        "\n",
        "    return res"
      ]
    },
    {
      "cell_type": "code",
      "execution_count": 18,
      "metadata": {},
      "outputs": [],
      "source": [
        "def create_dataloaders(\n",
        "        collate_fn,\n",
        "        train_dataset=None, valid_dataset=None, test_dataset=None,\n",
        "        batch_size=1024, workers_num=0, pin_memory=False,\n",
        "        dataloaders_params=None, update_default_dataloaders_params=True,\n",
        "        reproducibility=True):\n",
        "    \n",
        "    res = dict.fromkeys((\"train_dataloader\", \"valid_dataloader\", \"test_dataloader\"))\n",
        "    \n",
        "    default_dataloaders_params = {\n",
        "        \"train\": dict(\n",
        "            shuffle=True, drop_last=True,\n",
        "            batch_size=batch_size, num_workers=workers_num,\n",
        "            collate_fn=collate_fn, pin_memory=pin_memory),\n",
        "        \"valid\": dict(\n",
        "            shuffle=False, drop_last=False,\n",
        "            batch_size=batch_size, num_workers=workers_num,\n",
        "            collate_fn=collate_fn, pin_memory=pin_memory),\n",
        "        \"test\": dict(\n",
        "            shuffle=False, drop_last=False,\n",
        "            batch_size=batch_size, num_workers=workers_num,\n",
        "            collate_fn=collate_fn, pin_memory=pin_memory)\n",
        "    }\n",
        "    \n",
        "    locals_ = locals()\n",
        "    for name in (\"train\", \"valid\", \"test\"):\n",
        "        dataset = locals_[f\"{name}_dataset\"]\n",
        "        if dataset is None:\n",
        "            continue\n",
        "        params = default_dataloaders_params[name]\n",
        "        if dataloaders_params is None:\n",
        "            passed_params = None\n",
        "        else:\n",
        "            passed_params = dataloaders_params.get(name)\n",
        "        if passed_params is not None:\n",
        "            if update_default_dataloaders_params:\n",
        "                params.update(passed_params)\n",
        "            else:\n",
        "                params = passed_params\n",
        "        if reproducibility:\n",
        "            enable_reproducibility()\n",
        "        res[f\"{name}_dataloader\"] = DataLoader(dataset, **params)\n",
        "\n",
        "    return res"
      ]
    },
    {
      "cell_type": "markdown",
      "metadata": {
        "id": "Sr-aetH0_LH1"
      },
      "source": [
        "Отлично, мы готовы с помощью эмбеддингов слов превращать твиты в векторы и обучать нейронную сеть.\n",
        "\n",
        "Превращать твиты в векторы, используя эмбеддинги слов, можно несколькими способами. А именно такими:"
      ]
    },
    {
      "cell_type": "markdown",
      "metadata": {
        "id": "4AhHrWa196Yc"
      },
      "source": [
        "## Average embedding (2 балла)\n",
        "---\n",
        "Это самый простой вариант, как получить вектор предложения, используя векторные представления слов в предложении. А именно: вектор предложения есть средний вектор всех слов в предлоежнии (которые остались после токенизации и удаления коротких слов, конечно). "
      ]
    },
    {
      "cell_type": "code",
      "metadata": {
        "id": "ScdokSW-994t"
      },
      "source": [
        "indexes = np.arange(len(dev))\n",
        "np.random.shuffle(indexes)\n",
        "example_indexes = indexes[::1000]\n",
        "\n",
        "examples = {\"features\": [np.sum(dev[i][\"feature\"], axis=0) for i in example_indexes], \n",
        "            \"targets\": [dev[i][\"target\"] for i in example_indexes]}\n",
        "print(len(examples[\"features\"]))"
      ],
      "execution_count": 19,
      "outputs": [
        {
          "output_type": "stream",
          "name": "stdout",
          "text": [
            "1280\n"
          ]
        }
      ]
    },
    {
      "cell_type": "markdown",
      "metadata": {
        "id": "1yGQ_lOx_1NL"
      },
      "source": [
        "Давайте сделаем визуализацию полученных векторов твитов тренировочного (dev) датасета. Так мы увидим, насколько хорошо твиты с разными target значениями отделяются друг от друга, т.е. насколько хорошо усреднение эмбеддингов слов предложения передает информацию о предложении."
      ]
    },
    {
      "cell_type": "markdown",
      "metadata": {
        "id": "LZwFksd_8uYO"
      },
      "source": [
        "Для визуализации векторов надо получить их проекцию на плоскость. Сделаем это с помощью `PCA`. Если хотите, можете вместо PCA использовать TSNE: так у вас получится более точная проекция на плоскость (а значит, более информативная, т.е. отражающая реальное положение векторов твитов в пространстве). Но TSNE будет работать намного дольше."
      ]
    },
    {
      "cell_type": "code",
      "metadata": {
        "id": "aKFZRSHdtIac"
      },
      "source": [
        "from sklearn.decomposition import PCA\n",
        "\n",
        "\n",
        "pca = PCA(n_components=2)\n",
        "# Обучи PCA на эмбеддингах слов\n",
        "examples[\"transformed_features\"] = pca.fit_transform(examples[\"features\"])"
      ],
      "execution_count": 20,
      "outputs": []
    },
    {
      "cell_type": "code",
      "metadata": {
        "id": "szEOWdiNtIX8"
      },
      "source": [
        "import bokeh.models as bm, bokeh.plotting as pl\n",
        "from bokeh.io import output_notebook\n",
        "output_notebook()\n",
        "\n",
        "def draw_vectors(x, y, radius=10, alpha=0.25, color='blue',\n",
        "                 width=600, height=400, show=True, **kwargs):\n",
        "    \"\"\" draws an interactive plot for data points with auxilirary info on hover \"\"\"\n",
        "    data_source = bm.ColumnDataSource({ 'x' : x, 'y' : y, 'color': color, **kwargs })\n",
        "\n",
        "    fig = pl.figure(active_scroll='wheel_zoom', width=width, height=height)\n",
        "    fig.scatter('x', 'y', size=radius, color='color', alpha=alpha, source=data_source)\n",
        "\n",
        "    fig.add_tools(bm.HoverTool(tooltips=[(key, \"@\" + key) for key in kwargs.keys()]))\n",
        "    if show: pl.show(fig)\n",
        "    return fig"
      ],
      "execution_count": 21,
      "outputs": [
        {
          "output_type": "display_data",
          "data": {
            "text/html": "\n    <div class=\"bk-root\">\n        <a href=\"https://bokeh.org\" target=\"_blank\" class=\"bk-logo bk-logo-small bk-logo-notebook\"></a>\n        <span id=\"1001\">Loading BokehJS ...</span>\n    </div>"
          },
          "metadata": {}
        },
        {
          "output_type": "display_data",
          "data": {
            "application/javascript": "\n(function(root) {\n  function now() {\n    return new Date();\n  }\n\n  var force = true;\n\n  if (typeof root._bokeh_onload_callbacks === \"undefined\" || force === true) {\n    root._bokeh_onload_callbacks = [];\n    root._bokeh_is_loading = undefined;\n  }\n\n  var JS_MIME_TYPE = 'application/javascript';\n  var HTML_MIME_TYPE = 'text/html';\n  var EXEC_MIME_TYPE = 'application/vnd.bokehjs_exec.v0+json';\n  var CLASS_NAME = 'output_bokeh rendered_html';\n\n  /**\n   * Render data to the DOM node\n   */\n  function render(props, node) {\n    var script = document.createElement(\"script\");\n    node.appendChild(script);\n  }\n\n  /**\n   * Handle when an output is cleared or removed\n   */\n  function handleClearOutput(event, handle) {\n    var cell = handle.cell;\n\n    var id = cell.output_area._bokeh_element_id;\n    var server_id = cell.output_area._bokeh_server_id;\n    // Clean up Bokeh references\n    if (id != null && id in Bokeh.index) {\n      Bokeh.index[id].model.document.clear();\n      delete Bokeh.index[id];\n    }\n\n    if (server_id !== undefined) {\n      // Clean up Bokeh references\n      var cmd = \"from bokeh.io.state import curstate; print(curstate().uuid_to_server['\" + server_id + \"'].get_sessions()[0].document.roots[0]._id)\";\n      cell.notebook.kernel.execute(cmd, {\n        iopub: {\n          output: function(msg) {\n            var id = msg.content.text.trim();\n            if (id in Bokeh.index) {\n              Bokeh.index[id].model.document.clear();\n              delete Bokeh.index[id];\n            }\n          }\n        }\n      });\n      // Destroy server and session\n      var cmd = \"import bokeh.io.notebook as ion; ion.destroy_server('\" + server_id + \"')\";\n      cell.notebook.kernel.execute(cmd);\n    }\n  }\n\n  /**\n   * Handle when a new output is added\n   */\n  function handleAddOutput(event, handle) {\n    var output_area = handle.output_area;\n    var output = handle.output;\n\n    // limit handleAddOutput to display_data with EXEC_MIME_TYPE content only\n    if ((output.output_type != \"display_data\") || (!output.data.hasOwnProperty(EXEC_MIME_TYPE))) {\n      return\n    }\n\n    var toinsert = output_area.element.find(\".\" + CLASS_NAME.split(' ')[0]);\n\n    if (output.metadata[EXEC_MIME_TYPE][\"id\"] !== undefined) {\n      toinsert[toinsert.length - 1].firstChild.textContent = output.data[JS_MIME_TYPE];\n      // store reference to embed id on output_area\n      output_area._bokeh_element_id = output.metadata[EXEC_MIME_TYPE][\"id\"];\n    }\n    if (output.metadata[EXEC_MIME_TYPE][\"server_id\"] !== undefined) {\n      var bk_div = document.createElement(\"div\");\n      bk_div.innerHTML = output.data[HTML_MIME_TYPE];\n      var script_attrs = bk_div.children[0].attributes;\n      for (var i = 0; i < script_attrs.length; i++) {\n        toinsert[toinsert.length - 1].firstChild.setAttribute(script_attrs[i].name, script_attrs[i].value);\n        toinsert[toinsert.length - 1].firstChild.textContent = bk_div.children[0].textContent\n      }\n      // store reference to server id on output_area\n      output_area._bokeh_server_id = output.metadata[EXEC_MIME_TYPE][\"server_id\"];\n    }\n  }\n\n  function register_renderer(events, OutputArea) {\n\n    function append_mime(data, metadata, element) {\n      // create a DOM node to render to\n      var toinsert = this.create_output_subarea(\n        metadata,\n        CLASS_NAME,\n        EXEC_MIME_TYPE\n      );\n      this.keyboard_manager.register_events(toinsert);\n      // Render to node\n      var props = {data: data, metadata: metadata[EXEC_MIME_TYPE]};\n      render(props, toinsert[toinsert.length - 1]);\n      element.append(toinsert);\n      return toinsert\n    }\n\n    /* Handle when an output is cleared or removed */\n    events.on('clear_output.CodeCell', handleClearOutput);\n    events.on('delete.Cell', handleClearOutput);\n\n    /* Handle when a new output is added */\n    events.on('output_added.OutputArea', handleAddOutput);\n\n    /**\n     * Register the mime type and append_mime function with output_area\n     */\n    OutputArea.prototype.register_mime_type(EXEC_MIME_TYPE, append_mime, {\n      /* Is output safe? */\n      safe: true,\n      /* Index of renderer in `output_area.display_order` */\n      index: 0\n    });\n  }\n\n  // register the mime type if in Jupyter Notebook environment and previously unregistered\n  if (root.Jupyter !== undefined) {\n    var events = require('base/js/events');\n    var OutputArea = require('notebook/js/outputarea').OutputArea;\n\n    if (OutputArea.prototype.mime_types().indexOf(EXEC_MIME_TYPE) == -1) {\n      register_renderer(events, OutputArea);\n    }\n  }\n\n  \n  if (typeof (root._bokeh_timeout) === \"undefined\" || force === true) {\n    root._bokeh_timeout = Date.now() + 5000;\n    root._bokeh_failed_load = false;\n  }\n\n  var NB_LOAD_WARNING = {'data': {'text/html':\n     \"<div style='background-color: #fdd'>\\n\"+\n     \"<p>\\n\"+\n     \"BokehJS does not appear to have successfully loaded. If loading BokehJS from CDN, this \\n\"+\n     \"may be due to a slow or bad network connection. Possible fixes:\\n\"+\n     \"</p>\\n\"+\n     \"<ul>\\n\"+\n     \"<li>re-rerun `output_notebook()` to attempt to load from CDN again, or</li>\\n\"+\n     \"<li>use INLINE resources instead, as so:</li>\\n\"+\n     \"</ul>\\n\"+\n     \"<code>\\n\"+\n     \"from bokeh.resources import INLINE\\n\"+\n     \"output_notebook(resources=INLINE)\\n\"+\n     \"</code>\\n\"+\n     \"</div>\"}};\n\n  function display_loaded() {\n    var el = document.getElementById(\"1001\");\n    if (el != null) {\n      el.textContent = \"BokehJS is loading...\";\n    }\n    if (root.Bokeh !== undefined) {\n      if (el != null) {\n        el.textContent = \"BokehJS \" + root.Bokeh.version + \" successfully loaded.\";\n      }\n    } else if (Date.now() < root._bokeh_timeout) {\n      setTimeout(display_loaded, 100)\n    }\n  }\n\n\n  function run_callbacks() {\n    try {\n      root._bokeh_onload_callbacks.forEach(function(callback) {\n        if (callback != null)\n          callback();\n      });\n    } finally {\n      delete root._bokeh_onload_callbacks\n    }\n    console.debug(\"Bokeh: all callbacks have finished\");\n  }\n\n  function load_libs(css_urls, js_urls, callback) {\n    if (css_urls == null) css_urls = [];\n    if (js_urls == null) js_urls = [];\n\n    root._bokeh_onload_callbacks.push(callback);\n    if (root._bokeh_is_loading > 0) {\n      console.debug(\"Bokeh: BokehJS is being loaded, scheduling callback at\", now());\n      return null;\n    }\n    if (js_urls == null || js_urls.length === 0) {\n      run_callbacks();\n      return null;\n    }\n    console.debug(\"Bokeh: BokehJS not loaded, scheduling load and callback at\", now());\n    root._bokeh_is_loading = css_urls.length + js_urls.length;\n\n    function on_load() {\n      root._bokeh_is_loading--;\n      if (root._bokeh_is_loading === 0) {\n        console.debug(\"Bokeh: all BokehJS libraries/stylesheets loaded\");\n        run_callbacks()\n      }\n    }\n\n    function on_error() {\n      console.error(\"failed to load \" + url);\n    }\n\n    for (var i = 0; i < css_urls.length; i++) {\n      var url = css_urls[i];\n      const element = document.createElement(\"link\");\n      element.onload = on_load;\n      element.onerror = on_error;\n      element.rel = \"stylesheet\";\n      element.type = \"text/css\";\n      element.href = url;\n      console.debug(\"Bokeh: injecting link tag for BokehJS stylesheet: \", url);\n      document.body.appendChild(element);\n    }\n\n    const hashes = {\"https://cdn.bokeh.org/bokeh/release/bokeh-2.1.1.min.js\": \"kLr4fYcqcSpbuI95brIH3vnnYCquzzSxHPU6XGQCIkQRGJwhg0StNbj1eegrHs12\", \"https://cdn.bokeh.org/bokeh/release/bokeh-widgets-2.1.1.min.js\": \"xIGPmVtaOm+z0BqfSOMn4lOR6ciex448GIKG4eE61LsAvmGj48XcMQZtKcE/UXZe\", \"https://cdn.bokeh.org/bokeh/release/bokeh-tables-2.1.1.min.js\": \"Dc9u1wF/0zApGIWoBbH77iWEHtdmkuYWG839Uzmv8y8yBLXebjO9ZnERsde5Ln/P\", \"https://cdn.bokeh.org/bokeh/release/bokeh-gl-2.1.1.min.js\": \"cT9JaBz7GiRXdENrJLZNSC6eMNF3nh3fa5fTF51Svp+ukxPdwcU5kGXGPBgDCa2j\"};\n\n    for (var i = 0; i < js_urls.length; i++) {\n      var url = js_urls[i];\n      var element = document.createElement('script');\n      element.onload = on_load;\n      element.onerror = on_error;\n      element.async = false;\n      element.src = url;\n      if (url in hashes) {\n        element.crossOrigin = \"anonymous\";\n        element.integrity = \"sha384-\" + hashes[url];\n      }\n      console.debug(\"Bokeh: injecting script tag for BokehJS library: \", url);\n      document.head.appendChild(element);\n    }\n  };\n\n  function inject_raw_css(css) {\n    const element = document.createElement(\"style\");\n    element.appendChild(document.createTextNode(css));\n    document.body.appendChild(element);\n  }\n\n  \n  var js_urls = [\"https://cdn.bokeh.org/bokeh/release/bokeh-2.1.1.min.js\", \"https://cdn.bokeh.org/bokeh/release/bokeh-widgets-2.1.1.min.js\", \"https://cdn.bokeh.org/bokeh/release/bokeh-tables-2.1.1.min.js\", \"https://cdn.bokeh.org/bokeh/release/bokeh-gl-2.1.1.min.js\"];\n  var css_urls = [];\n  \n\n  var inline_js = [\n    function(Bokeh) {\n      Bokeh.set_log_level(\"info\");\n    },\n    function(Bokeh) {\n    \n    \n    }\n  ];\n\n  function run_inline_js() {\n    \n    if (root.Bokeh !== undefined || force === true) {\n      \n    for (var i = 0; i < inline_js.length; i++) {\n      inline_js[i].call(root, root.Bokeh);\n    }\n    if (force === true) {\n        display_loaded();\n      }} else if (Date.now() < root._bokeh_timeout) {\n      setTimeout(run_inline_js, 100);\n    } else if (!root._bokeh_failed_load) {\n      console.log(\"Bokeh: BokehJS failed to load within specified timeout.\");\n      root._bokeh_failed_load = true;\n    } else if (force !== true) {\n      var cell = $(document.getElementById(\"1001\")).parents('.cell').data().cell;\n      cell.output_area.append_execute_result(NB_LOAD_WARNING)\n    }\n\n  }\n\n  if (root._bokeh_is_loading === 0) {\n    console.debug(\"Bokeh: BokehJS loaded, going straight to plotting\");\n    run_inline_js();\n  } else {\n    load_libs(css_urls, js_urls, function() {\n      console.debug(\"Bokeh: BokehJS plotting callback run at\", now());\n      run_inline_js();\n    });\n  }\n}(window));",
            "application/vnd.bokehjs_load.v0+json": "\n(function(root) {\n  function now() {\n    return new Date();\n  }\n\n  var force = true;\n\n  if (typeof root._bokeh_onload_callbacks === \"undefined\" || force === true) {\n    root._bokeh_onload_callbacks = [];\n    root._bokeh_is_loading = undefined;\n  }\n\n  \n\n  \n  if (typeof (root._bokeh_timeout) === \"undefined\" || force === true) {\n    root._bokeh_timeout = Date.now() + 5000;\n    root._bokeh_failed_load = false;\n  }\n\n  var NB_LOAD_WARNING = {'data': {'text/html':\n     \"<div style='background-color: #fdd'>\\n\"+\n     \"<p>\\n\"+\n     \"BokehJS does not appear to have successfully loaded. If loading BokehJS from CDN, this \\n\"+\n     \"may be due to a slow or bad network connection. Possible fixes:\\n\"+\n     \"</p>\\n\"+\n     \"<ul>\\n\"+\n     \"<li>re-rerun `output_notebook()` to attempt to load from CDN again, or</li>\\n\"+\n     \"<li>use INLINE resources instead, as so:</li>\\n\"+\n     \"</ul>\\n\"+\n     \"<code>\\n\"+\n     \"from bokeh.resources import INLINE\\n\"+\n     \"output_notebook(resources=INLINE)\\n\"+\n     \"</code>\\n\"+\n     \"</div>\"}};\n\n  function display_loaded() {\n    var el = document.getElementById(\"1001\");\n    if (el != null) {\n      el.textContent = \"BokehJS is loading...\";\n    }\n    if (root.Bokeh !== undefined) {\n      if (el != null) {\n        el.textContent = \"BokehJS \" + root.Bokeh.version + \" successfully loaded.\";\n      }\n    } else if (Date.now() < root._bokeh_timeout) {\n      setTimeout(display_loaded, 100)\n    }\n  }\n\n\n  function run_callbacks() {\n    try {\n      root._bokeh_onload_callbacks.forEach(function(callback) {\n        if (callback != null)\n          callback();\n      });\n    } finally {\n      delete root._bokeh_onload_callbacks\n    }\n    console.debug(\"Bokeh: all callbacks have finished\");\n  }\n\n  function load_libs(css_urls, js_urls, callback) {\n    if (css_urls == null) css_urls = [];\n    if (js_urls == null) js_urls = [];\n\n    root._bokeh_onload_callbacks.push(callback);\n    if (root._bokeh_is_loading > 0) {\n      console.debug(\"Bokeh: BokehJS is being loaded, scheduling callback at\", now());\n      return null;\n    }\n    if (js_urls == null || js_urls.length === 0) {\n      run_callbacks();\n      return null;\n    }\n    console.debug(\"Bokeh: BokehJS not loaded, scheduling load and callback at\", now());\n    root._bokeh_is_loading = css_urls.length + js_urls.length;\n\n    function on_load() {\n      root._bokeh_is_loading--;\n      if (root._bokeh_is_loading === 0) {\n        console.debug(\"Bokeh: all BokehJS libraries/stylesheets loaded\");\n        run_callbacks()\n      }\n    }\n\n    function on_error() {\n      console.error(\"failed to load \" + url);\n    }\n\n    for (var i = 0; i < css_urls.length; i++) {\n      var url = css_urls[i];\n      const element = document.createElement(\"link\");\n      element.onload = on_load;\n      element.onerror = on_error;\n      element.rel = \"stylesheet\";\n      element.type = \"text/css\";\n      element.href = url;\n      console.debug(\"Bokeh: injecting link tag for BokehJS stylesheet: \", url);\n      document.body.appendChild(element);\n    }\n\n    const hashes = {\"https://cdn.bokeh.org/bokeh/release/bokeh-2.1.1.min.js\": \"kLr4fYcqcSpbuI95brIH3vnnYCquzzSxHPU6XGQCIkQRGJwhg0StNbj1eegrHs12\", \"https://cdn.bokeh.org/bokeh/release/bokeh-widgets-2.1.1.min.js\": \"xIGPmVtaOm+z0BqfSOMn4lOR6ciex448GIKG4eE61LsAvmGj48XcMQZtKcE/UXZe\", \"https://cdn.bokeh.org/bokeh/release/bokeh-tables-2.1.1.min.js\": \"Dc9u1wF/0zApGIWoBbH77iWEHtdmkuYWG839Uzmv8y8yBLXebjO9ZnERsde5Ln/P\", \"https://cdn.bokeh.org/bokeh/release/bokeh-gl-2.1.1.min.js\": \"cT9JaBz7GiRXdENrJLZNSC6eMNF3nh3fa5fTF51Svp+ukxPdwcU5kGXGPBgDCa2j\"};\n\n    for (var i = 0; i < js_urls.length; i++) {\n      var url = js_urls[i];\n      var element = document.createElement('script');\n      element.onload = on_load;\n      element.onerror = on_error;\n      element.async = false;\n      element.src = url;\n      if (url in hashes) {\n        element.crossOrigin = \"anonymous\";\n        element.integrity = \"sha384-\" + hashes[url];\n      }\n      console.debug(\"Bokeh: injecting script tag for BokehJS library: \", url);\n      document.head.appendChild(element);\n    }\n  };\n\n  function inject_raw_css(css) {\n    const element = document.createElement(\"style\");\n    element.appendChild(document.createTextNode(css));\n    document.body.appendChild(element);\n  }\n\n  \n  var js_urls = [\"https://cdn.bokeh.org/bokeh/release/bokeh-2.1.1.min.js\", \"https://cdn.bokeh.org/bokeh/release/bokeh-widgets-2.1.1.min.js\", \"https://cdn.bokeh.org/bokeh/release/bokeh-tables-2.1.1.min.js\", \"https://cdn.bokeh.org/bokeh/release/bokeh-gl-2.1.1.min.js\"];\n  var css_urls = [];\n  \n\n  var inline_js = [\n    function(Bokeh) {\n      Bokeh.set_log_level(\"info\");\n    },\n    function(Bokeh) {\n    \n    \n    }\n  ];\n\n  function run_inline_js() {\n    \n    if (root.Bokeh !== undefined || force === true) {\n      \n    for (var i = 0; i < inline_js.length; i++) {\n      inline_js[i].call(root, root.Bokeh);\n    }\n    if (force === true) {\n        display_loaded();\n      }} else if (Date.now() < root._bokeh_timeout) {\n      setTimeout(run_inline_js, 100);\n    } else if (!root._bokeh_failed_load) {\n      console.log(\"Bokeh: BokehJS failed to load within specified timeout.\");\n      root._bokeh_failed_load = true;\n    } else if (force !== true) {\n      var cell = $(document.getElementById(\"1001\")).parents('.cell').data().cell;\n      cell.output_area.append_execute_result(NB_LOAD_WARNING)\n    }\n\n  }\n\n  if (root._bokeh_is_loading === 0) {\n    console.debug(\"Bokeh: BokehJS loaded, going straight to plotting\");\n    run_inline_js();\n  } else {\n    load_libs(css_urls, js_urls, function() {\n      console.debug(\"Bokeh: BokehJS plotting callback run at\", now());\n      run_inline_js();\n    });\n  }\n}(window));"
          },
          "metadata": {}
        }
      ]
    },
    {
      "cell_type": "code",
      "metadata": {
        "id": "7OONK8ldtIWe"
      },
      "source": [
        "draw_vectors(\n",
        "    examples[\"transformed_features\"][:, 0], \n",
        "    examples[\"transformed_features\"][:, 1], \n",
        "    color=[[\"red\", \"blue\"][t] for t in examples[\"targets\"]]\n",
        "    )"
      ],
      "execution_count": 22,
      "outputs": [
        {
          "output_type": "display_data",
          "data": {
            "text/html": "\n\n\n\n\n\n  <div class=\"bk-root\" id=\"a0a8ece4-26a1-494c-a1ac-80d8e3acf13d\" data-root-id=\"1003\"></div>\n"
          },
          "metadata": {}
        },
        {
          "output_type": "display_data",
          "data": {
            "application/javascript": "(function(root) {\n  function embed_document(root) {\n    \n  var docs_json = {\"b23669dc-87b9-4d2c-a475-e8a253718686\":{\"roots\":{\"references\":[{\"attributes\":{\"below\":[{\"id\":\"1012\"}],\"center\":[{\"id\":\"1015\"},{\"id\":\"1019\"}],\"left\":[{\"id\":\"1016\"}],\"plot_height\":400,\"renderers\":[{\"id\":\"1037\"}],\"title\":{\"id\":\"1042\"},\"toolbar\":{\"id\":\"1027\"},\"x_range\":{\"id\":\"1004\"},\"x_scale\":{\"id\":\"1008\"},\"y_range\":{\"id\":\"1006\"},\"y_scale\":{\"id\":\"1010\"}},\"id\":\"1003\",\"subtype\":\"Figure\",\"type\":\"Plot\"},{\"attributes\":{},\"id\":\"1006\",\"type\":\"DataRange1d\"},{\"attributes\":{\"text\":\"\"},\"id\":\"1042\",\"type\":\"Title\"},{\"attributes\":{\"fill_alpha\":{\"value\":0.1},\"fill_color\":{\"field\":\"color\"},\"line_alpha\":{\"value\":0.1},\"line_color\":{\"field\":\"color\"},\"size\":{\"units\":\"screen\",\"value\":10},\"x\":{\"field\":\"x\"},\"y\":{\"field\":\"y\"}},\"id\":\"1036\",\"type\":\"Scatter\"},{\"attributes\":{\"overlay\":{\"id\":\"1026\"}},\"id\":\"1022\",\"type\":\"BoxZoomTool\"},{\"attributes\":{},\"id\":\"1048\",\"type\":\"UnionRenderers\"},{\"attributes\":{},\"id\":\"1023\",\"type\":\"SaveTool\"},{\"attributes\":{},\"id\":\"1049\",\"type\":\"Selection\"},{\"attributes\":{},\"id\":\"1025\",\"type\":\"HelpTool\"},{\"attributes\":{},\"id\":\"1044\",\"type\":\"BasicTickFormatter\"},{\"attributes\":{\"data\":{\"color\":[\"red\",\"red\",\"red\",\"blue\",\"red\",\"blue\",\"blue\",\"blue\",\"blue\",\"blue\",\"blue\",\"blue\",\"blue\",\"red\",\"red\",\"blue\",\"blue\",\"blue\",\"red\",\"blue\",\"blue\",\"blue\",\"blue\",\"red\",\"blue\",\"blue\",\"red\",\"red\",\"blue\",\"red\",\"blue\",\"red\",\"red\",\"blue\",\"red\",\"red\",\"blue\",\"red\",\"blue\",\"blue\",\"red\",\"blue\",\"blue\",\"blue\",\"red\",\"red\",\"red\",\"red\",\"blue\",\"red\",\"blue\",\"blue\",\"blue\",\"red\",\"blue\",\"red\",\"blue\",\"blue\",\"red\",\"red\",\"red\",\"blue\",\"blue\",\"red\",\"red\",\"blue\",\"blue\",\"red\",\"blue\",\"blue\",\"blue\",\"blue\",\"red\",\"red\",\"red\",\"red\",\"red\",\"blue\",\"red\",\"red\",\"blue\",\"blue\",\"red\",\"red\",\"blue\",\"red\",\"red\",\"red\",\"blue\",\"red\",\"red\",\"red\",\"red\",\"blue\",\"blue\",\"red\",\"red\",\"blue\",\"red\",\"red\",\"blue\",\"red\",\"blue\",\"red\",\"red\",\"red\",\"red\",\"blue\",\"red\",\"blue\",\"blue\",\"blue\",\"blue\",\"red\",\"red\",\"blue\",\"blue\",\"blue\",\"red\",\"blue\",\"red\",\"red\",\"red\",\"red\",\"blue\",\"blue\",\"red\",\"blue\",\"red\",\"blue\",\"blue\",\"blue\",\"red\",\"blue\",\"red\",\"blue\",\"red\",\"red\",\"blue\",\"red\",\"red\",\"blue\",\"red\",\"red\",\"blue\",\"red\",\"red\",\"blue\",\"blue\",\"blue\",\"blue\",\"red\",\"red\",\"red\",\"blue\",\"red\",\"red\",\"red\",\"blue\",\"red\",\"red\",\"red\",\"red\",\"red\",\"red\",\"blue\",\"blue\",\"red\",\"blue\",\"blue\",\"red\",\"red\",\"red\",\"blue\",\"red\",\"red\",\"blue\",\"red\",\"blue\",\"blue\",\"red\",\"blue\",\"red\",\"red\",\"blue\",\"blue\",\"blue\",\"blue\",\"blue\",\"red\",\"red\",\"red\",\"blue\",\"blue\",\"blue\",\"red\",\"red\",\"blue\",\"blue\",\"blue\",\"blue\",\"blue\",\"blue\",\"red\",\"red\",\"red\",\"red\",\"red\",\"red\",\"red\",\"red\",\"red\",\"blue\",\"blue\",\"blue\",\"red\",\"blue\",\"red\",\"blue\",\"blue\",\"red\",\"blue\",\"red\",\"blue\",\"blue\",\"red\",\"blue\",\"blue\",\"blue\",\"blue\",\"red\",\"blue\",\"red\",\"red\",\"red\",\"blue\",\"red\",\"blue\",\"red\",\"red\",\"red\",\"blue\",\"red\",\"blue\",\"red\",\"blue\",\"red\",\"blue\",\"red\",\"blue\",\"blue\",\"blue\",\"blue\",\"blue\",\"blue\",\"blue\",\"red\",\"red\",\"red\",\"red\",\"blue\",\"red\",\"red\",\"blue\",\"blue\",\"blue\",\"red\",\"red\",\"red\",\"red\",\"blue\",\"blue\",\"blue\",\"blue\",\"blue\",\"blue\",\"blue\",\"red\",\"blue\",\"red\",\"red\",\"red\",\"blue\",\"red\",\"red\",\"blue\",\"blue\",\"red\",\"blue\",\"blue\",\"red\",\"red\",\"blue\",\"red\",\"red\",\"blue\",\"blue\",\"red\",\"blue\",\"red\",\"red\",\"blue\",\"red\",\"red\",\"blue\",\"red\",\"blue\",\"blue\",\"red\",\"red\",\"blue\",\"blue\",\"blue\",\"red\",\"blue\",\"blue\",\"red\",\"red\",\"red\",\"blue\",\"blue\",\"red\",\"blue\",\"red\",\"red\",\"red\",\"red\",\"red\",\"blue\",\"blue\",\"red\",\"red\",\"red\",\"red\",\"red\",\"blue\",\"red\",\"red\",\"red\",\"blue\",\"blue\",\"blue\",\"blue\",\"blue\",\"red\",\"blue\",\"blue\",\"red\",\"red\",\"blue\",\"blue\",\"blue\",\"blue\",\"red\",\"blue\",\"blue\",\"blue\",\"blue\",\"red\",\"blue\",\"red\",\"blue\",\"red\",\"red\",\"blue\",\"blue\",\"blue\",\"red\",\"red\",\"blue\",\"red\",\"red\",\"red\",\"blue\",\"red\",\"blue\",\"blue\",\"blue\",\"red\",\"red\",\"red\",\"blue\",\"blue\",\"red\",\"blue\",\"blue\",\"red\",\"blue\",\"blue\",\"red\",\"blue\",\"blue\",\"red\",\"blue\",\"red\",\"red\",\"blue\",\"blue\",\"blue\",\"red\",\"blue\",\"blue\",\"blue\",\"red\",\"red\",\"blue\",\"blue\",\"blue\",\"red\",\"blue\",\"blue\",\"blue\",\"red\",\"blue\",\"blue\",\"blue\",\"blue\",\"red\",\"blue\",\"blue\",\"red\",\"red\",\"red\",\"blue\",\"blue\",\"blue\",\"red\",\"red\",\"blue\",\"blue\",\"blue\",\"red\",\"blue\",\"blue\",\"blue\",\"blue\",\"blue\",\"red\",\"red\",\"blue\",\"blue\",\"blue\",\"red\",\"red\",\"blue\",\"red\",\"red\",\"red\",\"blue\",\"red\",\"red\",\"blue\",\"red\",\"blue\",\"blue\",\"red\",\"blue\",\"blue\",\"red\",\"red\",\"blue\",\"blue\",\"blue\",\"blue\",\"red\",\"red\",\"red\",\"red\",\"blue\",\"blue\",\"blue\",\"red\",\"blue\",\"blue\",\"red\",\"blue\",\"red\",\"red\",\"blue\",\"red\",\"blue\",\"red\",\"red\",\"blue\",\"red\",\"blue\",\"blue\",\"blue\",\"red\",\"blue\",\"red\",\"blue\",\"blue\",\"blue\",\"blue\",\"blue\",\"red\",\"blue\",\"blue\",\"red\",\"blue\",\"red\",\"blue\",\"red\",\"blue\",\"red\",\"red\",\"red\",\"red\",\"red\",\"red\",\"blue\",\"blue\",\"blue\",\"red\",\"blue\",\"red\",\"red\",\"blue\",\"red\",\"red\",\"red\",\"red\",\"red\",\"red\",\"blue\",\"blue\",\"blue\",\"red\",\"blue\",\"red\",\"blue\",\"blue\",\"red\",\"red\",\"red\",\"blue\",\"red\",\"blue\",\"blue\",\"blue\",\"red\",\"blue\",\"blue\",\"red\",\"blue\",\"blue\",\"blue\",\"blue\",\"blue\",\"blue\",\"red\",\"red\",\"red\",\"blue\",\"blue\",\"red\",\"blue\",\"blue\",\"blue\",\"red\",\"blue\",\"red\",\"blue\",\"blue\",\"red\",\"red\",\"blue\",\"red\",\"red\",\"red\",\"blue\",\"red\",\"red\",\"blue\",\"red\",\"red\",\"blue\",\"blue\",\"blue\",\"red\",\"red\",\"red\",\"blue\",\"blue\",\"blue\",\"red\",\"red\",\"red\",\"red\",\"blue\",\"blue\",\"red\",\"red\",\"red\",\"red\",\"red\",\"red\",\"blue\",\"blue\",\"red\",\"red\",\"red\",\"blue\",\"red\",\"red\",\"red\",\"blue\",\"red\",\"red\",\"blue\",\"red\",\"red\",\"blue\",\"blue\",\"blue\",\"red\",\"blue\",\"blue\",\"blue\",\"red\",\"red\",\"red\",\"blue\",\"blue\",\"red\",\"red\",\"blue\",\"red\",\"blue\",\"blue\",\"blue\",\"red\",\"red\",\"blue\",\"red\",\"red\",\"blue\",\"red\",\"blue\",\"blue\",\"red\",\"red\",\"red\",\"red\",\"red\",\"red\",\"red\",\"red\",\"red\",\"blue\",\"blue\",\"blue\",\"red\",\"red\",\"blue\",\"blue\",\"blue\",\"red\",\"blue\",\"blue\",\"blue\",\"blue\",\"red\",\"blue\",\"red\",\"blue\",\"red\",\"red\",\"red\",\"blue\",\"red\",\"red\",\"red\",\"blue\",\"red\",\"blue\",\"blue\",\"blue\",\"red\",\"red\",\"red\",\"blue\",\"blue\",\"blue\",\"red\",\"red\",\"red\",\"blue\",\"red\",\"red\",\"red\",\"blue\",\"red\",\"blue\",\"red\",\"red\",\"blue\",\"red\",\"blue\",\"blue\",\"red\",\"red\",\"blue\",\"blue\",\"blue\",\"blue\",\"red\",\"blue\",\"blue\",\"red\",\"red\",\"red\",\"red\",\"blue\",\"blue\",\"red\",\"red\",\"red\",\"red\",\"red\",\"blue\",\"blue\",\"red\",\"red\",\"red\",\"blue\",\"blue\",\"blue\",\"blue\",\"blue\",\"red\",\"red\",\"red\",\"blue\",\"blue\",\"red\",\"red\",\"red\",\"red\",\"red\",\"blue\",\"blue\",\"blue\",\"red\",\"red\",\"red\",\"red\",\"red\",\"blue\",\"red\",\"red\",\"red\",\"blue\",\"red\",\"red\",\"red\",\"red\",\"red\",\"red\",\"red\",\"red\",\"red\",\"blue\",\"blue\",\"blue\",\"blue\",\"blue\",\"red\",\"blue\",\"blue\",\"red\",\"blue\",\"red\",\"red\",\"blue\",\"red\",\"red\",\"blue\",\"red\",\"blue\",\"red\",\"red\",\"red\",\"blue\",\"red\",\"blue\",\"blue\",\"blue\",\"red\",\"blue\",\"blue\",\"red\",\"blue\",\"blue\",\"blue\",\"blue\",\"red\",\"blue\",\"red\",\"red\",\"red\",\"red\",\"blue\",\"blue\",\"red\",\"red\",\"blue\",\"red\",\"red\",\"blue\",\"red\",\"blue\",\"red\",\"blue\",\"blue\",\"red\",\"blue\",\"blue\",\"blue\",\"red\",\"blue\",\"red\",\"blue\",\"blue\",\"red\",\"red\",\"red\",\"blue\",\"blue\",\"blue\",\"red\",\"blue\",\"red\",\"blue\",\"blue\",\"red\",\"blue\",\"blue\",\"blue\",\"red\",\"red\",\"red\",\"blue\",\"red\",\"red\",\"red\",\"blue\",\"red\",\"red\",\"blue\",\"red\",\"blue\",\"blue\",\"blue\",\"red\",\"blue\",\"blue\",\"red\",\"red\",\"red\",\"blue\",\"blue\",\"blue\",\"red\",\"blue\",\"red\",\"blue\",\"red\",\"red\",\"blue\",\"red\",\"red\",\"red\",\"blue\",\"blue\",\"blue\",\"red\",\"red\",\"red\",\"red\",\"red\",\"red\",\"blue\",\"red\",\"red\",\"blue\",\"red\",\"red\",\"blue\",\"red\",\"blue\",\"blue\",\"blue\",\"blue\",\"red\",\"blue\",\"blue\",\"blue\",\"blue\",\"red\",\"red\",\"blue\",\"blue\",\"red\",\"red\",\"red\",\"blue\",\"red\",\"red\",\"blue\",\"blue\",\"red\",\"red\",\"blue\",\"red\",\"red\",\"blue\",\"red\",\"red\",\"red\",\"blue\",\"blue\",\"red\",\"red\",\"red\",\"blue\",\"red\",\"blue\",\"red\",\"blue\",\"red\",\"blue\",\"red\",\"blue\",\"red\",\"red\",\"blue\",\"blue\",\"blue\",\"red\",\"red\",\"red\",\"red\",\"red\",\"red\",\"blue\",\"red\",\"blue\",\"red\",\"blue\",\"red\",\"blue\",\"blue\",\"blue\",\"red\",\"blue\",\"blue\",\"red\",\"blue\",\"blue\",\"blue\",\"red\",\"red\",\"red\",\"blue\",\"blue\",\"blue\",\"red\",\"red\",\"blue\",\"red\",\"red\",\"red\",\"red\",\"blue\",\"red\",\"red\",\"red\",\"red\",\"blue\",\"blue\",\"blue\",\"red\",\"blue\",\"red\",\"red\",\"blue\",\"red\",\"blue\",\"blue\",\"red\",\"red\",\"red\",\"blue\",\"blue\",\"blue\",\"blue\",\"red\",\"red\",\"blue\",\"blue\",\"red\",\"blue\",\"blue\",\"blue\",\"blue\",\"red\",\"blue\",\"red\",\"red\",\"blue\",\"blue\",\"blue\",\"blue\",\"blue\",\"red\",\"red\",\"red\",\"red\",\"blue\",\"red\",\"blue\",\"red\",\"blue\",\"red\",\"blue\",\"red\",\"blue\",\"red\",\"blue\",\"blue\",\"red\",\"blue\",\"red\",\"blue\",\"red\",\"blue\",\"blue\",\"blue\",\"red\",\"red\",\"blue\",\"red\",\"red\",\"blue\",\"blue\",\"blue\",\"red\",\"blue\",\"blue\",\"red\",\"red\",\"red\",\"blue\",\"red\",\"blue\",\"blue\",\"red\",\"red\",\"red\",\"blue\",\"red\",\"blue\",\"blue\",\"blue\",\"red\",\"blue\",\"red\",\"red\",\"red\",\"red\",\"red\",\"red\",\"blue\",\"red\",\"blue\",\"blue\",\"blue\",\"red\",\"blue\",\"red\",\"red\",\"blue\",\"blue\",\"red\",\"red\",\"blue\",\"red\",\"blue\",\"red\",\"red\",\"blue\",\"red\",\"red\",\"blue\",\"red\",\"red\",\"red\",\"blue\",\"blue\",\"blue\",\"red\",\"blue\",\"blue\",\"blue\",\"red\",\"blue\",\"red\",\"red\",\"blue\",\"red\",\"blue\",\"blue\",\"red\",\"blue\",\"red\",\"blue\",\"blue\",\"red\",\"blue\",\"blue\",\"red\",\"blue\",\"blue\",\"blue\",\"red\",\"red\",\"blue\",\"blue\",\"red\",\"blue\",\"red\",\"red\",\"red\",\"blue\",\"blue\",\"blue\",\"red\",\"blue\",\"blue\",\"blue\",\"red\",\"blue\",\"blue\",\"blue\",\"blue\",\"blue\",\"red\",\"blue\",\"blue\",\"red\",\"red\",\"blue\",\"red\",\"red\",\"red\",\"blue\",\"blue\",\"blue\",\"red\",\"blue\",\"blue\",\"blue\",\"red\",\"red\",\"red\",\"red\",\"red\",\"blue\",\"blue\",\"red\",\"blue\",\"red\",\"blue\",\"blue\",\"blue\",\"red\",\"red\",\"red\",\"blue\",\"blue\",\"red\",\"red\",\"blue\",\"red\",\"blue\",\"blue\",\"red\",\"blue\",\"blue\",\"red\",\"red\",\"red\",\"red\",\"red\",\"red\",\"blue\",\"red\",\"red\",\"blue\",\"blue\",\"red\",\"blue\",\"blue\",\"blue\",\"red\",\"blue\",\"blue\",\"blue\",\"blue\",\"blue\",\"red\",\"red\",\"red\",\"red\",\"red\",\"red\",\"blue\",\"blue\",\"red\",\"red\",\"red\",\"blue\",\"red\",\"blue\",\"blue\",\"red\",\"blue\",\"blue\",\"red\",\"blue\",\"red\",\"red\",\"blue\",\"red\",\"red\",\"blue\",\"blue\",\"blue\",\"red\",\"red\",\"red\",\"blue\",\"blue\",\"red\",\"blue\",\"blue\",\"blue\",\"red\",\"red\",\"red\",\"blue\",\"red\",\"red\",\"red\",\"blue\",\"blue\",\"red\",\"blue\",\"blue\",\"blue\",\"blue\",\"blue\",\"blue\",\"blue\",\"blue\",\"blue\",\"red\",\"blue\",\"red\",\"red\",\"blue\",\"blue\",\"red\",\"red\",\"blue\",\"blue\",\"blue\",\"red\"],\"x\":{\"__ndarray__\":\"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\",\"dtype\":\"float64\",\"order\":\"little\",\"shape\":[1280]},\"y\":{\"__ndarray__\":\"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\",\"dtype\":\"float64\",\"order\":\"little\",\"shape\":[1280]}},\"selected\":{\"id\":\"1049\"},\"selection_policy\":{\"id\":\"1048\"}},\"id\":\"1002\",\"type\":\"ColumnDataSource\"},{\"attributes\":{},\"id\":\"1024\",\"type\":\"ResetTool\"},{\"attributes\":{},\"id\":\"1013\",\"type\":\"BasicTicker\"},{\"attributes\":{\"formatter\":{\"id\":\"1046\"},\"ticker\":{\"id\":\"1013\"}},\"id\":\"1012\",\"type\":\"LinearAxis\"},{\"attributes\":{\"formatter\":{\"id\":\"1044\"},\"ticker\":{\"id\":\"1017\"}},\"id\":\"1016\",\"type\":\"LinearAxis\"},{\"attributes\":{},\"id\":\"1046\",\"type\":\"BasicTickFormatter\"},{\"attributes\":{},\"id\":\"1004\",\"type\":\"DataRange1d\"},{\"attributes\":{},\"id\":\"1010\",\"type\":\"LinearScale\"},{\"attributes\":{\"bottom_units\":\"screen\",\"fill_alpha\":0.5,\"fill_color\":\"lightgrey\",\"left_units\":\"screen\",\"level\":\"overlay\",\"line_alpha\":1.0,\"line_color\":\"black\",\"line_dash\":[4,4],\"line_width\":2,\"right_units\":\"screen\",\"top_units\":\"screen\"},\"id\":\"1026\",\"type\":\"BoxAnnotation\"},{\"attributes\":{},\"id\":\"1008\",\"type\":\"LinearScale\"},{\"attributes\":{\"active_drag\":\"auto\",\"active_inspect\":\"auto\",\"active_multi\":null,\"active_scroll\":{\"id\":\"1021\"},\"active_tap\":\"auto\",\"tools\":[{\"id\":\"1020\"},{\"id\":\"1021\"},{\"id\":\"1022\"},{\"id\":\"1023\"},{\"id\":\"1024\"},{\"id\":\"1025\"},{\"id\":\"1039\"}]},\"id\":\"1027\",\"type\":\"Toolbar\"},{\"attributes\":{\"axis\":{\"id\":\"1012\"},\"ticker\":null},\"id\":\"1015\",\"type\":\"Grid\"},{\"attributes\":{\"source\":{\"id\":\"1002\"}},\"id\":\"1038\",\"type\":\"CDSView\"},{\"attributes\":{},\"id\":\"1021\",\"type\":\"WheelZoomTool\"},{\"attributes\":{},\"id\":\"1017\",\"type\":\"BasicTicker\"},{\"attributes\":{\"axis\":{\"id\":\"1016\"},\"dimension\":1,\"ticker\":null},\"id\":\"1019\",\"type\":\"Grid\"},{\"attributes\":{\"callback\":null,\"tooltips\":[]},\"id\":\"1039\",\"type\":\"HoverTool\"},{\"attributes\":{},\"id\":\"1020\",\"type\":\"PanTool\"},{\"attributes\":{\"data_source\":{\"id\":\"1002\"},\"glyph\":{\"id\":\"1035\"},\"hover_glyph\":null,\"muted_glyph\":null,\"nonselection_glyph\":{\"id\":\"1036\"},\"selection_glyph\":null,\"view\":{\"id\":\"1038\"}},\"id\":\"1037\",\"type\":\"GlyphRenderer\"},{\"attributes\":{\"fill_alpha\":{\"value\":0.25},\"fill_color\":{\"field\":\"color\"},\"line_alpha\":{\"value\":0.25},\"line_color\":{\"field\":\"color\"},\"size\":{\"units\":\"screen\",\"value\":10},\"x\":{\"field\":\"x\"},\"y\":{\"field\":\"y\"}},\"id\":\"1035\",\"type\":\"Scatter\"}],\"root_ids\":[\"1003\"]},\"title\":\"Bokeh Application\",\"version\":\"2.1.1\"}};\n  var render_items = [{\"docid\":\"b23669dc-87b9-4d2c-a475-e8a253718686\",\"root_ids\":[\"1003\"],\"roots\":{\"1003\":\"a0a8ece4-26a1-494c-a1ac-80d8e3acf13d\"}}];\n  root.Bokeh.embed.embed_items_notebook(docs_json, render_items);\n\n  }\n  if (root.Bokeh !== undefined) {\n    embed_document(root);\n  } else {\n    var attempts = 0;\n    var timer = setInterval(function(root) {\n      if (root.Bokeh !== undefined) {\n        clearInterval(timer);\n        embed_document(root);\n      } else {\n        attempts++;\n        if (attempts > 100) {\n          clearInterval(timer);\n          console.log(\"Bokeh: ERROR: Unable to run BokehJS code because BokehJS library is missing\");\n        }\n      }\n    }, 10, root)\n  }\n})(window);",
            "application/vnd.bokehjs_exec.v0+json": ""
          },
          "metadata": {
            "application/vnd.bokehjs_exec.v0+json": {
              "id": "1003"
            }
          }
        },
        {
          "output_type": "execute_result",
          "data": {
            "text/plain": [
              "Figure(id='1003', ...)"
            ],
            "text/html": "<div style=\"display: table;\"><div style=\"display: table-row;\"><div style=\"display: table-cell;\"><b title=\"bokeh.plotting.figure.Figure\">Figure</b>(</div><div style=\"display: table-cell;\">id&nbsp;=&nbsp;'1003', <span id=\"1105\" style=\"cursor: pointer;\">&hellip;)</span></div></div><div class=\"1104\" style=\"display: none;\"><div style=\"display: table-cell;\"></div><div style=\"display: table-cell;\">above&nbsp;=&nbsp;[],</div></div><div class=\"1104\" style=\"display: none;\"><div style=\"display: table-cell;\"></div><div style=\"display: table-cell;\">align&nbsp;=&nbsp;'start',</div></div><div class=\"1104\" style=\"display: none;\"><div style=\"display: table-cell;\"></div><div style=\"display: table-cell;\">aspect_ratio&nbsp;=&nbsp;None,</div></div><div class=\"1104\" style=\"display: none;\"><div style=\"display: table-cell;\"></div><div style=\"display: table-cell;\">aspect_scale&nbsp;=&nbsp;1,</div></div><div class=\"1104\" style=\"display: none;\"><div style=\"display: table-cell;\"></div><div style=\"display: table-cell;\">background&nbsp;=&nbsp;None,</div></div><div class=\"1104\" style=\"display: none;\"><div style=\"display: table-cell;\"></div><div style=\"display: table-cell;\">background_fill_alpha&nbsp;=&nbsp;1.0,</div></div><div class=\"1104\" style=\"display: none;\"><div style=\"display: table-cell;\"></div><div style=\"display: table-cell;\">background_fill_color&nbsp;=&nbsp;'#ffffff',</div></div><div class=\"1104\" style=\"display: none;\"><div style=\"display: table-cell;\"></div><div style=\"display: table-cell;\">below&nbsp;=&nbsp;[LinearAxis(id='1012', ...)],</div></div><div class=\"1104\" style=\"display: none;\"><div style=\"display: table-cell;\"></div><div style=\"display: table-cell;\">border_fill_alpha&nbsp;=&nbsp;1.0,</div></div><div class=\"1104\" style=\"display: none;\"><div style=\"display: table-cell;\"></div><div style=\"display: table-cell;\">border_fill_color&nbsp;=&nbsp;'#ffffff',</div></div><div class=\"1104\" style=\"display: none;\"><div style=\"display: table-cell;\"></div><div style=\"display: table-cell;\">center&nbsp;=&nbsp;[Grid(id='1015', ...), Grid(id='1019', ...)],</div></div><div class=\"1104\" style=\"display: none;\"><div style=\"display: table-cell;\"></div><div style=\"display: table-cell;\">css_classes&nbsp;=&nbsp;[],</div></div><div class=\"1104\" style=\"display: none;\"><div style=\"display: table-cell;\"></div><div style=\"display: table-cell;\">disabled&nbsp;=&nbsp;False,</div></div><div class=\"1104\" style=\"display: none;\"><div style=\"display: table-cell;\"></div><div style=\"display: table-cell;\">extra_x_ranges&nbsp;=&nbsp;{},</div></div><div class=\"1104\" style=\"display: none;\"><div style=\"display: table-cell;\"></div><div style=\"display: table-cell;\">extra_y_ranges&nbsp;=&nbsp;{},</div></div><div class=\"1104\" style=\"display: none;\"><div style=\"display: table-cell;\"></div><div style=\"display: table-cell;\">frame_height&nbsp;=&nbsp;None,</div></div><div class=\"1104\" style=\"display: none;\"><div style=\"display: table-cell;\"></div><div style=\"display: table-cell;\">frame_width&nbsp;=&nbsp;None,</div></div><div class=\"1104\" style=\"display: none;\"><div style=\"display: table-cell;\"></div><div style=\"display: table-cell;\">height&nbsp;=&nbsp;None,</div></div><div class=\"1104\" style=\"display: none;\"><div style=\"display: table-cell;\"></div><div style=\"display: table-cell;\">height_policy&nbsp;=&nbsp;'auto',</div></div><div class=\"1104\" style=\"display: none;\"><div style=\"display: table-cell;\"></div><div style=\"display: table-cell;\">hidpi&nbsp;=&nbsp;True,</div></div><div class=\"1104\" style=\"display: none;\"><div style=\"display: table-cell;\"></div><div style=\"display: table-cell;\">js_event_callbacks&nbsp;=&nbsp;{},</div></div><div class=\"1104\" style=\"display: none;\"><div style=\"display: table-cell;\"></div><div style=\"display: table-cell;\">js_property_callbacks&nbsp;=&nbsp;{},</div></div><div class=\"1104\" style=\"display: none;\"><div style=\"display: table-cell;\"></div><div style=\"display: table-cell;\">left&nbsp;=&nbsp;[LinearAxis(id='1016', ...)],</div></div><div class=\"1104\" style=\"display: none;\"><div style=\"display: table-cell;\"></div><div style=\"display: table-cell;\">lod_factor&nbsp;=&nbsp;10,</div></div><div class=\"1104\" style=\"display: none;\"><div style=\"display: table-cell;\"></div><div style=\"display: table-cell;\">lod_interval&nbsp;=&nbsp;300,</div></div><div class=\"1104\" style=\"display: none;\"><div style=\"display: table-cell;\"></div><div style=\"display: table-cell;\">lod_threshold&nbsp;=&nbsp;2000,</div></div><div class=\"1104\" style=\"display: none;\"><div style=\"display: table-cell;\"></div><div style=\"display: table-cell;\">lod_timeout&nbsp;=&nbsp;500,</div></div><div class=\"1104\" style=\"display: none;\"><div style=\"display: table-cell;\"></div><div style=\"display: table-cell;\">margin&nbsp;=&nbsp;(0, 0, 0, 0),</div></div><div class=\"1104\" style=\"display: none;\"><div style=\"display: table-cell;\"></div><div style=\"display: table-cell;\">match_aspect&nbsp;=&nbsp;False,</div></div><div class=\"1104\" style=\"display: none;\"><div style=\"display: table-cell;\"></div><div style=\"display: table-cell;\">max_height&nbsp;=&nbsp;None,</div></div><div class=\"1104\" style=\"display: none;\"><div style=\"display: table-cell;\"></div><div style=\"display: table-cell;\">max_width&nbsp;=&nbsp;None,</div></div><div class=\"1104\" style=\"display: none;\"><div style=\"display: table-cell;\"></div><div style=\"display: table-cell;\">min_border&nbsp;=&nbsp;5,</div></div><div class=\"1104\" style=\"display: none;\"><div style=\"display: table-cell;\"></div><div style=\"display: table-cell;\">min_border_bottom&nbsp;=&nbsp;None,</div></div><div class=\"1104\" style=\"display: none;\"><div style=\"display: table-cell;\"></div><div style=\"display: table-cell;\">min_border_left&nbsp;=&nbsp;None,</div></div><div class=\"1104\" style=\"display: none;\"><div style=\"display: table-cell;\"></div><div style=\"display: table-cell;\">min_border_right&nbsp;=&nbsp;None,</div></div><div class=\"1104\" style=\"display: none;\"><div style=\"display: table-cell;\"></div><div style=\"display: table-cell;\">min_border_top&nbsp;=&nbsp;None,</div></div><div class=\"1104\" style=\"display: none;\"><div style=\"display: table-cell;\"></div><div style=\"display: table-cell;\">min_height&nbsp;=&nbsp;None,</div></div><div class=\"1104\" style=\"display: none;\"><div style=\"display: table-cell;\"></div><div style=\"display: table-cell;\">min_width&nbsp;=&nbsp;None,</div></div><div class=\"1104\" style=\"display: none;\"><div style=\"display: table-cell;\"></div><div style=\"display: table-cell;\">name&nbsp;=&nbsp;None,</div></div><div class=\"1104\" style=\"display: none;\"><div style=\"display: table-cell;\"></div><div style=\"display: table-cell;\">outline_line_alpha&nbsp;=&nbsp;1.0,</div></div><div class=\"1104\" style=\"display: none;\"><div style=\"display: table-cell;\"></div><div style=\"display: table-cell;\">outline_line_cap&nbsp;=&nbsp;'butt',</div></div><div class=\"1104\" style=\"display: none;\"><div style=\"display: table-cell;\"></div><div style=\"display: table-cell;\">outline_line_color&nbsp;=&nbsp;'#e5e5e5',</div></div><div class=\"1104\" style=\"display: none;\"><div style=\"display: table-cell;\"></div><div style=\"display: table-cell;\">outline_line_dash&nbsp;=&nbsp;[],</div></div><div class=\"1104\" style=\"display: none;\"><div style=\"display: table-cell;\"></div><div style=\"display: table-cell;\">outline_line_dash_offset&nbsp;=&nbsp;0,</div></div><div class=\"1104\" style=\"display: none;\"><div style=\"display: table-cell;\"></div><div style=\"display: table-cell;\">outline_line_join&nbsp;=&nbsp;'bevel',</div></div><div class=\"1104\" style=\"display: none;\"><div style=\"display: table-cell;\"></div><div style=\"display: table-cell;\">outline_line_width&nbsp;=&nbsp;1,</div></div><div class=\"1104\" style=\"display: none;\"><div style=\"display: table-cell;\"></div><div style=\"display: table-cell;\">output_backend&nbsp;=&nbsp;'canvas',</div></div><div class=\"1104\" style=\"display: none;\"><div style=\"display: table-cell;\"></div><div style=\"display: table-cell;\">plot_height&nbsp;=&nbsp;400,</div></div><div class=\"1104\" style=\"display: none;\"><div style=\"display: table-cell;\"></div><div style=\"display: table-cell;\">plot_width&nbsp;=&nbsp;600,</div></div><div class=\"1104\" style=\"display: none;\"><div style=\"display: table-cell;\"></div><div style=\"display: table-cell;\">renderers&nbsp;=&nbsp;[GlyphRenderer(id='1037', ...)],</div></div><div class=\"1104\" style=\"display: none;\"><div style=\"display: table-cell;\"></div><div style=\"display: table-cell;\">reset_policy&nbsp;=&nbsp;'standard',</div></div><div class=\"1104\" style=\"display: none;\"><div style=\"display: table-cell;\"></div><div style=\"display: table-cell;\">right&nbsp;=&nbsp;[],</div></div><div class=\"1104\" style=\"display: none;\"><div style=\"display: table-cell;\"></div><div style=\"display: table-cell;\">sizing_mode&nbsp;=&nbsp;None,</div></div><div class=\"1104\" style=\"display: none;\"><div style=\"display: table-cell;\"></div><div style=\"display: table-cell;\">subscribed_events&nbsp;=&nbsp;[],</div></div><div class=\"1104\" style=\"display: none;\"><div style=\"display: table-cell;\"></div><div style=\"display: table-cell;\">tags&nbsp;=&nbsp;[],</div></div><div class=\"1104\" style=\"display: none;\"><div style=\"display: table-cell;\"></div><div style=\"display: table-cell;\">title&nbsp;=&nbsp;Title(id='1042', ...),</div></div><div class=\"1104\" style=\"display: none;\"><div style=\"display: table-cell;\"></div><div style=\"display: table-cell;\">title_location&nbsp;=&nbsp;'above',</div></div><div class=\"1104\" style=\"display: none;\"><div style=\"display: table-cell;\"></div><div style=\"display: table-cell;\">toolbar&nbsp;=&nbsp;Toolbar(id='1027', ...),</div></div><div class=\"1104\" style=\"display: none;\"><div style=\"display: table-cell;\"></div><div style=\"display: table-cell;\">toolbar_location&nbsp;=&nbsp;'right',</div></div><div class=\"1104\" style=\"display: none;\"><div style=\"display: table-cell;\"></div><div style=\"display: table-cell;\">toolbar_sticky&nbsp;=&nbsp;True,</div></div><div class=\"1104\" style=\"display: none;\"><div style=\"display: table-cell;\"></div><div style=\"display: table-cell;\">visible&nbsp;=&nbsp;True,</div></div><div class=\"1104\" style=\"display: none;\"><div style=\"display: table-cell;\"></div><div style=\"display: table-cell;\">width&nbsp;=&nbsp;None,</div></div><div class=\"1104\" style=\"display: none;\"><div style=\"display: table-cell;\"></div><div style=\"display: table-cell;\">width_policy&nbsp;=&nbsp;'auto',</div></div><div class=\"1104\" style=\"display: none;\"><div style=\"display: table-cell;\"></div><div style=\"display: table-cell;\">x_range&nbsp;=&nbsp;DataRange1d(id='1004', ...),</div></div><div class=\"1104\" style=\"display: none;\"><div style=\"display: table-cell;\"></div><div style=\"display: table-cell;\">x_scale&nbsp;=&nbsp;LinearScale(id='1008', ...),</div></div><div class=\"1104\" style=\"display: none;\"><div style=\"display: table-cell;\"></div><div style=\"display: table-cell;\">y_range&nbsp;=&nbsp;DataRange1d(id='1006', ...),</div></div><div class=\"1104\" style=\"display: none;\"><div style=\"display: table-cell;\"></div><div style=\"display: table-cell;\">y_scale&nbsp;=&nbsp;LinearScale(id='1010', ...))</div></div></div>\n<script>\n(function() {\n  var expanded = false;\n  var ellipsis = document.getElementById(\"1105\");\n  ellipsis.addEventListener(\"click\", function() {\n    var rows = document.getElementsByClassName(\"1104\");\n    for (var i = 0; i < rows.length; i++) {\n      var el = rows[i];\n      el.style.display = expanded ? \"none\" : \"table-row\";\n    }\n    ellipsis.innerHTML = expanded ? \"&hellip;)\" : \"&lsaquo;&lsaquo;&lsaquo;\";\n    expanded = !expanded;\n  });\n})();\n</script>\n"
          },
          "metadata": {},
          "execution_count": 22
        }
      ]
    },
    {
      "cell_type": "markdown",
      "metadata": {
        "id": "0fNF6LRQ9MPI"
      },
      "source": [
        "Скорее всего, на визуализации нет четкого разделения твитов между классами. Это значит, что по полученным нами векторам твитов не так-то просто определить, к какому классу твит пренадлежит. Значит, обычный линейный классификатор не очень хорошо справится с задачей. Надо будет делать глубокую (хотя бы два слоя) нейронную сеть.\n",
        "\n",
        "Подготовим загрузчики данных.\n",
        "Усреднее векторов будем делать в \"батчевалке\"(`collate_fn`). Она используется для того, чтобы собирать из данных `torch.Tensor` батчи, которые можно отправлять в модель.\n"
      ]
    },
    {
      "cell_type": "code",
      "execution_count": 23,
      "metadata": {},
      "outputs": [],
      "source": [
        "import numpy as np\n",
        "import torch\n",
        "\n",
        "def average_emb(batch):\n",
        "    features = [np.mean(b[\"feature\"], axis=0) for b in batch]\n",
        "    targets = [b[\"target\"] for b in batch]\n",
        "    return {\"features\": torch.FloatTensor(features), \"targets\": torch.LongTensor(targets)}"
      ]
    },
    {
      "cell_type": "code",
      "execution_count": null,
      "metadata": {},
      "outputs": [],
      "source": [
        "# no need of these anymore\n",
        "del dev_data, test_data, dev, examples, pca"
      ]
    },
    {
      "cell_type": "markdown",
      "metadata": {
        "id": "p-zs0WEK-Vkt"
      },
      "source": [
        "Определим функции для тренировки и теста модели:"
      ]
    },
    {
      "cell_type": "code",
      "execution_count": 24,
      "metadata": {},
      "outputs": [],
      "source": [
        "from tqdm.notebook import tqdm\n",
        "\n",
        "\n",
        "def training(model, optimizer, criterion, train_dataloader, epoch, device=\"cpu\"):\n",
        "    model.train()\n",
        "    loss_sum = 0\n",
        "    with tqdm(train_dataloader, desc=f\"[training, epoch {epoch}]\") as pbar:\n",
        "        for batch in pbar:\n",
        "            features = batch[\"features\"].to(device)\n",
        "            targets = batch[\"targets\"].view(-1, 1).to(device)\n",
        "\n",
        "            optimizer.zero_grad()\n",
        "            # Получи предсказания модели\n",
        "            output = model(features)\n",
        "            # Посчитай лосс\n",
        "            loss = criterion(output, targets.type(output.dtype))\n",
        "            # Обнови параметры модели\n",
        "            loss.backward()\n",
        "            optimizer.step()\n",
        "\n",
        "            loss_sum += loss.item()\n",
        "            pbar.set_postfix_str(f\"Batch Loss: {loss.item():.4}\")\n",
        "    \n",
        "        mean_loss = loss_sum / len(train_dataloader)\n",
        "        pbar.set_postfix_str(f\"Mean Loss: {mean_loss:.4}\")\n",
        "    return {\"mean loss\": mean_loss}\n",
        "\n",
        "\n",
        "@torch.no_grad()\n",
        "def testing(model, criterion, test_dataloader, predict, device=\"cpu\", desc=\"testing\"):\n",
        "    model.eval()\n",
        "    loss_sum = 0\n",
        "    true_preds_num_sum = 0\n",
        "    total_samples = 0\n",
        "    with tqdm(test_dataloader, desc=desc) as pbar:\n",
        "        for batch in pbar:\n",
        "            features = batch[\"features\"].to(device)\n",
        "            targets = batch[\"targets\"].view(-1, 1).to(device)\n",
        "            \n",
        "            # Получи предсказания модели\n",
        "            output = model(features)\n",
        "            # Посчитай лосс\n",
        "            loss = criterion(output, targets.type(output.dtype)).item()\n",
        "            # Посчитай точность модели\n",
        "            preds = predict(output)\n",
        "            true_preds_num = (preds == targets.type(preds.dtype)).sum().item()\n",
        "\n",
        "            loss_sum += loss\n",
        "            true_preds_num_sum += true_preds_num\n",
        "            cur_batch_size = len(targets)\n",
        "            total_samples += cur_batch_size\n",
        "            \n",
        "            pbar.set_postfix_str(f\"Batch Loss: {loss:.4}, Batch Accuracy: {true_preds_num / cur_batch_size:.4}\")\n",
        "    \n",
        "        mean_loss = loss_sum / len(test_dataloader)\n",
        "        accuracy = true_preds_num_sum / total_samples\n",
        "        pbar.set_postfix_str(f\"Mean Loss: {mean_loss:.4}, Accuracy: {accuracy:.4}\")\n",
        "    return {\"mean loss\": mean_loss, \"accuracy\": accuracy}"
      ]
    },
    {
      "cell_type": "code",
      "execution_count": 29,
      "metadata": {},
      "outputs": [],
      "source": [
        "from copy import deepcopy\n",
        "\n",
        "\n",
        "def train_valid_test_model(\n",
        "        epochs_num, model, optimizer, criterion, predict,\n",
        "        train_dataloader, valid_dataloader, test_dataloader,\n",
        "        save_best_by='accuracy', device='cpu', reproducibility=True):\n",
        "    \n",
        "    if reproducibility:\n",
        "        enable_reproducibility()\n",
        "    model = model.to(device)\n",
        "    info = {\n",
        "        'validation metric': save_best_by,\n",
        "        'total epochs': epochs_num,\n",
        "        # 'best epoch': {},\n",
        "        # 'last epoch': {}\n",
        "    }\n",
        "\n",
        "    if save_best_by == 'accuracy':\n",
        "        best_metric_val = 0\n",
        "        metric_key = 'accuracy'\n",
        "        def is_the_best_result(log):\n",
        "            nonlocal best_metric_val\n",
        "            curr_metric_val = log[metric_key]\n",
        "            if curr_metric_val > best_metric_val:\n",
        "                best_metric_val = curr_metric_val\n",
        "                return True\n",
        "            return False\n",
        "    \n",
        "    elif save_best_by == 'loss':\n",
        "        best_metric_val = np.inf\n",
        "        metric_key = 'mean loss'\n",
        "        def is_the_best_result(log):\n",
        "            nonlocal best_metric_val\n",
        "            curr_metric_val = log[metric_key]\n",
        "            if curr_metric_val < best_metric_val:\n",
        "                best_metric_val = curr_metric_val\n",
        "                return True\n",
        "            return False\n",
        "    \n",
        "    else:\n",
        "        raise ValueError(\"unknown value for save_best_by\")\n",
        "    for e in range(1, epochs_num + 1):\n",
        "        train_log = training(model, optimizer, criterion, train_dataloader, e, device)\n",
        "        valid_log = testing(model, criterion, valid_dataloader, predict, device, desc=f\"[validation, epoch {e}]\")\n",
        "        if is_the_best_result(valid_log):\n",
        "            info['best epoch'] = {\n",
        "                'epoch': e, 'model state dict': model.state_dict(),\n",
        "                **{'train ' + key: value for key, value in train_log.items()},\n",
        "                **{'valid ' + key: value for key, value in valid_log.items()}\n",
        "            }\n",
        "    if info['best epoch']['epoch'] == epochs_num:\n",
        "        last_epoch_test_log = testing(model, criterion, test_dataloader, predict, device, desc=f\"[testing, last & best epoch]\")\n",
        "        info['best epoch'].update({'test ' + key: value for key, value in last_epoch_test_log.items()})\n",
        "        info['last epoch'] = info['best epoch']\n",
        "    else:\n",
        "        last_epoch_test_log = testing(model, criterion, test_dataloader, predict, device, desc=f\"[testing, last]\")\n",
        "        info['last epoch'] = {\n",
        "            'epoch': e, 'model state dict': model.state_dict(),\n",
        "            **{'train ' + key: value for key, value in train_log.items()},\n",
        "            **{'valid ' + key: value for key, value in valid_log.items()},\n",
        "            **{'test ' + key: value for key, value in last_epoch_test_log.items()},\n",
        "        }\n",
        "        best_epoch_model = deepcopy(model)\n",
        "        best_epoch_model.load_state_dict(info['best epoch']['model state dict'])#, map_location=device)\n",
        "        best_epoch_test_log = testing(\n",
        "            best_epoch_model, criterion, test_dataloader, predict, device,\n",
        "            desc=f\"[testing, best epoch ({info['best epoch']['epoch']})]\")\n",
        "        info['best epoch'].update({'test ' + key: value for key, value in best_epoch_test_log.items()})\n",
        "    return info"
      ]
    },
    {
      "cell_type": "markdown",
      "metadata": {
        "id": "oVg_XBBb-YBH"
      },
      "source": [
        "Создадим модель, оптимизатор и целевую функцию. Вы можете сами выбрать количество слоев в нейронной сети, ваш любимый оптимизатор и целевую функцию.\n"
      ]
    },
    {
      "cell_type": "code",
      "execution_count": 25,
      "metadata": {},
      "outputs": [],
      "source": [
        "import torch.nn as nn\n",
        "\n",
        "\n",
        "class Classifier(nn.Module):\n",
        "    def __init__(\n",
        "            self, features_num, classes_num=1,\n",
        "            layer_neurons_num=256, layers_num=2, bias=True,\n",
        "            batchnorm=False, batchnorm_before_activation=False):\n",
        "        if layers_num < 1:\n",
        "            raise ValueError\n",
        "        super().__init__()\n",
        "        layers = [nn.Linear(features_num, layer_neurons_num if layers_num > 1 else classes_num, bias=bias)]\n",
        "        if layers_num - 1 > 0:\n",
        "            for _ in range(layers_num - 2):\n",
        "                a = nn.ReLU(inplace=True)\n",
        "                if batchnorm:\n",
        "                    b = nn.BatchNorm1d(layer_neurons_num)\n",
        "                    layers.extend((b, a) if batchnorm_before_activation else (a, b))\n",
        "                else:\n",
        "                    layers.append(a)\n",
        "                layers.append(nn.Linear(layer_neurons_num, layer_neurons_num, bias=bias))\n",
        "            # We do not need batch normalization before the output layer\n",
        "            # (there is opinion it may make worse classification results).\n",
        "            layers.extend([nn.ReLU(inplace=True), nn.Linear(layer_neurons_num, classes_num, bias=bias)])\n",
        "        self.net = nn.Sequential(*layers)\n",
        "\n",
        "    def forward(self, input):\n",
        "        return self.net(input)\n",
        "\n",
        "\n",
        "def binary_predict(input, output_type=torch.long):\n",
        "    return (torch.sigmoid(input) >= 0.5).type(output_type)"
      ]
    },
    {
      "cell_type": "code",
      "execution_count": 26,
      "metadata": {},
      "outputs": [],
      "source": [
        "from torch.optim import AdamW\n",
        "\n",
        "features_num = word2vec.vector_size\n",
        "classes_num = 1\n",
        "criterion = nn.BCEWithLogitsLoss()\n",
        "predict = binary_predict\n",
        "collate_fn = average_emb\n",
        "\n",
        "default_model_init_kwargs = dict(\n",
        "    features_num=word2vec.vector_size, classes_num=1,\n",
        "    layer_neurons_num=256, layers_num=2, bias=True,\n",
        "    batchnorm=False, batchnorm_before_activation=False)\n",
        "default_epochs_num = 15"
      ]
    },
    {
      "cell_type": "code",
      "execution_count": 27,
      "metadata": {},
      "outputs": [],
      "source": [
        "import shelve\n",
        "\n",
        "EXPR_METRICS_STORAGE = shelve.open('experiments_storage', writeback=True)\n",
        "\n",
        "def add_experiment_metrics(expr_desc, model_init_kwargs, train_params, train_val_test_results):\n",
        "    EXPR_METRICS_STORAGE[expr_desc] = dict(expr_desc=expr_desc, model_init_kwargs=model_init_kwargs, train_params=train_params, train_val_test_results=train_val_test_results)\n",
        "    EXPR_METRICS_STORAGE.sync()"
      ]
    },
    {
      "cell_type": "code",
      "execution_count": 28,
      "metadata": {},
      "outputs": [],
      "source": [
        "import pandas as pd\n",
        "\n",
        "\n",
        "def show_results(train_val_test_results):\n",
        "    best = train_val_test_results['best epoch']\n",
        "    last = train_val_test_results['last epoch']\n",
        "    df = pd.DataFrame(\n",
        "        [\n",
        "            [best['epoch'], best['test accuracy'], best['valid accuracy'],\n",
        "                best['test mean loss'], best['valid mean loss'], best['train mean loss']],\n",
        "            [last['epoch'], last['test accuracy'], last['valid accuracy'],\n",
        "                last['test mean loss'], last['valid mean loss'], last['train mean loss']],\n",
        "        ], index=['best', 'last'],\n",
        "        columns=[\n",
        "            'epoch', 'test accuracy', 'valid accuracy',\n",
        "            'test mean loss', 'valid mean loss', 'train mean loss']\n",
        "    )\n",
        "    return df"
      ]
    },
    {
      "cell_type": "code",
      "execution_count": 30,
      "metadata": {},
      "outputs": [],
      "source": [
        "all_data_splitted = prepare_and_split_data(data)"
      ]
    },
    {
      "cell_type": "code",
      "execution_count": 135,
      "metadata": {},
      "outputs": [],
      "source": [
        "import gensim\n",
        "import numpy as np\n",
        "\n",
        "w2v_model_name = \"word2vec-google-news-300\"\n",
        "locals_ = locals()\n",
        "if locals_.get('word2vec') is None:\n",
        "    word2vec = gensim.downloader.load(w2v_model_name)\n",
        "if locals_.get('w2v_mean') is None:\n",
        "    w2v_mean = np.mean(word2vec.vectors, axis=0)\n",
        "if locals_.get('w2v_std') is None:\n",
        "    w2v_std = np.std(w2v_std.vectors, axis=0)\n",
        "dataset_w2v_kwargs = dict(word2vec=word2vec, w2v_mean=w2v_mean, w2v_std=w2v_std)"
      ]
    },
    {
      "cell_type": "markdown",
      "metadata": {
        "id": "-AitU8AR-zBj"
      },
      "source": [
        "Наконец, обучим модель и протестируем её.\n",
        "\n",
        "После каждой эпохи будем проверять качество модели на валидационной части датасета. Если метрика стала лучше, будем сохранять модель. **Подумайте, какая метрика (точность или лосс) будет лучше работать в этой задаче?** "
      ]
    },
    {
      "source": [
        "** Ответ **\n",
        "\n",
        "По лоссу мы напрямую оптизируемся во время обучения, поэтому использовать его в качестве метрики на валидации не совсем правильно. Плюс лосс показывает усреднённую разницу (не разность) между вероятностями классов, а не непосредственным предсказаниями. Accuracy хорошо отражает качество классификации, если классы в данных сбалансированы."
      ],
      "cell_type": "markdown",
      "metadata": {}
    },
    {
      "cell_type": "code",
      "execution_count": 193,
      "metadata": {},
      "outputs": [
        {
          "output_type": "execute_result",
          "data": {
            "text/plain": [
              "4    800000\n",
              "0    800000\n",
              "Name: emotion, dtype: int64"
            ]
          },
          "metadata": {},
          "execution_count": 193
        }
      ],
      "source": [
        "data[\"emotion\"].value_counts()"
      ]
    },
    {
      "source": [
        "Классы сбалансированы идеально, но хороший ли у нас рандом при разбиении данных?"
      ],
      "cell_type": "markdown",
      "metadata": {}
    },
    {
      "cell_type": "code",
      "execution_count": 350,
      "metadata": {},
      "outputs": [
        {
          "output_type": "stream",
          "name": "stdout",
          "text": [
            "train_targets\n0    480271\n4    479729\nName: emotion, dtype: int64\n\nvalid_targets\n0    160235\n4    159765\nName: emotion, dtype: int64\n\ntest_targets\n4    160506\n0    159494\nName: emotion, dtype: int64\n"
          ]
        }
      ],
      "source": [
        "print(*[key + '\\n' + str(targets.value_counts()) for key, targets in all_data_splitted.items() if key.endswith(\"_targets\")], sep='\\n\\n')"
      ]
    },
    {
      "source": [
        "Рандом тоже отличный, поэтому можно смело использовать accuracy. Мы, конечно, косвенно оптизимируемся и по ней, выбирая лучшую на валидации модель, поэтому проводим финальную оценку качества на отложенных тест-данных."
      ],
      "cell_type": "markdown",
      "metadata": {}
    },
    {
      "source": [
        "## Experiment #1\n",
        "default classifier, accuracy, word2vec-google-news-300"
      ],
      "cell_type": "markdown",
      "metadata": {}
    },
    {
      "cell_type": "code",
      "execution_count": 515,
      "metadata": {},
      "outputs": [],
      "source": [
        "splitted_data = all_data_splitted"
      ]
    },
    {
      "cell_type": "code",
      "execution_count": 412,
      "metadata": {},
      "outputs": [
        {
          "output_type": "stream",
          "name": "stdout",
          "text": [
            "Creating train dataset...\n\n"
          ]
        },
        {
          "output_type": "display_data",
          "data": {
            "text/plain": "HBox(children=(FloatProgress(value=0.0, description='processing texts', max=960000.0, style=ProgressStyle(desc…",
            "application/vnd.jupyter.widget-view+json": {
              "version_major": 2,
              "version_minor": 0,
              "model_id": "ea18cb47654046b0ba4726fef959e246"
            }
          },
          "metadata": {}
        },
        {
          "output_type": "stream",
          "name": "stdout",
          "text": [
            "\n",
            "Train dataset created. Time spent: 67.75587940216064.\n",
            "Creating valid dataset...\n",
            "\n"
          ]
        },
        {
          "output_type": "display_data",
          "data": {
            "text/plain": "HBox(children=(FloatProgress(value=0.0, description='processing texts', max=320000.0, style=ProgressStyle(desc…",
            "application/vnd.jupyter.widget-view+json": {
              "version_major": 2,
              "version_minor": 0,
              "model_id": "da7d4dc57e0249eb9955e7b1547b4703"
            }
          },
          "metadata": {}
        },
        {
          "output_type": "stream",
          "name": "stdout",
          "text": [
            "\n",
            "Valid dataset created. Time spent: 77.35805130004883.\n",
            "Creating test dataset...\n",
            "\n"
          ]
        },
        {
          "output_type": "display_data",
          "data": {
            "text/plain": "HBox(children=(FloatProgress(value=0.0, description='processing texts', max=320000.0, style=ProgressStyle(desc…",
            "application/vnd.jupyter.widget-view+json": {
              "version_major": 2,
              "version_minor": 0,
              "model_id": "8c6bbe5cbfe04d8b87fc4d94c0c2098f"
            }
          },
          "metadata": {}
        },
        {
          "output_type": "stream",
          "name": "stdout",
          "text": [
            "\n",
            "Test dataset created. Time spent: 20.24873638153076.\n"
          ]
        }
      ],
      "source": [
        "datasets_kwargs = dict(train=dataset_w2v_kwargs, valid=dataset_w2v_kwargs, test=dataset_w2v_kwargs)\n",
        "datasets = create_datasets(SlightlyMoreComputationallyEfficientDataset, **splitted_data, datasets_kwargs=datasets_kwargs)\n",
        "dataloaders = create_dataloaders(collate_fn, **datasets)"
      ]
    },
    {
      "cell_type": "code",
      "execution_count": 413,
      "metadata": {},
      "outputs": [
        {
          "output_type": "execute_result",
          "data": {
            "text/plain": [
              "Classifier(\n",
              "  (net): Sequential(\n",
              "    (0): Linear(in_features=300, out_features=256, bias=True)\n",
              "    (1): ReLU(inplace=True)\n",
              "    (2): Linear(in_features=256, out_features=1, bias=True)\n",
              "  )\n",
              ")"
            ]
          },
          "metadata": {},
          "execution_count": 413
        }
      ],
      "source": [
        "enable_reproducibility()\n",
        "model_init_kwargs = default_model_init_kwargs\n",
        "epochs_num = default_epochs_num\n",
        "optim_cls = AdamW\n",
        "lr=3e-4\n",
        "save_best_by='accuracy'\n",
        "expr_desc = \"expr #1\"\n",
        "model = Classifier(**model_init_kwargs)\n",
        "optimizer = optim_cls(model.parameters(), lr=lr)\n",
        "train_params = dict(\n",
        "    optimizer_cls=optimizer.__class__.__name__,\n",
        "    criterion_cls=criterion.__class__.__name__,\n",
        "    predict_func=predict.__name__, collate_fn_func=collate_fn.__name__,\n",
        "    lr=lr, epochs_num=epochs_num, save_best_by=save_best_by, w2v_model_name=w2v_model_name)\n",
        "train_valid_test_args = dict(\n",
        "    epochs_num=epochs_num,\n",
        "    model=model, optimizer=optimizer, criterion=criterion,\n",
        "    **dataloaders,\n",
        "    predict=predict, device=DEVICE,\n",
        "    save_best_by=save_best_by\n",
        ")\n",
        "model"
      ]
    },
    {
      "cell_type": "code",
      "execution_count": 414,
      "metadata": {},
      "outputs": [
        {
          "output_type": "display_data",
          "data": {
            "text/plain": "HBox(children=(FloatProgress(value=0.0, description='[training, epoch 1]', max=937.0, style=ProgressStyle(desc…",
            "application/vnd.jupyter.widget-view+json": {
              "version_major": 2,
              "version_minor": 0,
              "model_id": "1c847f912f40403f882336750e905cc5"
            }
          },
          "metadata": {}
        },
        {
          "output_type": "stream",
          "name": "stdout",
          "text": [
            "\n"
          ]
        },
        {
          "output_type": "display_data",
          "data": {
            "text/plain": "HBox(children=(FloatProgress(value=0.0, description='[validation, epoch 1]', max=313.0, style=ProgressStyle(de…",
            "application/vnd.jupyter.widget-view+json": {
              "version_major": 2,
              "version_minor": 0,
              "model_id": "bcbd743278cf42f7a028d9dbc4d77ce9"
            }
          },
          "metadata": {}
        },
        {
          "output_type": "stream",
          "name": "stdout",
          "text": [
            "\n"
          ]
        },
        {
          "output_type": "display_data",
          "data": {
            "text/plain": "HBox(children=(FloatProgress(value=0.0, description='[training, epoch 2]', max=937.0, style=ProgressStyle(desc…",
            "application/vnd.jupyter.widget-view+json": {
              "version_major": 2,
              "version_minor": 0,
              "model_id": "c5b08b04cacf4db7812ce2d62216cf6d"
            }
          },
          "metadata": {}
        },
        {
          "output_type": "stream",
          "name": "stdout",
          "text": [
            "\n"
          ]
        },
        {
          "output_type": "display_data",
          "data": {
            "text/plain": "HBox(children=(FloatProgress(value=0.0, description='[validation, epoch 2]', max=313.0, style=ProgressStyle(de…",
            "application/vnd.jupyter.widget-view+json": {
              "version_major": 2,
              "version_minor": 0,
              "model_id": "f8b7803f2700449aa0b2d8299a55f95d"
            }
          },
          "metadata": {}
        },
        {
          "output_type": "stream",
          "name": "stdout",
          "text": [
            "\n"
          ]
        },
        {
          "output_type": "display_data",
          "data": {
            "text/plain": "HBox(children=(FloatProgress(value=0.0, description='[training, epoch 3]', max=937.0, style=ProgressStyle(desc…",
            "application/vnd.jupyter.widget-view+json": {
              "version_major": 2,
              "version_minor": 0,
              "model_id": "f2ddf939abb445079e3ae9e1da95c1e4"
            }
          },
          "metadata": {}
        },
        {
          "output_type": "stream",
          "name": "stdout",
          "text": [
            "\n"
          ]
        },
        {
          "output_type": "display_data",
          "data": {
            "text/plain": "HBox(children=(FloatProgress(value=0.0, description='[validation, epoch 3]', max=313.0, style=ProgressStyle(de…",
            "application/vnd.jupyter.widget-view+json": {
              "version_major": 2,
              "version_minor": 0,
              "model_id": "86e7fef542db417b986caf690a7f5b11"
            }
          },
          "metadata": {}
        },
        {
          "output_type": "stream",
          "name": "stdout",
          "text": [
            "\n"
          ]
        },
        {
          "output_type": "display_data",
          "data": {
            "text/plain": "HBox(children=(FloatProgress(value=0.0, description='[training, epoch 4]', max=937.0, style=ProgressStyle(desc…",
            "application/vnd.jupyter.widget-view+json": {
              "version_major": 2,
              "version_minor": 0,
              "model_id": "a862a848cfa647a4a56827f06300ee90"
            }
          },
          "metadata": {}
        },
        {
          "output_type": "stream",
          "name": "stdout",
          "text": [
            "\n"
          ]
        },
        {
          "output_type": "display_data",
          "data": {
            "text/plain": "HBox(children=(FloatProgress(value=0.0, description='[validation, epoch 4]', max=313.0, style=ProgressStyle(de…",
            "application/vnd.jupyter.widget-view+json": {
              "version_major": 2,
              "version_minor": 0,
              "model_id": "f26b70c87b91494298f9f8fa351fb5ca"
            }
          },
          "metadata": {}
        },
        {
          "output_type": "stream",
          "name": "stdout",
          "text": [
            "\n"
          ]
        },
        {
          "output_type": "display_data",
          "data": {
            "text/plain": "HBox(children=(FloatProgress(value=0.0, description='[training, epoch 5]', max=937.0, style=ProgressStyle(desc…",
            "application/vnd.jupyter.widget-view+json": {
              "version_major": 2,
              "version_minor": 0,
              "model_id": "4c3515cebb774b5a943469c0b85cb074"
            }
          },
          "metadata": {}
        },
        {
          "output_type": "stream",
          "name": "stdout",
          "text": [
            "\n"
          ]
        },
        {
          "output_type": "display_data",
          "data": {
            "text/plain": "HBox(children=(FloatProgress(value=0.0, description='[validation, epoch 5]', max=313.0, style=ProgressStyle(de…",
            "application/vnd.jupyter.widget-view+json": {
              "version_major": 2,
              "version_minor": 0,
              "model_id": "69486e4758624c5f95bf32154e7a7e31"
            }
          },
          "metadata": {}
        },
        {
          "output_type": "stream",
          "name": "stdout",
          "text": [
            "\n"
          ]
        },
        {
          "output_type": "display_data",
          "data": {
            "text/plain": "HBox(children=(FloatProgress(value=0.0, description='[training, epoch 6]', max=937.0, style=ProgressStyle(desc…",
            "application/vnd.jupyter.widget-view+json": {
              "version_major": 2,
              "version_minor": 0,
              "model_id": "624eb95cb18c4592a1c58397a9c72ee9"
            }
          },
          "metadata": {}
        },
        {
          "output_type": "stream",
          "name": "stdout",
          "text": [
            "\n"
          ]
        },
        {
          "output_type": "display_data",
          "data": {
            "text/plain": "HBox(children=(FloatProgress(value=0.0, description='[validation, epoch 6]', max=313.0, style=ProgressStyle(de…",
            "application/vnd.jupyter.widget-view+json": {
              "version_major": 2,
              "version_minor": 0,
              "model_id": "ac741d1bc6494ea2bb3f886aca1a4dfb"
            }
          },
          "metadata": {}
        },
        {
          "output_type": "stream",
          "name": "stdout",
          "text": [
            "\n"
          ]
        },
        {
          "output_type": "display_data",
          "data": {
            "text/plain": "HBox(children=(FloatProgress(value=0.0, description='[training, epoch 7]', max=937.0, style=ProgressStyle(desc…",
            "application/vnd.jupyter.widget-view+json": {
              "version_major": 2,
              "version_minor": 0,
              "model_id": "50084757b83e48b68810b8745eb217a4"
            }
          },
          "metadata": {}
        },
        {
          "output_type": "stream",
          "name": "stdout",
          "text": [
            "\n"
          ]
        },
        {
          "output_type": "display_data",
          "data": {
            "text/plain": "HBox(children=(FloatProgress(value=0.0, description='[validation, epoch 7]', max=313.0, style=ProgressStyle(de…",
            "application/vnd.jupyter.widget-view+json": {
              "version_major": 2,
              "version_minor": 0,
              "model_id": "47652bb9d3064493aeb2a60dea624e72"
            }
          },
          "metadata": {}
        },
        {
          "output_type": "stream",
          "name": "stdout",
          "text": [
            "\n"
          ]
        },
        {
          "output_type": "display_data",
          "data": {
            "text/plain": "HBox(children=(FloatProgress(value=0.0, description='[training, epoch 8]', max=937.0, style=ProgressStyle(desc…",
            "application/vnd.jupyter.widget-view+json": {
              "version_major": 2,
              "version_minor": 0,
              "model_id": "d02a9a8a283349efb160803672cf166f"
            }
          },
          "metadata": {}
        },
        {
          "output_type": "stream",
          "name": "stdout",
          "text": [
            "\n"
          ]
        },
        {
          "output_type": "display_data",
          "data": {
            "text/plain": "HBox(children=(FloatProgress(value=0.0, description='[validation, epoch 8]', max=313.0, style=ProgressStyle(de…",
            "application/vnd.jupyter.widget-view+json": {
              "version_major": 2,
              "version_minor": 0,
              "model_id": "b995983bcd814998a3475de8722a54d3"
            }
          },
          "metadata": {}
        },
        {
          "output_type": "stream",
          "name": "stdout",
          "text": [
            "\n"
          ]
        },
        {
          "output_type": "display_data",
          "data": {
            "text/plain": "HBox(children=(FloatProgress(value=0.0, description='[training, epoch 9]', max=937.0, style=ProgressStyle(desc…",
            "application/vnd.jupyter.widget-view+json": {
              "version_major": 2,
              "version_minor": 0,
              "model_id": "7227b41aaa6649b7be6d6b1b18bd1908"
            }
          },
          "metadata": {}
        },
        {
          "output_type": "stream",
          "name": "stdout",
          "text": [
            "\n"
          ]
        },
        {
          "output_type": "display_data",
          "data": {
            "text/plain": "HBox(children=(FloatProgress(value=0.0, description='[validation, epoch 9]', max=313.0, style=ProgressStyle(de…",
            "application/vnd.jupyter.widget-view+json": {
              "version_major": 2,
              "version_minor": 0,
              "model_id": "3bbeb56d80c741fb8a22b6296a3b583a"
            }
          },
          "metadata": {}
        },
        {
          "output_type": "stream",
          "name": "stdout",
          "text": [
            "\n"
          ]
        },
        {
          "output_type": "display_data",
          "data": {
            "text/plain": "HBox(children=(FloatProgress(value=0.0, description='[training, epoch 10]', max=937.0, style=ProgressStyle(des…",
            "application/vnd.jupyter.widget-view+json": {
              "version_major": 2,
              "version_minor": 0,
              "model_id": "720dcdf1888e4b8cad93875301fe806a"
            }
          },
          "metadata": {}
        },
        {
          "output_type": "stream",
          "name": "stdout",
          "text": [
            "\n"
          ]
        },
        {
          "output_type": "display_data",
          "data": {
            "text/plain": "HBox(children=(FloatProgress(value=0.0, description='[validation, epoch 10]', max=313.0, style=ProgressStyle(d…",
            "application/vnd.jupyter.widget-view+json": {
              "version_major": 2,
              "version_minor": 0,
              "model_id": "8d8b0e2025654646b24094bc07a2589b"
            }
          },
          "metadata": {}
        },
        {
          "output_type": "stream",
          "name": "stdout",
          "text": [
            "\n"
          ]
        },
        {
          "output_type": "display_data",
          "data": {
            "text/plain": "HBox(children=(FloatProgress(value=0.0, description='[training, epoch 11]', max=937.0, style=ProgressStyle(des…",
            "application/vnd.jupyter.widget-view+json": {
              "version_major": 2,
              "version_minor": 0,
              "model_id": "805e5a3b2f40474dadbd62619b813a4f"
            }
          },
          "metadata": {}
        },
        {
          "output_type": "stream",
          "name": "stdout",
          "text": [
            "\n"
          ]
        },
        {
          "output_type": "display_data",
          "data": {
            "text/plain": "HBox(children=(FloatProgress(value=0.0, description='[validation, epoch 11]', max=313.0, style=ProgressStyle(d…",
            "application/vnd.jupyter.widget-view+json": {
              "version_major": 2,
              "version_minor": 0,
              "model_id": "a43cd87b800f42119302ddd78b049152"
            }
          },
          "metadata": {}
        },
        {
          "output_type": "stream",
          "name": "stdout",
          "text": [
            "\n"
          ]
        },
        {
          "output_type": "display_data",
          "data": {
            "text/plain": "HBox(children=(FloatProgress(value=0.0, description='[training, epoch 12]', max=937.0, style=ProgressStyle(des…",
            "application/vnd.jupyter.widget-view+json": {
              "version_major": 2,
              "version_minor": 0,
              "model_id": "ec8dd1ee45984026a4bec9e3fe28735f"
            }
          },
          "metadata": {}
        },
        {
          "output_type": "stream",
          "name": "stdout",
          "text": [
            "\n"
          ]
        },
        {
          "output_type": "display_data",
          "data": {
            "text/plain": "HBox(children=(FloatProgress(value=0.0, description='[validation, epoch 12]', max=313.0, style=ProgressStyle(d…",
            "application/vnd.jupyter.widget-view+json": {
              "version_major": 2,
              "version_minor": 0,
              "model_id": "dd7eeb8e3b47454889bf506701672295"
            }
          },
          "metadata": {}
        },
        {
          "output_type": "stream",
          "name": "stdout",
          "text": [
            "\n"
          ]
        },
        {
          "output_type": "display_data",
          "data": {
            "text/plain": "HBox(children=(FloatProgress(value=0.0, description='[training, epoch 13]', max=937.0, style=ProgressStyle(des…",
            "application/vnd.jupyter.widget-view+json": {
              "version_major": 2,
              "version_minor": 0,
              "model_id": "296e48966ed54d9b8740dd89ff9a13ee"
            }
          },
          "metadata": {}
        },
        {
          "output_type": "stream",
          "name": "stdout",
          "text": [
            "\n"
          ]
        },
        {
          "output_type": "display_data",
          "data": {
            "text/plain": "HBox(children=(FloatProgress(value=0.0, description='[validation, epoch 13]', max=313.0, style=ProgressStyle(d…",
            "application/vnd.jupyter.widget-view+json": {
              "version_major": 2,
              "version_minor": 0,
              "model_id": "b4d18299cc0f40deb2b5aca20d8d3c18"
            }
          },
          "metadata": {}
        },
        {
          "output_type": "stream",
          "name": "stdout",
          "text": [
            "\n"
          ]
        },
        {
          "output_type": "display_data",
          "data": {
            "text/plain": "HBox(children=(FloatProgress(value=0.0, description='[training, epoch 14]', max=937.0, style=ProgressStyle(des…",
            "application/vnd.jupyter.widget-view+json": {
              "version_major": 2,
              "version_minor": 0,
              "model_id": "9085ad484e3040c5b0807f44fc7c57c3"
            }
          },
          "metadata": {}
        },
        {
          "output_type": "stream",
          "name": "stdout",
          "text": [
            "\n"
          ]
        },
        {
          "output_type": "display_data",
          "data": {
            "text/plain": "HBox(children=(FloatProgress(value=0.0, description='[validation, epoch 14]', max=313.0, style=ProgressStyle(d…",
            "application/vnd.jupyter.widget-view+json": {
              "version_major": 2,
              "version_minor": 0,
              "model_id": "35d122a9b37441da927f9ea35474d9e5"
            }
          },
          "metadata": {}
        },
        {
          "output_type": "stream",
          "name": "stdout",
          "text": [
            "\n"
          ]
        },
        {
          "output_type": "display_data",
          "data": {
            "text/plain": "HBox(children=(FloatProgress(value=0.0, description='[training, epoch 15]', max=937.0, style=ProgressStyle(des…",
            "application/vnd.jupyter.widget-view+json": {
              "version_major": 2,
              "version_minor": 0,
              "model_id": "69a55452078742dda459d6f3d4b59e19"
            }
          },
          "metadata": {}
        },
        {
          "output_type": "stream",
          "name": "stdout",
          "text": [
            "\n"
          ]
        },
        {
          "output_type": "display_data",
          "data": {
            "text/plain": "HBox(children=(FloatProgress(value=0.0, description='[validation, epoch 15]', max=313.0, style=ProgressStyle(d…",
            "application/vnd.jupyter.widget-view+json": {
              "version_major": 2,
              "version_minor": 0,
              "model_id": "5465bfa775324eefa02aa201f5b3b89a"
            }
          },
          "metadata": {}
        },
        {
          "output_type": "stream",
          "name": "stdout",
          "text": [
            "\n"
          ]
        },
        {
          "output_type": "display_data",
          "data": {
            "text/plain": "HBox(children=(FloatProgress(value=0.0, description='[testing, last & best epoch]', max=313.0, style=ProgressS…",
            "application/vnd.jupyter.widget-view+json": {
              "version_major": 2,
              "version_minor": 0,
              "model_id": "c0fffceab65a41a58ab378328f157868"
            }
          },
          "metadata": {}
        },
        {
          "output_type": "stream",
          "name": "stdout",
          "text": [
            "\nWall time: 27min 48s\n"
          ]
        },
        {
          "output_type": "execute_result",
          "data": {
            "text/plain": [
              "      epoch  test accuracy  valid accuracy  test mean loss  valid mean loss  \\\n",
              "best     15       0.765953        0.765613        0.484946         0.483516   \n",
              "last     15       0.765953        0.765613        0.484946         0.483516   \n",
              "\n",
              "      train mean loss  \n",
              "best         0.461675  \n",
              "last         0.461675  "
            ],
            "text/html": "<div>\n<style scoped>\n    .dataframe tbody tr th:only-of-type {\n        vertical-align: middle;\n    }\n\n    .dataframe tbody tr th {\n        vertical-align: top;\n    }\n\n    .dataframe thead th {\n        text-align: right;\n    }\n</style>\n<table border=\"1\" class=\"dataframe\">\n  <thead>\n    <tr style=\"text-align: right;\">\n      <th></th>\n      <th>epoch</th>\n      <th>test accuracy</th>\n      <th>valid accuracy</th>\n      <th>test mean loss</th>\n      <th>valid mean loss</th>\n      <th>train mean loss</th>\n    </tr>\n  </thead>\n  <tbody>\n    <tr>\n      <th>best</th>\n      <td>15</td>\n      <td>0.765953</td>\n      <td>0.765613</td>\n      <td>0.484946</td>\n      <td>0.483516</td>\n      <td>0.461675</td>\n    </tr>\n    <tr>\n      <th>last</th>\n      <td>15</td>\n      <td>0.765953</td>\n      <td>0.765613</td>\n      <td>0.484946</td>\n      <td>0.483516</td>\n      <td>0.461675</td>\n    </tr>\n  </tbody>\n</table>\n</div>"
          },
          "metadata": {},
          "execution_count": 414
        }
      ],
      "source": [
        "%%time\n",
        "results = train_valid_test_model(**train_valid_test_args)\n",
        "add_experiment_metrics(expr_desc, model_init_kwargs, train_params, results)\n",
        "show_results(results)"
      ]
    },
    {
      "source": [
        "## Experiment #2\n",
        "default classifier, loss, word2vec-google-news-300"
      ],
      "cell_type": "markdown",
      "metadata": {}
    },
    {
      "cell_type": "code",
      "execution_count": 415,
      "metadata": {},
      "outputs": [],
      "source": [
        "enable_reproducibility()\n",
        "model_init_kwargs = default_model_init_kwargs\n",
        "epochs_num = default_epochs_num\n",
        "optim_cls = AdamW\n",
        "lr=3e-4\n",
        "save_best_by='loss'\n",
        "expr_desc = \"expr #2\"\n",
        "model = Classifier(**model_init_kwargs)\n",
        "optimizer = optim_cls(model.parameters(), lr=lr)\n",
        "train_params = dict(\n",
        "    optimizer_cls=optimizer.__class__.__name__,\n",
        "    criterion_cls=criterion.__class__.__name__,\n",
        "    predict_func=predict.__name__, collate_fn_func=collate_fn.__name__,\n",
        "    lr=lr, epochs_num=epochs_num, save_best_by=save_best_by, w2v_model_name=w2v_model_name)\n",
        "train_valid_test_args = dict(\n",
        "    epochs_num=epochs_num,\n",
        "    model=model, optimizer=optimizer, criterion=criterion,\n",
        "    **dataloaders,\n",
        "    predict=predict, device=DEVICE,\n",
        "    save_best_by=save_best_by\n",
        ")"
      ]
    },
    {
      "cell_type": "code",
      "execution_count": 416,
      "metadata": {},
      "outputs": [
        {
          "output_type": "display_data",
          "data": {
            "text/plain": "HBox(children=(FloatProgress(value=0.0, description='[training, epoch 1]', max=937.0, style=ProgressStyle(desc…",
            "application/vnd.jupyter.widget-view+json": {
              "version_major": 2,
              "version_minor": 0,
              "model_id": "beefa7e7abf14d50bbfa838e3e4b983a"
            }
          },
          "metadata": {}
        },
        {
          "output_type": "stream",
          "name": "stdout",
          "text": [
            "\n"
          ]
        },
        {
          "output_type": "display_data",
          "data": {
            "text/plain": "HBox(children=(FloatProgress(value=0.0, description='[validation, epoch 1]', max=313.0, style=ProgressStyle(de…",
            "application/vnd.jupyter.widget-view+json": {
              "version_major": 2,
              "version_minor": 0,
              "model_id": "d39d3dcacf664099b05ad71819c18805"
            }
          },
          "metadata": {}
        },
        {
          "output_type": "stream",
          "name": "stdout",
          "text": [
            "\n"
          ]
        },
        {
          "output_type": "display_data",
          "data": {
            "text/plain": "HBox(children=(FloatProgress(value=0.0, description='[training, epoch 2]', max=937.0, style=ProgressStyle(desc…",
            "application/vnd.jupyter.widget-view+json": {
              "version_major": 2,
              "version_minor": 0,
              "model_id": "62c79446ed0e44f496fb3ff3ed03e9f2"
            }
          },
          "metadata": {}
        },
        {
          "output_type": "stream",
          "name": "stdout",
          "text": [
            "\n"
          ]
        },
        {
          "output_type": "display_data",
          "data": {
            "text/plain": "HBox(children=(FloatProgress(value=0.0, description='[validation, epoch 2]', max=313.0, style=ProgressStyle(de…",
            "application/vnd.jupyter.widget-view+json": {
              "version_major": 2,
              "version_minor": 0,
              "model_id": "baebde67ae474d33af499c003dc96459"
            }
          },
          "metadata": {}
        },
        {
          "output_type": "stream",
          "name": "stdout",
          "text": [
            "\n"
          ]
        },
        {
          "output_type": "display_data",
          "data": {
            "text/plain": "HBox(children=(FloatProgress(value=0.0, description='[training, epoch 3]', max=937.0, style=ProgressStyle(desc…",
            "application/vnd.jupyter.widget-view+json": {
              "version_major": 2,
              "version_minor": 0,
              "model_id": "27d7e1f05fac40b281858df054734e3e"
            }
          },
          "metadata": {}
        },
        {
          "output_type": "stream",
          "name": "stdout",
          "text": [
            "\n"
          ]
        },
        {
          "output_type": "display_data",
          "data": {
            "text/plain": "HBox(children=(FloatProgress(value=0.0, description='[validation, epoch 3]', max=313.0, style=ProgressStyle(de…",
            "application/vnd.jupyter.widget-view+json": {
              "version_major": 2,
              "version_minor": 0,
              "model_id": "260381691c0f4227819ca0f928c0534d"
            }
          },
          "metadata": {}
        },
        {
          "output_type": "stream",
          "name": "stdout",
          "text": [
            "\n"
          ]
        },
        {
          "output_type": "display_data",
          "data": {
            "text/plain": "HBox(children=(FloatProgress(value=0.0, description='[training, epoch 4]', max=937.0, style=ProgressStyle(desc…",
            "application/vnd.jupyter.widget-view+json": {
              "version_major": 2,
              "version_minor": 0,
              "model_id": "eb05754ee9eb4948a1ec7aa48570913c"
            }
          },
          "metadata": {}
        },
        {
          "output_type": "stream",
          "name": "stdout",
          "text": [
            "\n"
          ]
        },
        {
          "output_type": "display_data",
          "data": {
            "text/plain": "HBox(children=(FloatProgress(value=0.0, description='[validation, epoch 4]', max=313.0, style=ProgressStyle(de…",
            "application/vnd.jupyter.widget-view+json": {
              "version_major": 2,
              "version_minor": 0,
              "model_id": "f49775c5c5c643c88e63d0b4e81d490f"
            }
          },
          "metadata": {}
        },
        {
          "output_type": "stream",
          "name": "stdout",
          "text": [
            "\n"
          ]
        },
        {
          "output_type": "display_data",
          "data": {
            "text/plain": "HBox(children=(FloatProgress(value=0.0, description='[training, epoch 5]', max=937.0, style=ProgressStyle(desc…",
            "application/vnd.jupyter.widget-view+json": {
              "version_major": 2,
              "version_minor": 0,
              "model_id": "cf896807eb7248bba2244c09f8c487e8"
            }
          },
          "metadata": {}
        },
        {
          "output_type": "stream",
          "name": "stdout",
          "text": [
            "\n"
          ]
        },
        {
          "output_type": "display_data",
          "data": {
            "text/plain": "HBox(children=(FloatProgress(value=0.0, description='[validation, epoch 5]', max=313.0, style=ProgressStyle(de…",
            "application/vnd.jupyter.widget-view+json": {
              "version_major": 2,
              "version_minor": 0,
              "model_id": "4bc52532ffee47b2bff8efa60e2b34e9"
            }
          },
          "metadata": {}
        },
        {
          "output_type": "stream",
          "name": "stdout",
          "text": [
            "\n"
          ]
        },
        {
          "output_type": "display_data",
          "data": {
            "text/plain": "HBox(children=(FloatProgress(value=0.0, description='[training, epoch 6]', max=937.0, style=ProgressStyle(desc…",
            "application/vnd.jupyter.widget-view+json": {
              "version_major": 2,
              "version_minor": 0,
              "model_id": "b38e45c0152841e3a6207a23e2b89597"
            }
          },
          "metadata": {}
        },
        {
          "output_type": "stream",
          "name": "stdout",
          "text": [
            "\n"
          ]
        },
        {
          "output_type": "display_data",
          "data": {
            "text/plain": "HBox(children=(FloatProgress(value=0.0, description='[validation, epoch 6]', max=313.0, style=ProgressStyle(de…",
            "application/vnd.jupyter.widget-view+json": {
              "version_major": 2,
              "version_minor": 0,
              "model_id": "a625beb03ee7417b9247b567097fb5a6"
            }
          },
          "metadata": {}
        },
        {
          "output_type": "stream",
          "name": "stdout",
          "text": [
            "\n"
          ]
        },
        {
          "output_type": "display_data",
          "data": {
            "text/plain": "HBox(children=(FloatProgress(value=0.0, description='[training, epoch 7]', max=937.0, style=ProgressStyle(desc…",
            "application/vnd.jupyter.widget-view+json": {
              "version_major": 2,
              "version_minor": 0,
              "model_id": "0e5451706b8442e2bdf76f92fd990859"
            }
          },
          "metadata": {}
        },
        {
          "output_type": "stream",
          "name": "stdout",
          "text": [
            "\n"
          ]
        },
        {
          "output_type": "display_data",
          "data": {
            "text/plain": "HBox(children=(FloatProgress(value=0.0, description='[validation, epoch 7]', max=313.0, style=ProgressStyle(de…",
            "application/vnd.jupyter.widget-view+json": {
              "version_major": 2,
              "version_minor": 0,
              "model_id": "ac43e983b1df43aa8ae651a3ceface69"
            }
          },
          "metadata": {}
        },
        {
          "output_type": "stream",
          "name": "stdout",
          "text": [
            "\n"
          ]
        },
        {
          "output_type": "display_data",
          "data": {
            "text/plain": "HBox(children=(FloatProgress(value=0.0, description='[training, epoch 8]', max=937.0, style=ProgressStyle(desc…",
            "application/vnd.jupyter.widget-view+json": {
              "version_major": 2,
              "version_minor": 0,
              "model_id": "d18a429c8eae4252a1e82d98bed414a7"
            }
          },
          "metadata": {}
        },
        {
          "output_type": "stream",
          "name": "stdout",
          "text": [
            "\n"
          ]
        },
        {
          "output_type": "display_data",
          "data": {
            "text/plain": "HBox(children=(FloatProgress(value=0.0, description='[validation, epoch 8]', max=313.0, style=ProgressStyle(de…",
            "application/vnd.jupyter.widget-view+json": {
              "version_major": 2,
              "version_minor": 0,
              "model_id": "1109a7b4aee84121bad2d9fac07b1546"
            }
          },
          "metadata": {}
        },
        {
          "output_type": "stream",
          "name": "stdout",
          "text": [
            "\n"
          ]
        },
        {
          "output_type": "display_data",
          "data": {
            "text/plain": "HBox(children=(FloatProgress(value=0.0, description='[training, epoch 9]', max=937.0, style=ProgressStyle(desc…",
            "application/vnd.jupyter.widget-view+json": {
              "version_major": 2,
              "version_minor": 0,
              "model_id": "d543f1b71d1e4a62b1c3ddbad6af8701"
            }
          },
          "metadata": {}
        },
        {
          "output_type": "stream",
          "name": "stdout",
          "text": [
            "\n"
          ]
        },
        {
          "output_type": "display_data",
          "data": {
            "text/plain": "HBox(children=(FloatProgress(value=0.0, description='[validation, epoch 9]', max=313.0, style=ProgressStyle(de…",
            "application/vnd.jupyter.widget-view+json": {
              "version_major": 2,
              "version_minor": 0,
              "model_id": "9fd3c381453743acbaedca8049604a5b"
            }
          },
          "metadata": {}
        },
        {
          "output_type": "stream",
          "name": "stdout",
          "text": [
            "\n"
          ]
        },
        {
          "output_type": "display_data",
          "data": {
            "text/plain": "HBox(children=(FloatProgress(value=0.0, description='[training, epoch 10]', max=937.0, style=ProgressStyle(des…",
            "application/vnd.jupyter.widget-view+json": {
              "version_major": 2,
              "version_minor": 0,
              "model_id": "247b8b94100e4359b6995bafc9b5bda9"
            }
          },
          "metadata": {}
        },
        {
          "output_type": "stream",
          "name": "stdout",
          "text": [
            "\n"
          ]
        },
        {
          "output_type": "display_data",
          "data": {
            "text/plain": "HBox(children=(FloatProgress(value=0.0, description='[validation, epoch 10]', max=313.0, style=ProgressStyle(d…",
            "application/vnd.jupyter.widget-view+json": {
              "version_major": 2,
              "version_minor": 0,
              "model_id": "18e245435a3f440ca1a3a11b4beb5c25"
            }
          },
          "metadata": {}
        },
        {
          "output_type": "stream",
          "name": "stdout",
          "text": [
            "\n"
          ]
        },
        {
          "output_type": "display_data",
          "data": {
            "text/plain": "HBox(children=(FloatProgress(value=0.0, description='[training, epoch 11]', max=937.0, style=ProgressStyle(des…",
            "application/vnd.jupyter.widget-view+json": {
              "version_major": 2,
              "version_minor": 0,
              "model_id": "62aa6d51ca76477bbcc4bc590217dc8d"
            }
          },
          "metadata": {}
        },
        {
          "output_type": "stream",
          "name": "stdout",
          "text": [
            "\n"
          ]
        },
        {
          "output_type": "display_data",
          "data": {
            "text/plain": "HBox(children=(FloatProgress(value=0.0, description='[validation, epoch 11]', max=313.0, style=ProgressStyle(d…",
            "application/vnd.jupyter.widget-view+json": {
              "version_major": 2,
              "version_minor": 0,
              "model_id": "80323e743b1644fdac710fda96f2ff3c"
            }
          },
          "metadata": {}
        },
        {
          "output_type": "stream",
          "name": "stdout",
          "text": [
            "\n"
          ]
        },
        {
          "output_type": "display_data",
          "data": {
            "text/plain": "HBox(children=(FloatProgress(value=0.0, description='[training, epoch 12]', max=937.0, style=ProgressStyle(des…",
            "application/vnd.jupyter.widget-view+json": {
              "version_major": 2,
              "version_minor": 0,
              "model_id": "00c6b40486d54e18a8f3efba1a94bc8b"
            }
          },
          "metadata": {}
        },
        {
          "output_type": "stream",
          "name": "stdout",
          "text": [
            "\n"
          ]
        },
        {
          "output_type": "display_data",
          "data": {
            "text/plain": "HBox(children=(FloatProgress(value=0.0, description='[validation, epoch 12]', max=313.0, style=ProgressStyle(d…",
            "application/vnd.jupyter.widget-view+json": {
              "version_major": 2,
              "version_minor": 0,
              "model_id": "2cd81b34699541c58cd24218c7e81d7e"
            }
          },
          "metadata": {}
        },
        {
          "output_type": "stream",
          "name": "stdout",
          "text": [
            "\n"
          ]
        },
        {
          "output_type": "display_data",
          "data": {
            "text/plain": "HBox(children=(FloatProgress(value=0.0, description='[training, epoch 13]', max=937.0, style=ProgressStyle(des…",
            "application/vnd.jupyter.widget-view+json": {
              "version_major": 2,
              "version_minor": 0,
              "model_id": "9deee522d9a640a494c96fa590b81bf0"
            }
          },
          "metadata": {}
        },
        {
          "output_type": "stream",
          "name": "stdout",
          "text": [
            "\n"
          ]
        },
        {
          "output_type": "display_data",
          "data": {
            "text/plain": "HBox(children=(FloatProgress(value=0.0, description='[validation, epoch 13]', max=313.0, style=ProgressStyle(d…",
            "application/vnd.jupyter.widget-view+json": {
              "version_major": 2,
              "version_minor": 0,
              "model_id": "5945be0685df44ff8a6a686c3be8354c"
            }
          },
          "metadata": {}
        },
        {
          "output_type": "stream",
          "name": "stdout",
          "text": [
            "\n"
          ]
        },
        {
          "output_type": "display_data",
          "data": {
            "text/plain": "HBox(children=(FloatProgress(value=0.0, description='[training, epoch 14]', max=937.0, style=ProgressStyle(des…",
            "application/vnd.jupyter.widget-view+json": {
              "version_major": 2,
              "version_minor": 0,
              "model_id": "748ebb02c18741758126bfbee6fa4aec"
            }
          },
          "metadata": {}
        },
        {
          "output_type": "stream",
          "name": "stdout",
          "text": [
            "\n"
          ]
        },
        {
          "output_type": "display_data",
          "data": {
            "text/plain": "HBox(children=(FloatProgress(value=0.0, description='[validation, epoch 14]', max=313.0, style=ProgressStyle(d…",
            "application/vnd.jupyter.widget-view+json": {
              "version_major": 2,
              "version_minor": 0,
              "model_id": "c1be35c824cf482287b24925ce378e83"
            }
          },
          "metadata": {}
        },
        {
          "output_type": "stream",
          "name": "stdout",
          "text": [
            "\n"
          ]
        },
        {
          "output_type": "display_data",
          "data": {
            "text/plain": "HBox(children=(FloatProgress(value=0.0, description='[training, epoch 15]', max=937.0, style=ProgressStyle(des…",
            "application/vnd.jupyter.widget-view+json": {
              "version_major": 2,
              "version_minor": 0,
              "model_id": "5d16f65e28834e009bbdde7b929163ca"
            }
          },
          "metadata": {}
        },
        {
          "output_type": "stream",
          "name": "stdout",
          "text": [
            "\n"
          ]
        },
        {
          "output_type": "display_data",
          "data": {
            "text/plain": "HBox(children=(FloatProgress(value=0.0, description='[validation, epoch 15]', max=313.0, style=ProgressStyle(d…",
            "application/vnd.jupyter.widget-view+json": {
              "version_major": 2,
              "version_minor": 0,
              "model_id": "6eae78feb81a47c5a0a77701d5b04101"
            }
          },
          "metadata": {}
        },
        {
          "output_type": "stream",
          "name": "stdout",
          "text": [
            "\n"
          ]
        },
        {
          "output_type": "display_data",
          "data": {
            "text/plain": "HBox(children=(FloatProgress(value=0.0, description='[testing, last]', max=313.0, style=ProgressStyle(descript…",
            "application/vnd.jupyter.widget-view+json": {
              "version_major": 2,
              "version_minor": 0,
              "model_id": "fd7651669d874ad987b9c8bbff12916f"
            }
          },
          "metadata": {}
        },
        {
          "output_type": "stream",
          "name": "stdout",
          "text": [
            "\n"
          ]
        },
        {
          "output_type": "display_data",
          "data": {
            "text/plain": "HBox(children=(FloatProgress(value=0.0, description='[testing, best epoch (13)]', max=313.0, style=ProgressSty…",
            "application/vnd.jupyter.widget-view+json": {
              "version_major": 2,
              "version_minor": 0,
              "model_id": "78e5adda83d84f78aa901f5434a758ae"
            }
          },
          "metadata": {}
        },
        {
          "output_type": "stream",
          "name": "stdout",
          "text": [
            "\nWall time: 25min 52s\n"
          ]
        },
        {
          "output_type": "execute_result",
          "data": {
            "text/plain": [
              "      epoch  test accuracy  valid accuracy  test mean loss  valid mean loss  \\\n",
              "best     13       0.765953        0.765556        0.484946         0.482811   \n",
              "last     15       0.765953        0.765613        0.484946         0.483516   \n",
              "\n",
              "      train mean loss  \n",
              "best         0.464732  \n",
              "last         0.461675  "
            ],
            "text/html": "<div>\n<style scoped>\n    .dataframe tbody tr th:only-of-type {\n        vertical-align: middle;\n    }\n\n    .dataframe tbody tr th {\n        vertical-align: top;\n    }\n\n    .dataframe thead th {\n        text-align: right;\n    }\n</style>\n<table border=\"1\" class=\"dataframe\">\n  <thead>\n    <tr style=\"text-align: right;\">\n      <th></th>\n      <th>epoch</th>\n      <th>test accuracy</th>\n      <th>valid accuracy</th>\n      <th>test mean loss</th>\n      <th>valid mean loss</th>\n      <th>train mean loss</th>\n    </tr>\n  </thead>\n  <tbody>\n    <tr>\n      <th>best</th>\n      <td>13</td>\n      <td>0.765953</td>\n      <td>0.765556</td>\n      <td>0.484946</td>\n      <td>0.482811</td>\n      <td>0.464732</td>\n    </tr>\n    <tr>\n      <th>last</th>\n      <td>15</td>\n      <td>0.765953</td>\n      <td>0.765613</td>\n      <td>0.484946</td>\n      <td>0.483516</td>\n      <td>0.461675</td>\n    </tr>\n  </tbody>\n</table>\n</div>"
          },
          "metadata": {},
          "execution_count": 416
        }
      ],
      "source": [
        "%%time\n",
        "results = train_valid_test_model(**train_valid_test_args)\n",
        "add_experiment_metrics(expr_desc, model_init_kwargs, train_params, results)\n",
        "show_results(results)"
      ]
    },
    {
      "source": [
        "**Вывод по #1 и #2**: Нужно учить дольше и более глубокую модель, чтобы различия проявились. Здесь же лосс и точность улучшаются вместе."
      ],
      "cell_type": "markdown",
      "metadata": {}
    },
    {
      "cell_type": "markdown",
      "metadata": {
        "id": "ZRvzpldHSAu0"
      },
      "source": [
        "## Embeddings for unknown words (8 баллов)\n",
        "\n",
        "Пока что использовалась не вся информация из текста. Часть информации фильтровалось – если слова не было в словаре эмбеддингов, то мы просто превращали слово в нулевой вектор. Хочется использовать информацию по-максимуму. Поэтому рассмотрим другие способы обработки слов, которых нет в словаре. А именно:\n",
        "\n",
        "- Для каждого незнакомого слова будем запоминать его контекст(слова слева и справа от этого слова). Эмбеддингом нашего незнакомого слова будет сумма эмбеддингов всех слов из его контекста. (4 балла)\n",
        "- Для каждого слова текста получим его эмбеддинг из Tfidf с помощью ```TfidfVectorizer``` из [sklearn](https://scikit-learn.org/stable/modules/generated/sklearn.feature_extraction.text.TfidfVectorizer.html#sklearn.feature_extraction.text.TfidfVectorizer). Итоговым эмбеддингом для каждого слова будет сумма двух эмбеддингов: предобученного и Tfidf-ного. Для слов, которых нет в словаре предобученных эмбеддингов, результирующий эмбеддинг будет просто полученный из Tfidf. (4 балла)\n",
        "\n",
        "Реализуйте оба варианта **ниже**. Напишите, какой способ сработал лучше и ваши мысли, почему так получилось."
      ]
    },
    {
      "source": [
        "## Первый вариант"
      ],
      "cell_type": "markdown",
      "metadata": {}
    },
    {
      "cell_type": "code",
      "execution_count": 453,
      "metadata": {},
      "outputs": [],
      "source": [
        "from collections import defaultdict\n",
        "\n",
        "import gensim\n",
        "import numpy as np\n",
        "from tqdm.notebook import tqdm\n",
        "\n",
        "\n",
        "class DatasetWithInferringUnknownTokens(SlightlyMoreComputationallyEfficientDataset):\n",
        "    def __init__(\n",
        "        self, texts, labels,\n",
        "        word2vec: gensim.models.Word2Vec, w2v_mean=None, w2v_std=None,\n",
        "        tokenizer=text_to_tokens,\n",
        "        window_to_infer_unknown_tokens=None,\n",
        "        only_unique_context_tokens_to_infer=True,\n",
        "        context_tokens_reduction='mean',\n",
        "        zero_embedding_for_which_inferring_failed=True,\n",
        "        test_mode=False\n",
        "    ):\n",
        "        if window_to_infer_unknown_tokens is not None and window_to_infer_unknown_tokens <= 0:\n",
        "            raise ValueError(\n",
        "                f\"invalid value {window_to_infer_unknown_tokens} for window_to_infer_unknown_tokens, \"\n",
        "                \"None or int > 0 are only acceptable\")\n",
        "        if context_tokens_reduction not in ('mean', 'sum'):\n",
        "            raise ValueError(\n",
        "                f\"invalid value {context_tokens_reduction} for context_tokens_reduction, \"\n",
        "                \"'mean' or 'sum' are only acceptable\")\n",
        "        super().__init__(\n",
        "            texts, labels, word2vec, w2v_mean, w2v_std, tokenizer,\n",
        "            window_to_infer_unknown_tokens=window_to_infer_unknown_tokens,\n",
        "            only_unique_context_tokens_to_infer=only_unique_context_tokens_to_infer,\n",
        "            context_tokens_reduction=context_tokens_reduction,\n",
        "            zero_embedding_for_which_inferring_failed=zero_embedding_for_which_inferring_failed,\n",
        "            test_mode=test_mode)\n",
        "\n",
        "    def _init_features_w2v_embeddings(\n",
        "            self, features, word2vec,\n",
        "            window_to_infer_unknown_tokens,\n",
        "            only_unique_context_tokens_to_infer,\n",
        "            context_tokens_reduction,\n",
        "            zero_embedding_for_which_inferring_failed,\n",
        "            test_mode):\n",
        "        no_missing_embeddings = (\n",
        "            window_to_infer_unknown_tokens is not None and\n",
        "            zero_embedding_for_which_inferring_failed)\n",
        "\n",
        "        # used for token for which it's failed to infer embedding\n",
        "        # or as single stub token for text in which no proper tokens found\n",
        "        shared_zero_embedding = np.zeros(\n",
        "            self._embedding_dim, dtype=self._embedding_dtype)\n",
        "        shared_zero_embedding_index = 0\n",
        "\n",
        "        # Stores token embeddings:\n",
        "        embeddings = [shared_zero_embedding]\n",
        "        # Stores lists of token embedding indexes, one list for each text:\n",
        "        embeddings_indexes = []\n",
        "\n",
        "        token2index = {}\n",
        "\n",
        "        if window_to_infer_unknown_tokens is not None:\n",
        "            unknown_tokens_positions_in_embeddings_indexes = defaultdict(list)\n",
        "\n",
        "            if only_unique_context_tokens_to_infer:\n",
        "                indexes_for_inferring_unknown_tokens = defaultdict(set)\n",
        "                _container_method_name = \"update\"\n",
        "            else:\n",
        "                indexes_for_inferring_unknown_tokens = defaultdict(list)\n",
        "                _container_method_name = \"extend\"\n",
        "            \n",
        "\n",
        "            # In test_mode only neighbors in the current token position are consider\n",
        "            # as its context (we store contexts for different positions separetly).\n",
        "            # In default mode token context is considered as its neighbors in all its positions\n",
        "            # (i.e. in all samples of dataset).\n",
        "            # Case of several occurences in one sample is not supported yet.\n",
        "            def add_to_gathered_neighbors(tok, context, pos=None):\n",
        "                if test_mode and pos is None:\n",
        "                    raise ValueError(\"if test_mode=True, pos must be given\")\n",
        "                key = (tok, pos) if test_mode else tok\n",
        "                method = getattr(\n",
        "                    indexes_for_inferring_unknown_tokens[key], _container_method_name)\n",
        "                method(context)\n",
        "\n",
        "            def get_gathered_neighbors(tok, pos=None):\n",
        "                if test_mode and pos is None:\n",
        "                    raise ValueError(\"if test_mode=True, pos must be given\")\n",
        "                key = (tok, pos) if test_mode else tok\n",
        "                return indexes_for_inferring_unknown_tokens[key]\n",
        "\n",
        "            if context_tokens_reduction == 'mean':\n",
        "                def infer(context):\n",
        "                    return np.mean(context, axis=0)\n",
        "            elif context_tokens_reduction == 'sum':\n",
        "                def infer(context):\n",
        "                    return np.sum(context, axis=0)\n",
        "            else:\n",
        "                raise ValueError(\n",
        "                    f\"context_tokens_reduction must be \"\n",
        "                    f\"'mean' or 'sum', not {context_tokens_reduction}\")\n",
        "\n",
        "        for text in tqdm(features, desc=\"processing texts\", postfix=\"gathering embeddings for tokens\"):\n",
        "            tokens = self._get_tokens(text)\n",
        "\n",
        "            if not tokens:  # text are empty for us, no way to do something else\n",
        "                embeddings_indexes.append([shared_zero_embedding_index])\n",
        "                continue\n",
        "\n",
        "            indexes = []\n",
        "            for tok in tokens:\n",
        "                if tok in token2index:\n",
        "                    indexes.append(token2index[tok])\n",
        "                elif tok in word2vec:\n",
        "                    new_embedding = (\n",
        "                        word2vec[tok] - self._w2v_mean) / self._w2v_std\n",
        "                    assert new_embedding.shape == (\n",
        "                        self._embedding_dim,), new_embedding.shape\n",
        "                    embeddings.append(new_embedding)\n",
        "                    new_index = len(embeddings) - 1\n",
        "                    token2index[tok] = new_index\n",
        "                    indexes.append(new_index)\n",
        "                else:\n",
        "                    indexes.append(None)\n",
        "            embeddings_indexes.append(indexes)\n",
        "\n",
        "            # Inferring unknown tokens, stage #1:\n",
        "            # gather neighbors indexes in the current position of unknown token,\n",
        "            # add them to gathered ones in the already processed positions of the same unknown token.\n",
        "            if window_to_infer_unknown_tokens is None:\n",
        "                continue\n",
        "            for pos, (idx, tok) in enumerate(zip(indexes, tokens)):\n",
        "                if idx is not None:\n",
        "                    continue\n",
        "                left = max(0, pos - window_to_infer_unknown_tokens)\n",
        "                right = pos + window_to_infer_unknown_tokens + 1\n",
        "                context = indexes[left:pos] + indexes[pos + 1:right]\n",
        "                context = [\n",
        "                    tok_idx for tok_idx in context if tok_idx is not None]\n",
        "                unknown_tok_pos = (\n",
        "                    len(embeddings_indexes) - 1,\n",
        "                    pos\n",
        "                )\n",
        "                unknown_tokens_positions_in_embeddings_indexes[tok].append(\n",
        "                    unknown_tok_pos)\n",
        "                add_to_gathered_neighbors(tok, context, unknown_tok_pos)\n",
        "\n",
        "        # Inferring unknown tokens, stage #2:\n",
        "        # get neighbours embeddings by gathered indexes\n",
        "        # and use them to infer embedding for unknown token,\n",
        "        # add new embedding to embeddings,\n",
        "        # update embedding index from None to index of created embedding\n",
        "        # in all the positions of previously unknown token.\n",
        "        def get_new_embedding_index(neighbors_emb_indexes):\n",
        "            context = [embeddings[idx] for idx in neighbors_emb_indexes]\n",
        "            if context:\n",
        "                new_embedding = infer(context)\n",
        "                assert new_embedding.shape == (\n",
        "                    self._embedding_dim,), (new_embedding.shape, context[0].shape)\n",
        "                embeddings.append(new_embedding)\n",
        "                new_index = len(embeddings) - 1\n",
        "            elif zero_embedding_for_which_inferring_failed:\n",
        "                new_index = shared_zero_embedding_index\n",
        "            else:\n",
        "                new_index = None\n",
        "            return new_index\n",
        "        \n",
        "        if window_to_infer_unknown_tokens is not None:\n",
        "            for tok, positions in tqdm(\n",
        "                    unknown_tokens_positions_in_embeddings_indexes.items(),\n",
        "                    desc=\"filling embeddings gaps\",\n",
        "                    postfix=\"with inferred embeddings for unknown tokens\"):\n",
        "                if test_mode:\n",
        "                    for pos in positions:\n",
        "                        neighbors = get_gathered_neighbors(tok, pos)\n",
        "                        new_index = get_new_embedding_index(neighbors)\n",
        "                        if new_index is None:\n",
        "                            continue\n",
        "                        i, j = pos\n",
        "                        assert embeddings_indexes[i][j] is None\n",
        "                        embeddings_indexes[i][j] = new_index\n",
        "                else:\n",
        "                    neighbors = get_gathered_neighbors(tok)\n",
        "                    new_index = get_new_embedding_index(neighbors)\n",
        "                    if new_index is None:\n",
        "                        continue\n",
        "                    for i, j in positions:\n",
        "                        assert embeddings_indexes[i][j] is None\n",
        "                        embeddings_indexes[i][j] = new_index\n",
        "\n",
        "        embeddings = np.array(embeddings)\n",
        "        assert len(\n",
        "            embeddings.shape) == 2 and embeddings.shape[-1] == self._embedding_dim, embeddings.shape\n",
        "        self._features_w2v_embeddings_indexes = embeddings_indexes\n",
        "        self._features_w2v_embeddings = embeddings\n",
        "        self._shared_zero_embedding_index = shared_zero_embedding_index\n",
        "        self._no_missing_embeddings = no_missing_embeddings"
      ]
    },
    {
      "source": [
        "### Experiment #3\n",
        "default classifier, accuracy, word2vec-google-news-300 + inferring unknown tokens"
      ],
      "cell_type": "markdown",
      "metadata": {}
    },
    {
      "cell_type": "code",
      "execution_count": 418,
      "metadata": {
        "tags": []
      },
      "outputs": [
        {
          "output_type": "stream",
          "name": "stdout",
          "text": [
            "Creating train dataset...\n\n"
          ]
        },
        {
          "output_type": "display_data",
          "data": {
            "text/plain": "HBox(children=(FloatProgress(value=0.0, description='processing texts', max=960000.0, style=ProgressStyle(desc…",
            "application/vnd.jupyter.widget-view+json": {
              "version_major": 2,
              "version_minor": 0,
              "model_id": "df15ff0bc2284e4d86aefc5d1a4b8266"
            }
          },
          "metadata": {}
        },
        {
          "output_type": "stream",
          "name": "stdout",
          "text": [
            "\n"
          ]
        },
        {
          "output_type": "display_data",
          "data": {
            "text/plain": "HBox(children=(FloatProgress(value=0.0, description='filling embeddings gaps', max=421383.0, style=ProgressSty…",
            "application/vnd.jupyter.widget-view+json": {
              "version_major": 2,
              "version_minor": 0,
              "model_id": "604a56b781304948a19249238a6210cb"
            }
          },
          "metadata": {}
        },
        {
          "output_type": "stream",
          "name": "stdout",
          "text": [
            "\n",
            "Train dataset created. Time spent: 156.95744729042053.\n",
            "Creating valid dataset...\n",
            "\n"
          ]
        },
        {
          "output_type": "display_data",
          "data": {
            "text/plain": "HBox(children=(FloatProgress(value=0.0, description='processing texts', max=320000.0, style=ProgressStyle(desc…",
            "application/vnd.jupyter.widget-view+json": {
              "version_major": 2,
              "version_minor": 0,
              "model_id": "215c1acd25ad4188a0fa1edff786a6f9"
            }
          },
          "metadata": {}
        },
        {
          "output_type": "stream",
          "name": "stdout",
          "text": [
            "\n"
          ]
        },
        {
          "output_type": "display_data",
          "data": {
            "text/plain": "HBox(children=(FloatProgress(value=0.0, description='filling embeddings gaps', max=179164.0, style=ProgressSty…",
            "application/vnd.jupyter.widget-view+json": {
              "version_major": 2,
              "version_minor": 0,
              "model_id": "518654f5f6654509b30c9f937d255168"
            }
          },
          "metadata": {}
        },
        {
          "output_type": "stream",
          "name": "stdout",
          "text": [
            "\n",
            "Valid dataset created. Time spent: 43.80369448661804.\n",
            "Creating test dataset...\n",
            "\n"
          ]
        },
        {
          "output_type": "display_data",
          "data": {
            "text/plain": "HBox(children=(FloatProgress(value=0.0, description='processing texts', max=320000.0, style=ProgressStyle(desc…",
            "application/vnd.jupyter.widget-view+json": {
              "version_major": 2,
              "version_minor": 0,
              "model_id": "d8b780930e7f43dca6e74e21c2fa00e9"
            }
          },
          "metadata": {}
        },
        {
          "output_type": "stream",
          "name": "stdout",
          "text": [
            "\n"
          ]
        },
        {
          "output_type": "display_data",
          "data": {
            "text/plain": "HBox(children=(FloatProgress(value=0.0, description='filling embeddings gaps', max=179305.0, style=ProgressSty…",
            "application/vnd.jupyter.widget-view+json": {
              "version_major": 2,
              "version_minor": 0,
              "model_id": "346cc5af5d084b8bbdb40f5feceeab84"
            }
          },
          "metadata": {}
        },
        {
          "output_type": "stream",
          "name": "stdout",
          "text": [
            "\n",
            "Test dataset created. Time spent: 36.86923050880432.\n"
          ]
        }
      ],
      "source": [
        "train_dataset_kwargs = dict(dataset_w2v_kwargs,\n",
        "    window_to_infer_unknown_tokens=5, only_unique_context_tokens_to_infer=True, context_tokens_reduction='mean')\n",
        "valid_test_datasets_kwargs = dict(train_dataset_kwargs, test_mode=True)\n",
        "datasets_kwargs = dict(train=train_dataset_kwargs, valid=valid_test_datasets_kwargs, test=valid_test_datasets_kwargs)\n",
        "datasets = create_datasets(DatasetWithInferringUnknownTokens, **splitted_data, datasets_kwargs=datasets_kwargs)\n",
        "dataloaders = create_dataloaders(collate_fn, **datasets)"
      ]
    },
    {
      "cell_type": "code",
      "metadata": {
        "id": "RxhEpKalU1UQ"
      },
      "source": [
        "enable_reproducibility()\n",
        "model_init_kwargs = default_model_init_kwargs\n",
        "epochs_num = default_epochs_num\n",
        "optim_cls = AdamW\n",
        "lr=3e-4\n",
        "save_best_by='accuracy'\n",
        "expr_desc = \"expr #3\"\n",
        "model = Classifier(**model_init_kwargs)\n",
        "optimizer = optim_cls(model.parameters(), lr=lr)\n",
        "train_params = dict(\n",
        "    optimizer_cls=optimizer.__class__.__name__,\n",
        "    criterion_cls=criterion.__class__.__name__,\n",
        "    predict_func=predict.__name__, collate_fn_func=collate_fn.__name__,\n",
        "    lr=lr, epochs_num=epochs_num, save_best_by=save_best_by, w2v_model_name=w2v_model_name + \"inferring unknown tokens\")\n",
        "train_valid_test_args = dict(\n",
        "    epochs_num=epochs_num,\n",
        "    model=model, optimizer=optimizer, criterion=criterion,\n",
        "    **dataloaders,\n",
        "    predict=predict, device=DEVICE,\n",
        "    save_best_by=save_best_by\n",
        ")"
      ],
      "execution_count": 419,
      "outputs": []
    },
    {
      "cell_type": "code",
      "execution_count": 420,
      "metadata": {},
      "outputs": [
        {
          "output_type": "display_data",
          "data": {
            "text/plain": "HBox(children=(FloatProgress(value=0.0, description='[training, epoch 1]', max=937.0, style=ProgressStyle(desc…",
            "application/vnd.jupyter.widget-view+json": {
              "version_major": 2,
              "version_minor": 0,
              "model_id": "dbe80e34279b45eebca66f8c7bc656fc"
            }
          },
          "metadata": {}
        },
        {
          "output_type": "stream",
          "name": "stdout",
          "text": [
            "\n"
          ]
        },
        {
          "output_type": "display_data",
          "data": {
            "text/plain": "HBox(children=(FloatProgress(value=0.0, description='[validation, epoch 1]', max=313.0, style=ProgressStyle(de…",
            "application/vnd.jupyter.widget-view+json": {
              "version_major": 2,
              "version_minor": 0,
              "model_id": "9630e7f13bb4440c90a5f6fc9e5c813b"
            }
          },
          "metadata": {}
        },
        {
          "output_type": "stream",
          "name": "stdout",
          "text": [
            "\n"
          ]
        },
        {
          "output_type": "display_data",
          "data": {
            "text/plain": "HBox(children=(FloatProgress(value=0.0, description='[training, epoch 2]', max=937.0, style=ProgressStyle(desc…",
            "application/vnd.jupyter.widget-view+json": {
              "version_major": 2,
              "version_minor": 0,
              "model_id": "a0a9257c369c463d9aed730ee4af5221"
            }
          },
          "metadata": {}
        },
        {
          "output_type": "stream",
          "name": "stdout",
          "text": [
            "\n"
          ]
        },
        {
          "output_type": "display_data",
          "data": {
            "text/plain": "HBox(children=(FloatProgress(value=0.0, description='[validation, epoch 2]', max=313.0, style=ProgressStyle(de…",
            "application/vnd.jupyter.widget-view+json": {
              "version_major": 2,
              "version_minor": 0,
              "model_id": "6f4c213caccf43c397079f933a081482"
            }
          },
          "metadata": {}
        },
        {
          "output_type": "stream",
          "name": "stdout",
          "text": [
            "\n"
          ]
        },
        {
          "output_type": "display_data",
          "data": {
            "text/plain": "HBox(children=(FloatProgress(value=0.0, description='[training, epoch 3]', max=937.0, style=ProgressStyle(desc…",
            "application/vnd.jupyter.widget-view+json": {
              "version_major": 2,
              "version_minor": 0,
              "model_id": "545e94f81d4843508a643d9390e020f9"
            }
          },
          "metadata": {}
        },
        {
          "output_type": "stream",
          "name": "stdout",
          "text": [
            "\n"
          ]
        },
        {
          "output_type": "display_data",
          "data": {
            "text/plain": "HBox(children=(FloatProgress(value=0.0, description='[validation, epoch 3]', max=313.0, style=ProgressStyle(de…",
            "application/vnd.jupyter.widget-view+json": {
              "version_major": 2,
              "version_minor": 0,
              "model_id": "9163adced67e425eacaaa752b8b0b20b"
            }
          },
          "metadata": {}
        },
        {
          "output_type": "stream",
          "name": "stdout",
          "text": [
            "\n"
          ]
        },
        {
          "output_type": "display_data",
          "data": {
            "text/plain": "HBox(children=(FloatProgress(value=0.0, description='[training, epoch 4]', max=937.0, style=ProgressStyle(desc…",
            "application/vnd.jupyter.widget-view+json": {
              "version_major": 2,
              "version_minor": 0,
              "model_id": "62c0dba38dcb4039834d5ef9b5172c5c"
            }
          },
          "metadata": {}
        },
        {
          "output_type": "stream",
          "name": "stdout",
          "text": [
            "\n"
          ]
        },
        {
          "output_type": "display_data",
          "data": {
            "text/plain": "HBox(children=(FloatProgress(value=0.0, description='[validation, epoch 4]', max=313.0, style=ProgressStyle(de…",
            "application/vnd.jupyter.widget-view+json": {
              "version_major": 2,
              "version_minor": 0,
              "model_id": "4c45f79d5c6a4535818f653e3c87b97d"
            }
          },
          "metadata": {}
        },
        {
          "output_type": "stream",
          "name": "stdout",
          "text": [
            "\n"
          ]
        },
        {
          "output_type": "display_data",
          "data": {
            "text/plain": "HBox(children=(FloatProgress(value=0.0, description='[training, epoch 5]', max=937.0, style=ProgressStyle(desc…",
            "application/vnd.jupyter.widget-view+json": {
              "version_major": 2,
              "version_minor": 0,
              "model_id": "236436951d1648058df5671f865949cb"
            }
          },
          "metadata": {}
        },
        {
          "output_type": "stream",
          "name": "stdout",
          "text": [
            "\n"
          ]
        },
        {
          "output_type": "display_data",
          "data": {
            "text/plain": "HBox(children=(FloatProgress(value=0.0, description='[validation, epoch 5]', max=313.0, style=ProgressStyle(de…",
            "application/vnd.jupyter.widget-view+json": {
              "version_major": 2,
              "version_minor": 0,
              "model_id": "c19a7ea8ee624aca88d9bcb036f877d8"
            }
          },
          "metadata": {}
        },
        {
          "output_type": "stream",
          "name": "stdout",
          "text": [
            "\n"
          ]
        },
        {
          "output_type": "display_data",
          "data": {
            "text/plain": "HBox(children=(FloatProgress(value=0.0, description='[training, epoch 6]', max=937.0, style=ProgressStyle(desc…",
            "application/vnd.jupyter.widget-view+json": {
              "version_major": 2,
              "version_minor": 0,
              "model_id": "92505d741e6b420abea71a0bac9ddb3f"
            }
          },
          "metadata": {}
        },
        {
          "output_type": "stream",
          "name": "stdout",
          "text": [
            "\n"
          ]
        },
        {
          "output_type": "display_data",
          "data": {
            "text/plain": "HBox(children=(FloatProgress(value=0.0, description='[validation, epoch 6]', max=313.0, style=ProgressStyle(de…",
            "application/vnd.jupyter.widget-view+json": {
              "version_major": 2,
              "version_minor": 0,
              "model_id": "3f4897a95f9c4a6ba8ce8bd213529a99"
            }
          },
          "metadata": {}
        },
        {
          "output_type": "stream",
          "name": "stdout",
          "text": [
            "\n"
          ]
        },
        {
          "output_type": "display_data",
          "data": {
            "text/plain": "HBox(children=(FloatProgress(value=0.0, description='[training, epoch 7]', max=937.0, style=ProgressStyle(desc…",
            "application/vnd.jupyter.widget-view+json": {
              "version_major": 2,
              "version_minor": 0,
              "model_id": "3c28ab26709744208370a86f557d1092"
            }
          },
          "metadata": {}
        },
        {
          "output_type": "stream",
          "name": "stdout",
          "text": [
            "\n"
          ]
        },
        {
          "output_type": "display_data",
          "data": {
            "text/plain": "HBox(children=(FloatProgress(value=0.0, description='[validation, epoch 7]', max=313.0, style=ProgressStyle(de…",
            "application/vnd.jupyter.widget-view+json": {
              "version_major": 2,
              "version_minor": 0,
              "model_id": "0e4e176c9d58443fb0d63c2c2eede898"
            }
          },
          "metadata": {}
        },
        {
          "output_type": "stream",
          "name": "stdout",
          "text": [
            "\n"
          ]
        },
        {
          "output_type": "display_data",
          "data": {
            "text/plain": "HBox(children=(FloatProgress(value=0.0, description='[training, epoch 8]', max=937.0, style=ProgressStyle(desc…",
            "application/vnd.jupyter.widget-view+json": {
              "version_major": 2,
              "version_minor": 0,
              "model_id": "12b429705c564154aa965fc5bc1a3045"
            }
          },
          "metadata": {}
        },
        {
          "output_type": "stream",
          "name": "stdout",
          "text": [
            "\n"
          ]
        },
        {
          "output_type": "display_data",
          "data": {
            "text/plain": "HBox(children=(FloatProgress(value=0.0, description='[validation, epoch 8]', max=313.0, style=ProgressStyle(de…",
            "application/vnd.jupyter.widget-view+json": {
              "version_major": 2,
              "version_minor": 0,
              "model_id": "ab94ed404ff443d6b9a7de0c3dd5d320"
            }
          },
          "metadata": {}
        },
        {
          "output_type": "stream",
          "name": "stdout",
          "text": [
            "\n"
          ]
        },
        {
          "output_type": "display_data",
          "data": {
            "text/plain": "HBox(children=(FloatProgress(value=0.0, description='[training, epoch 9]', max=937.0, style=ProgressStyle(desc…",
            "application/vnd.jupyter.widget-view+json": {
              "version_major": 2,
              "version_minor": 0,
              "model_id": "60111b2dc33048d59ebee1c01e7e79f7"
            }
          },
          "metadata": {}
        },
        {
          "output_type": "stream",
          "name": "stdout",
          "text": [
            "\n"
          ]
        },
        {
          "output_type": "display_data",
          "data": {
            "text/plain": "HBox(children=(FloatProgress(value=0.0, description='[validation, epoch 9]', max=313.0, style=ProgressStyle(de…",
            "application/vnd.jupyter.widget-view+json": {
              "version_major": 2,
              "version_minor": 0,
              "model_id": "34df5d1f94824b0a9987d58d642b9bb9"
            }
          },
          "metadata": {}
        },
        {
          "output_type": "stream",
          "name": "stdout",
          "text": [
            "\n"
          ]
        },
        {
          "output_type": "display_data",
          "data": {
            "text/plain": "HBox(children=(FloatProgress(value=0.0, description='[training, epoch 10]', max=937.0, style=ProgressStyle(des…",
            "application/vnd.jupyter.widget-view+json": {
              "version_major": 2,
              "version_minor": 0,
              "model_id": "3c5c5037014c48f8b2317d1685ad9e72"
            }
          },
          "metadata": {}
        },
        {
          "output_type": "stream",
          "name": "stdout",
          "text": [
            "\n"
          ]
        },
        {
          "output_type": "display_data",
          "data": {
            "text/plain": "HBox(children=(FloatProgress(value=0.0, description='[validation, epoch 10]', max=313.0, style=ProgressStyle(d…",
            "application/vnd.jupyter.widget-view+json": {
              "version_major": 2,
              "version_minor": 0,
              "model_id": "b8ab6d79761943c5934ae59e261a806d"
            }
          },
          "metadata": {}
        },
        {
          "output_type": "stream",
          "name": "stdout",
          "text": [
            "\n"
          ]
        },
        {
          "output_type": "display_data",
          "data": {
            "text/plain": "HBox(children=(FloatProgress(value=0.0, description='[training, epoch 11]', max=937.0, style=ProgressStyle(des…",
            "application/vnd.jupyter.widget-view+json": {
              "version_major": 2,
              "version_minor": 0,
              "model_id": "1eb3d28b969e4979839bd8d6eb689334"
            }
          },
          "metadata": {}
        },
        {
          "output_type": "stream",
          "name": "stdout",
          "text": [
            "\n"
          ]
        },
        {
          "output_type": "display_data",
          "data": {
            "text/plain": "HBox(children=(FloatProgress(value=0.0, description='[validation, epoch 11]', max=313.0, style=ProgressStyle(d…",
            "application/vnd.jupyter.widget-view+json": {
              "version_major": 2,
              "version_minor": 0,
              "model_id": "9e8c7c56c3b84b3caacdac1f57ff6db5"
            }
          },
          "metadata": {}
        },
        {
          "output_type": "stream",
          "name": "stdout",
          "text": [
            "\n"
          ]
        },
        {
          "output_type": "display_data",
          "data": {
            "text/plain": "HBox(children=(FloatProgress(value=0.0, description='[training, epoch 12]', max=937.0, style=ProgressStyle(des…",
            "application/vnd.jupyter.widget-view+json": {
              "version_major": 2,
              "version_minor": 0,
              "model_id": "0bcb3768cf834b0d8a901970cdc88c93"
            }
          },
          "metadata": {}
        },
        {
          "output_type": "stream",
          "name": "stdout",
          "text": [
            "\n"
          ]
        },
        {
          "output_type": "display_data",
          "data": {
            "text/plain": "HBox(children=(FloatProgress(value=0.0, description='[validation, epoch 12]', max=313.0, style=ProgressStyle(d…",
            "application/vnd.jupyter.widget-view+json": {
              "version_major": 2,
              "version_minor": 0,
              "model_id": "18ee35268b4f412ea3c78c49f165c0db"
            }
          },
          "metadata": {}
        },
        {
          "output_type": "stream",
          "name": "stdout",
          "text": [
            "\n"
          ]
        },
        {
          "output_type": "display_data",
          "data": {
            "text/plain": "HBox(children=(FloatProgress(value=0.0, description='[training, epoch 13]', max=937.0, style=ProgressStyle(des…",
            "application/vnd.jupyter.widget-view+json": {
              "version_major": 2,
              "version_minor": 0,
              "model_id": "e042259aad24414897afd6d36122e0f5"
            }
          },
          "metadata": {}
        },
        {
          "output_type": "stream",
          "name": "stdout",
          "text": [
            "\n"
          ]
        },
        {
          "output_type": "display_data",
          "data": {
            "text/plain": "HBox(children=(FloatProgress(value=0.0, description='[validation, epoch 13]', max=313.0, style=ProgressStyle(d…",
            "application/vnd.jupyter.widget-view+json": {
              "version_major": 2,
              "version_minor": 0,
              "model_id": "9fef906ca6fb43ba8421ec46dff18320"
            }
          },
          "metadata": {}
        },
        {
          "output_type": "stream",
          "name": "stdout",
          "text": [
            "\n"
          ]
        },
        {
          "output_type": "display_data",
          "data": {
            "text/plain": "HBox(children=(FloatProgress(value=0.0, description='[training, epoch 14]', max=937.0, style=ProgressStyle(des…",
            "application/vnd.jupyter.widget-view+json": {
              "version_major": 2,
              "version_minor": 0,
              "model_id": "d6986c51a3ce43f0831eab8ac1586121"
            }
          },
          "metadata": {}
        },
        {
          "output_type": "stream",
          "name": "stdout",
          "text": [
            "\n"
          ]
        },
        {
          "output_type": "display_data",
          "data": {
            "text/plain": "HBox(children=(FloatProgress(value=0.0, description='[validation, epoch 14]', max=313.0, style=ProgressStyle(d…",
            "application/vnd.jupyter.widget-view+json": {
              "version_major": 2,
              "version_minor": 0,
              "model_id": "f2ab221744fa403ba07da164f30bbf28"
            }
          },
          "metadata": {}
        },
        {
          "output_type": "stream",
          "name": "stdout",
          "text": [
            "\n"
          ]
        },
        {
          "output_type": "display_data",
          "data": {
            "text/plain": "HBox(children=(FloatProgress(value=0.0, description='[training, epoch 15]', max=937.0, style=ProgressStyle(des…",
            "application/vnd.jupyter.widget-view+json": {
              "version_major": 2,
              "version_minor": 0,
              "model_id": "6ebb0711e5774a6a8f636aaadd243aa1"
            }
          },
          "metadata": {}
        },
        {
          "output_type": "stream",
          "name": "stdout",
          "text": [
            "\n"
          ]
        },
        {
          "output_type": "display_data",
          "data": {
            "text/plain": "HBox(children=(FloatProgress(value=0.0, description='[validation, epoch 15]', max=313.0, style=ProgressStyle(d…",
            "application/vnd.jupyter.widget-view+json": {
              "version_major": 2,
              "version_minor": 0,
              "model_id": "0acf4abfbfe24307b290f9366e73f767"
            }
          },
          "metadata": {}
        },
        {
          "output_type": "stream",
          "name": "stdout",
          "text": [
            "\n"
          ]
        },
        {
          "output_type": "display_data",
          "data": {
            "text/plain": "HBox(children=(FloatProgress(value=0.0, description='[testing, last]', max=313.0, style=ProgressStyle(descript…",
            "application/vnd.jupyter.widget-view+json": {
              "version_major": 2,
              "version_minor": 0,
              "model_id": "60bd6574ed3e4a2a801cf6e930b84931"
            }
          },
          "metadata": {}
        },
        {
          "output_type": "stream",
          "name": "stdout",
          "text": [
            "\n"
          ]
        },
        {
          "output_type": "display_data",
          "data": {
            "text/plain": "HBox(children=(FloatProgress(value=0.0, description='[testing, best epoch (13)]', max=313.0, style=ProgressSty…",
            "application/vnd.jupyter.widget-view+json": {
              "version_major": 2,
              "version_minor": 0,
              "model_id": "c45d7579c9b84756b0e246c4dcebaf97"
            }
          },
          "metadata": {}
        },
        {
          "output_type": "stream",
          "name": "stdout",
          "text": [
            "\nWall time: 26min 7s\n"
          ]
        },
        {
          "output_type": "execute_result",
          "data": {
            "text/plain": [
              "      epoch  test accuracy  valid accuracy  test mean loss  valid mean loss  \\\n",
              "best     13       0.763731        0.763528        0.489463         0.486165   \n",
              "last     15       0.763731        0.763519        0.489463         0.487663   \n",
              "\n",
              "      train mean loss  \n",
              "best         0.463681  \n",
              "last         0.460519  "
            ],
            "text/html": "<div>\n<style scoped>\n    .dataframe tbody tr th:only-of-type {\n        vertical-align: middle;\n    }\n\n    .dataframe tbody tr th {\n        vertical-align: top;\n    }\n\n    .dataframe thead th {\n        text-align: right;\n    }\n</style>\n<table border=\"1\" class=\"dataframe\">\n  <thead>\n    <tr style=\"text-align: right;\">\n      <th></th>\n      <th>epoch</th>\n      <th>test accuracy</th>\n      <th>valid accuracy</th>\n      <th>test mean loss</th>\n      <th>valid mean loss</th>\n      <th>train mean loss</th>\n    </tr>\n  </thead>\n  <tbody>\n    <tr>\n      <th>best</th>\n      <td>13</td>\n      <td>0.763731</td>\n      <td>0.763528</td>\n      <td>0.489463</td>\n      <td>0.486165</td>\n      <td>0.463681</td>\n    </tr>\n    <tr>\n      <th>last</th>\n      <td>15</td>\n      <td>0.763731</td>\n      <td>0.763519</td>\n      <td>0.489463</td>\n      <td>0.487663</td>\n      <td>0.460519</td>\n    </tr>\n  </tbody>\n</table>\n</div>"
          },
          "metadata": {},
          "execution_count": 420
        }
      ],
      "source": [
        "%%time\n",
        "results = train_valid_test_model(**train_valid_test_args)\n",
        "add_experiment_metrics(expr_desc, model_init_kwargs, train_params, results)\n",
        "show_results(results)"
      ]
    },
    {
      "source": [
        "## Второй вариант"
      ],
      "cell_type": "markdown",
      "metadata": {}
    },
    {
      "cell_type": "code",
      "execution_count": 421,
      "metadata": {},
      "outputs": [],
      "source": [
        "import numpy as np\n",
        "from sklearn.feature_extraction.text import TfidfVectorizer\n",
        "from sklearn.decomposition import TruncatedSVD \n",
        "\n",
        "\n",
        "class TfidfWordVectors:\n",
        "    def __init__(self, vectors, vocabulary):\n",
        "        if not isinstance(vectors, np.ndarray):\n",
        "            raise TypeError\n",
        "        if not isinstance(vocabulary, dict):\n",
        "            raise TypeError\n",
        "        if len(vectors.shape) != 2:\n",
        "            raise ValueError\n",
        "        if len(vectors) != len(vocabulary):\n",
        "            raise ValueError\n",
        "        self._vocabulary = vocabulary\n",
        "        self.vectors = vectors\n",
        "        self.vector_size = vectors.shape[-1]\n",
        "\n",
        "    def __getitem__(self, key):\n",
        "        if not isinstance(key, str):\n",
        "            raise TypeError\n",
        "        return self.vectors[self._vocabulary[key]]\n",
        "\n",
        "    def __contains__(self, key):\n",
        "        return key in self._vocabulary\n",
        "\n",
        "\n",
        "class TooFewTokensError(Exception):\n",
        "    pass\n",
        "\n",
        "\n",
        "def train_tfidf_word_vectors(documents, output_token_dim=300, tokenizer=text_to_tokens, min_df=3, max_df=1.0, dtype=np.float32, random_state=SEED):\n",
        "    if len(documents) < output_token_dim:\n",
        "        raise ValueError(\"number of documents must be strictly >= output_token_dim to produce tfidf word vectors\")\n",
        "    # no need to have lowercase=True because analyzer does all work\n",
        "    vectorizer = TfidfVectorizer(analyzer=tokenizer, lowercase=False, min_df=min_df, max_df=max_df, dtype=dtype)\n",
        "    doc_embeddings_matrix = vectorizer.fit_transform(documents)\n",
        "    vocabulary = vectorizer.vocabulary_\n",
        "    tok_embeddings_matrix = doc_embeddings_matrix.T\n",
        "    if tok_embeddings_matrix.shape[0] < output_token_dim:\n",
        "        raise TooFewTokensError(\n",
        "            f\"cannot build embeddings matrix with output_token_dim = {output_token_dim}, \"\n",
        "            f\"because extracted tokens number = {tok_embeddings_matrix.shape[0]} that < {output_token_dim}\")\n",
        "    if len(documents) > output_token_dim:\n",
        "        t_svd = TruncatedSVD(n_components=output_token_dim, random_state=random_state)\n",
        "        tok_embeddings_matrix = t_svd.fit_transform(tok_embeddings_matrix)\n",
        "    else:\n",
        "        tok_embeddings_matrix = tok_embeddings_matrix.todense()\n",
        "    assert tok_embeddings_matrix.shape[-1] == output_token_dim, (tok_embeddings_matrix.shape, len(documents), output_token_dim)\n",
        "    return TfidfWordVectors(tok_embeddings_matrix, vocabulary)"
      ]
    },
    {
      "cell_type": "code",
      "execution_count": 438,
      "metadata": {},
      "outputs": [
        {
          "output_type": "stream",
          "name": "stdout",
          "text": [
            "Wall time: 4min 10s\n"
          ]
        }
      ],
      "source": [
        "%%time\n",
        "tfidf_based_w2v = train_tfidf_word_vectors(all_data_splitted['train_features'], output_token_dim=features_num)\n",
        "tfidf_based_w2v_mean = np.mean(tfidf_based_w2v.vectors, axis=0)\n",
        "tfidf_based_w2v_std = np.std(tfidf_based_w2v.vectors, axis=0)"
      ]
    },
    {
      "cell_type": "code",
      "execution_count": 517,
      "metadata": {},
      "outputs": [],
      "source": [
        "from collections import defaultdict\n",
        "\n",
        "import gensim\n",
        "import numpy as np\n",
        "from tqdm.notebook import tqdm\n",
        "\n",
        "\n",
        "class DatasetUsingTfidfWordVectorsInAddition(SlightlyMoreComputationallyEfficientDataset):\n",
        "    def __init__(\n",
        "        self, texts, labels,\n",
        "        word2vec: gensim.models.Word2Vec, tfidf_based_w2v, w2v_mean=None, w2v_std=None,\n",
        "        tfidf_based_w2v_mean=None, tfidf_based_w2v_std=None,\n",
        "        tokenizer=text_to_tokens,\n",
        "    ):\n",
        "        if tfidf_based_w2v_mean is None:\n",
        "            self._tfidf_based_w2v_mean = np.mean(tfidf_based_w2v.vectors, axis=0)\n",
        "        else:\n",
        "            self._tfidf_based_w2v_mean = tfidf_based_w2v_mean\n",
        "        if tfidf_based_w2v_std is None:\n",
        "            self._tfidf_based_w2v_std = np.std(tfidf_based_w2v.vectors, axis=0)\n",
        "        else:\n",
        "            self._tfidf_based_w2v_std = tfidf_based_w2v_std\n",
        "        super().__init__(\n",
        "            texts, labels, word2vec, w2v_mean, w2v_std, tokenizer,\n",
        "            tfidf_based_w2v=tfidf_based_w2v)\n",
        "\n",
        "    def _init_features_w2v_embeddings(\n",
        "            self, features, word2vec, tfidf_based_w2v):\n",
        "    \n",
        "        # used as single stub token for text in which no proper tokens found\n",
        "        shared_zero_embedding = np.zeros(\n",
        "            self._embedding_dim, dtype=self._embedding_dtype)\n",
        "        shared_zero_embedding_index = 0\n",
        "\n",
        "        # Stores token embeddings:\n",
        "        embeddings = [shared_zero_embedding]\n",
        "        # Stores lists of token embedding indexes, one list for each text:\n",
        "        embeddings_indexes = []\n",
        "\n",
        "        token2index = {}\n",
        "\n",
        "        \n",
        "        for text in tqdm(features, desc=\"processing texts\", postfix=\"gathering embeddings for tokens\"):\n",
        "            tokens = self._get_tokens(text)\n",
        "\n",
        "            if not tokens:  # text are empty for us, no way to do something else\n",
        "                embeddings_indexes.append([shared_zero_embedding_index])\n",
        "                continue\n",
        "\n",
        "            indexes = []\n",
        "            for tok in tokens:\n",
        "                if tok in token2index:\n",
        "                    indexes.append(token2index[tok])\n",
        "                    continue\n",
        "                \n",
        "                new_embedding_word2vec = None\n",
        "                if tok in word2vec:\n",
        "                    new_embedding_word2vec = (\n",
        "                        word2vec[tok] - self._w2v_mean) / self._w2v_std\n",
        "                    assert new_embedding_word2vec.shape == (\n",
        "                        self._embedding_dim,), new_embedding_word2vec.shape\n",
        "                \n",
        "                new_embedding_tfidf_based_w2v = None\n",
        "                if tok in tfidf_based_w2v:\n",
        "                    new_embedding_tfidf_based_w2v  = (\n",
        "                        tfidf_based_w2v[tok] - self._tfidf_based_w2v_mean) / self._tfidf_based_w2v_std\n",
        "                    assert new_embedding_tfidf_based_w2v.shape == (\n",
        "                        self._embedding_dim,), new_embedding_tfidf_based_w2v.shape\n",
        "                \n",
        "                if (new_embedding_word2vec is not None and new_embedding_tfidf_based_w2v is not None):\n",
        "                    new_embedding = new_embedding_word2vec + new_embedding_tfidf_based_w2v\n",
        "                elif new_embedding_word2vec is not None:\n",
        "                    new_embedding = new_embedding_word2vec\n",
        "                elif new_embedding_tfidf_based_w2v is not None:\n",
        "                    new_embedding = new_embedding_tfidf_based_w2v\n",
        "                else:\n",
        "                    indexes.append(None)\n",
        "                    continue\n",
        "\n",
        "                embeddings.append(new_embedding)\n",
        "                new_index = len(embeddings) - 1\n",
        "                token2index[tok] = new_index\n",
        "                indexes.append(new_index)\n",
        "            \n",
        "            embeddings_indexes.append(indexes)\n",
        "\n",
        "        embeddings = np.array(embeddings)\n",
        "        assert len(\n",
        "            embeddings.shape) == 2 and embeddings.shape[-1] == self._embedding_dim, embeddings.shape\n",
        "        self._features_w2v_embeddings_indexes = embeddings_indexes\n",
        "        self._features_w2v_embeddings = embeddings\n",
        "        self._shared_zero_embedding_index = shared_zero_embedding_index"
      ]
    },
    {
      "source": [
        "### Experiment #4\n",
        "default classifier, accuracy, word2vec-google-news-300 + tdfidf word vectors trained on train part of data"
      ],
      "cell_type": "markdown",
      "metadata": {}
    },
    {
      "cell_type": "code",
      "execution_count": 520,
      "metadata": {
        "tags": []
      },
      "outputs": [
        {
          "output_type": "stream",
          "name": "stdout",
          "text": [
            "Creating train dataset...\n\n"
          ]
        },
        {
          "output_type": "display_data",
          "data": {
            "text/plain": "HBox(children=(FloatProgress(value=0.0, description='processing texts', max=960000.0, style=ProgressStyle(desc…",
            "application/vnd.jupyter.widget-view+json": {
              "version_major": 2,
              "version_minor": 0,
              "model_id": "67d5a01397d048b1ae9f3f4b3826c752"
            }
          },
          "metadata": {}
        },
        {
          "output_type": "stream",
          "name": "stdout",
          "text": [
            "\n",
            "Train dataset created. Time spent: 116.45020794868469.\n",
            "Creating valid dataset...\n",
            "\n"
          ]
        },
        {
          "output_type": "display_data",
          "data": {
            "text/plain": "HBox(children=(FloatProgress(value=0.0, description='processing texts', max=320000.0, style=ProgressStyle(desc…",
            "application/vnd.jupyter.widget-view+json": {
              "version_major": 2,
              "version_minor": 0,
              "model_id": "578b8bb99b3a43b29e12fcd8225160be"
            }
          },
          "metadata": {}
        },
        {
          "output_type": "stream",
          "name": "stdout",
          "text": [
            "\n",
            "Valid dataset created. Time spent: 22.92027449607849.\n",
            "Creating test dataset...\n",
            "\n"
          ]
        },
        {
          "output_type": "display_data",
          "data": {
            "text/plain": "HBox(children=(FloatProgress(value=0.0, description='processing texts', max=320000.0, style=ProgressStyle(desc…",
            "application/vnd.jupyter.widget-view+json": {
              "version_major": 2,
              "version_minor": 0,
              "model_id": "bcb87238c9e94bab9f79f25d9eb5e86d"
            }
          },
          "metadata": {}
        },
        {
          "output_type": "stream",
          "name": "stdout",
          "text": [
            "\n",
            "Test dataset created. Time spent: 20.41074776649475.\n"
          ]
        }
      ],
      "source": [
        "dataset_w2v_and_tfidf_based_w2v_kwargs = dict(\n",
        "    dataset_w2v_kwargs, tfidf_based_w2v=tfidf_based_w2v, tfidf_based_w2v_mean=tfidf_based_w2v_mean, tfidf_based_w2v_std=tfidf_based_w2v_std)\n",
        "datasets_kwargs.update(train=dataset_w2v_and_tfidf_based_w2v_kwargs, valid=dataset_w2v_and_tfidf_based_w2v_kwargs, test=dataset_w2v_and_tfidf_based_w2v_kwargs)\n",
        "datasets = create_datasets(DatasetUsingTfidfWordVectorsInAddition, **splitted_data, datasets_kwargs=datasets_kwargs)\n",
        "dataloaders = create_dataloaders(collate_fn, **datasets)"
      ]
    },
    {
      "cell_type": "code",
      "execution_count": 521,
      "metadata": {},
      "outputs": [],
      "source": [
        "enable_reproducibility()\n",
        "model_init_kwargs = default_model_init_kwargs\n",
        "epochs_num = default_epochs_num\n",
        "optim_cls = AdamW\n",
        "lr=3e-4\n",
        "save_best_by='accuracy'\n",
        "expr_desc = \"expr #4\"\n",
        "model = Classifier(**model_init_kwargs)\n",
        "optimizer = optim_cls(model.parameters(), lr=lr)\n",
        "train_params = dict(\n",
        "    optimizer_cls=optimizer.__class__.__name__,\n",
        "    criterion_cls=criterion.__class__.__name__,\n",
        "    predict_func=predict.__name__, collate_fn_func=collate_fn.__name__,\n",
        "    lr=lr, epochs_num=epochs_num, save_best_by=save_best_by, w2v_model_name=w2v_model_name + \"tdidf word vectors\")\n",
        "train_valid_test_args = dict(\n",
        "    epochs_num=epochs_num,\n",
        "    model=model, optimizer=optimizer, criterion=criterion,\n",
        "    **dataloaders,\n",
        "    predict=predict, device=DEVICE,\n",
        "    save_best_by=save_best_by\n",
        ")"
      ]
    },
    {
      "cell_type": "code",
      "execution_count": 522,
      "metadata": {},
      "outputs": [
        {
          "output_type": "display_data",
          "data": {
            "text/plain": "HBox(children=(FloatProgress(value=0.0, description='[training, epoch 1]', max=937.0, style=ProgressStyle(desc…",
            "application/vnd.jupyter.widget-view+json": {
              "version_major": 2,
              "version_minor": 0,
              "model_id": "e1bfebcb02fd4c97a2d27a4ed270a846"
            }
          },
          "metadata": {}
        },
        {
          "output_type": "stream",
          "name": "stdout",
          "text": [
            "\n"
          ]
        },
        {
          "output_type": "display_data",
          "data": {
            "text/plain": "HBox(children=(FloatProgress(value=0.0, description='[validation, epoch 1]', max=313.0, style=ProgressStyle(de…",
            "application/vnd.jupyter.widget-view+json": {
              "version_major": 2,
              "version_minor": 0,
              "model_id": "5677fdc6d39f4551b568991947665169"
            }
          },
          "metadata": {}
        },
        {
          "output_type": "stream",
          "name": "stdout",
          "text": [
            "\n"
          ]
        },
        {
          "output_type": "display_data",
          "data": {
            "text/plain": "HBox(children=(FloatProgress(value=0.0, description='[training, epoch 2]', max=937.0, style=ProgressStyle(desc…",
            "application/vnd.jupyter.widget-view+json": {
              "version_major": 2,
              "version_minor": 0,
              "model_id": "2100a35d0ffb4e3c8baa01c3f1e3e98c"
            }
          },
          "metadata": {}
        },
        {
          "output_type": "stream",
          "name": "stdout",
          "text": [
            "\n"
          ]
        },
        {
          "output_type": "display_data",
          "data": {
            "text/plain": "HBox(children=(FloatProgress(value=0.0, description='[validation, epoch 2]', max=313.0, style=ProgressStyle(de…",
            "application/vnd.jupyter.widget-view+json": {
              "version_major": 2,
              "version_minor": 0,
              "model_id": "3478c2c2620b493e94bb26f199d4ac7e"
            }
          },
          "metadata": {}
        },
        {
          "output_type": "stream",
          "name": "stdout",
          "text": [
            "\n"
          ]
        },
        {
          "output_type": "display_data",
          "data": {
            "text/plain": "HBox(children=(FloatProgress(value=0.0, description='[training, epoch 3]', max=937.0, style=ProgressStyle(desc…",
            "application/vnd.jupyter.widget-view+json": {
              "version_major": 2,
              "version_minor": 0,
              "model_id": "1e78e2c2fade4798a0244b990b0060d3"
            }
          },
          "metadata": {}
        },
        {
          "output_type": "stream",
          "name": "stdout",
          "text": [
            "\n"
          ]
        },
        {
          "output_type": "display_data",
          "data": {
            "text/plain": "HBox(children=(FloatProgress(value=0.0, description='[validation, epoch 3]', max=313.0, style=ProgressStyle(de…",
            "application/vnd.jupyter.widget-view+json": {
              "version_major": 2,
              "version_minor": 0,
              "model_id": "1da22b07c8624358880f06bedbb91fae"
            }
          },
          "metadata": {}
        },
        {
          "output_type": "stream",
          "name": "stdout",
          "text": [
            "\n"
          ]
        },
        {
          "output_type": "display_data",
          "data": {
            "text/plain": "HBox(children=(FloatProgress(value=0.0, description='[training, epoch 4]', max=937.0, style=ProgressStyle(desc…",
            "application/vnd.jupyter.widget-view+json": {
              "version_major": 2,
              "version_minor": 0,
              "model_id": "aaa4c3890f1e4f79b1d59f41ac4867b3"
            }
          },
          "metadata": {}
        },
        {
          "output_type": "stream",
          "name": "stdout",
          "text": [
            "\n"
          ]
        },
        {
          "output_type": "display_data",
          "data": {
            "text/plain": "HBox(children=(FloatProgress(value=0.0, description='[validation, epoch 4]', max=313.0, style=ProgressStyle(de…",
            "application/vnd.jupyter.widget-view+json": {
              "version_major": 2,
              "version_minor": 0,
              "model_id": "6434bab16412457cae1a208d076ddb39"
            }
          },
          "metadata": {}
        },
        {
          "output_type": "stream",
          "name": "stdout",
          "text": [
            "\n"
          ]
        },
        {
          "output_type": "display_data",
          "data": {
            "text/plain": "HBox(children=(FloatProgress(value=0.0, description='[training, epoch 5]', max=937.0, style=ProgressStyle(desc…",
            "application/vnd.jupyter.widget-view+json": {
              "version_major": 2,
              "version_minor": 0,
              "model_id": "a6ed55ddddf2441f8d88ad2825cf3cbe"
            }
          },
          "metadata": {}
        },
        {
          "output_type": "stream",
          "name": "stdout",
          "text": [
            "\n"
          ]
        },
        {
          "output_type": "display_data",
          "data": {
            "text/plain": "HBox(children=(FloatProgress(value=0.0, description='[validation, epoch 5]', max=313.0, style=ProgressStyle(de…",
            "application/vnd.jupyter.widget-view+json": {
              "version_major": 2,
              "version_minor": 0,
              "model_id": "990640e6eaf841fa9232348e69fdf925"
            }
          },
          "metadata": {}
        },
        {
          "output_type": "stream",
          "name": "stdout",
          "text": [
            "\n"
          ]
        },
        {
          "output_type": "display_data",
          "data": {
            "text/plain": "HBox(children=(FloatProgress(value=0.0, description='[training, epoch 6]', max=937.0, style=ProgressStyle(desc…",
            "application/vnd.jupyter.widget-view+json": {
              "version_major": 2,
              "version_minor": 0,
              "model_id": "1aeb70bff66849c7addc0bd9debfe3db"
            }
          },
          "metadata": {}
        },
        {
          "output_type": "stream",
          "name": "stdout",
          "text": [
            "\n"
          ]
        },
        {
          "output_type": "display_data",
          "data": {
            "text/plain": "HBox(children=(FloatProgress(value=0.0, description='[validation, epoch 6]', max=313.0, style=ProgressStyle(de…",
            "application/vnd.jupyter.widget-view+json": {
              "version_major": 2,
              "version_minor": 0,
              "model_id": "8653df26d1404abaa66b716e34f29c07"
            }
          },
          "metadata": {}
        },
        {
          "output_type": "stream",
          "name": "stdout",
          "text": [
            "\n"
          ]
        },
        {
          "output_type": "display_data",
          "data": {
            "text/plain": "HBox(children=(FloatProgress(value=0.0, description='[training, epoch 7]', max=937.0, style=ProgressStyle(desc…",
            "application/vnd.jupyter.widget-view+json": {
              "version_major": 2,
              "version_minor": 0,
              "model_id": "820c44eb1f6048aea9987724fa7cc99d"
            }
          },
          "metadata": {}
        },
        {
          "output_type": "stream",
          "name": "stdout",
          "text": [
            "\n"
          ]
        },
        {
          "output_type": "display_data",
          "data": {
            "text/plain": "HBox(children=(FloatProgress(value=0.0, description='[validation, epoch 7]', max=313.0, style=ProgressStyle(de…",
            "application/vnd.jupyter.widget-view+json": {
              "version_major": 2,
              "version_minor": 0,
              "model_id": "9097a7a6f7e54f8dae9ccd259a96cd80"
            }
          },
          "metadata": {}
        },
        {
          "output_type": "stream",
          "name": "stdout",
          "text": [
            "\n"
          ]
        },
        {
          "output_type": "display_data",
          "data": {
            "text/plain": "HBox(children=(FloatProgress(value=0.0, description='[training, epoch 8]', max=937.0, style=ProgressStyle(desc…",
            "application/vnd.jupyter.widget-view+json": {
              "version_major": 2,
              "version_minor": 0,
              "model_id": "6a39a9dc60744d6693fbc3ffcf42b3ae"
            }
          },
          "metadata": {}
        },
        {
          "output_type": "stream",
          "name": "stdout",
          "text": [
            "\n"
          ]
        },
        {
          "output_type": "display_data",
          "data": {
            "text/plain": "HBox(children=(FloatProgress(value=0.0, description='[validation, epoch 8]', max=313.0, style=ProgressStyle(de…",
            "application/vnd.jupyter.widget-view+json": {
              "version_major": 2,
              "version_minor": 0,
              "model_id": "6a49dc1c87bc4ce083aaeff57d0f14ff"
            }
          },
          "metadata": {}
        },
        {
          "output_type": "stream",
          "name": "stdout",
          "text": [
            "\n"
          ]
        },
        {
          "output_type": "display_data",
          "data": {
            "text/plain": "HBox(children=(FloatProgress(value=0.0, description='[training, epoch 9]', max=937.0, style=ProgressStyle(desc…",
            "application/vnd.jupyter.widget-view+json": {
              "version_major": 2,
              "version_minor": 0,
              "model_id": "a341477648944b5dbac0d1cae5074b27"
            }
          },
          "metadata": {}
        },
        {
          "output_type": "stream",
          "name": "stdout",
          "text": [
            "\n"
          ]
        },
        {
          "output_type": "display_data",
          "data": {
            "text/plain": "HBox(children=(FloatProgress(value=0.0, description='[validation, epoch 9]', max=313.0, style=ProgressStyle(de…",
            "application/vnd.jupyter.widget-view+json": {
              "version_major": 2,
              "version_minor": 0,
              "model_id": "7e57646e19cc4d3fbf434f41cfd6156b"
            }
          },
          "metadata": {}
        },
        {
          "output_type": "stream",
          "name": "stdout",
          "text": [
            "\n"
          ]
        },
        {
          "output_type": "display_data",
          "data": {
            "text/plain": "HBox(children=(FloatProgress(value=0.0, description='[training, epoch 10]', max=937.0, style=ProgressStyle(des…",
            "application/vnd.jupyter.widget-view+json": {
              "version_major": 2,
              "version_minor": 0,
              "model_id": "96a8a11adf3c40bc9380780fcd63982e"
            }
          },
          "metadata": {}
        },
        {
          "output_type": "stream",
          "name": "stdout",
          "text": [
            "\n"
          ]
        },
        {
          "output_type": "display_data",
          "data": {
            "text/plain": "HBox(children=(FloatProgress(value=0.0, description='[validation, epoch 10]', max=313.0, style=ProgressStyle(d…",
            "application/vnd.jupyter.widget-view+json": {
              "version_major": 2,
              "version_minor": 0,
              "model_id": "27daa72dae36408ab4477cc320c3d84c"
            }
          },
          "metadata": {}
        },
        {
          "output_type": "stream",
          "name": "stdout",
          "text": [
            "\n"
          ]
        },
        {
          "output_type": "display_data",
          "data": {
            "text/plain": "HBox(children=(FloatProgress(value=0.0, description='[training, epoch 11]', max=937.0, style=ProgressStyle(des…",
            "application/vnd.jupyter.widget-view+json": {
              "version_major": 2,
              "version_minor": 0,
              "model_id": "eede3ad4c3ee4577a5ba7a95d1146aa0"
            }
          },
          "metadata": {}
        },
        {
          "output_type": "stream",
          "name": "stdout",
          "text": [
            "\n"
          ]
        },
        {
          "output_type": "display_data",
          "data": {
            "text/plain": "HBox(children=(FloatProgress(value=0.0, description='[validation, epoch 11]', max=313.0, style=ProgressStyle(d…",
            "application/vnd.jupyter.widget-view+json": {
              "version_major": 2,
              "version_minor": 0,
              "model_id": "b7a9abe0798049e59004e6ad9d00f6d9"
            }
          },
          "metadata": {}
        },
        {
          "output_type": "stream",
          "name": "stdout",
          "text": [
            "\n"
          ]
        },
        {
          "output_type": "display_data",
          "data": {
            "text/plain": "HBox(children=(FloatProgress(value=0.0, description='[training, epoch 12]', max=937.0, style=ProgressStyle(des…",
            "application/vnd.jupyter.widget-view+json": {
              "version_major": 2,
              "version_minor": 0,
              "model_id": "738e46459d8f46c792be1ae2074f0d05"
            }
          },
          "metadata": {}
        },
        {
          "output_type": "stream",
          "name": "stdout",
          "text": [
            "\n"
          ]
        },
        {
          "output_type": "display_data",
          "data": {
            "text/plain": "HBox(children=(FloatProgress(value=0.0, description='[validation, epoch 12]', max=313.0, style=ProgressStyle(d…",
            "application/vnd.jupyter.widget-view+json": {
              "version_major": 2,
              "version_minor": 0,
              "model_id": "3b7e7cad33964106a506b7893de31a50"
            }
          },
          "metadata": {}
        },
        {
          "output_type": "stream",
          "name": "stdout",
          "text": [
            "\n"
          ]
        },
        {
          "output_type": "display_data",
          "data": {
            "text/plain": "HBox(children=(FloatProgress(value=0.0, description='[training, epoch 13]', max=937.0, style=ProgressStyle(des…",
            "application/vnd.jupyter.widget-view+json": {
              "version_major": 2,
              "version_minor": 0,
              "model_id": "a8bdd0b449b94efaaa5bca3e28df0127"
            }
          },
          "metadata": {}
        },
        {
          "output_type": "stream",
          "name": "stdout",
          "text": [
            "\n"
          ]
        },
        {
          "output_type": "display_data",
          "data": {
            "text/plain": "HBox(children=(FloatProgress(value=0.0, description='[validation, epoch 13]', max=313.0, style=ProgressStyle(d…",
            "application/vnd.jupyter.widget-view+json": {
              "version_major": 2,
              "version_minor": 0,
              "model_id": "dab8fd6926454db8a751da819bdefd55"
            }
          },
          "metadata": {}
        },
        {
          "output_type": "stream",
          "name": "stdout",
          "text": [
            "\n"
          ]
        },
        {
          "output_type": "display_data",
          "data": {
            "text/plain": "HBox(children=(FloatProgress(value=0.0, description='[training, epoch 14]', max=937.0, style=ProgressStyle(des…",
            "application/vnd.jupyter.widget-view+json": {
              "version_major": 2,
              "version_minor": 0,
              "model_id": "f17902e0054b49139b16461f99037411"
            }
          },
          "metadata": {}
        },
        {
          "output_type": "stream",
          "name": "stdout",
          "text": [
            "\n"
          ]
        },
        {
          "output_type": "display_data",
          "data": {
            "text/plain": "HBox(children=(FloatProgress(value=0.0, description='[validation, epoch 14]', max=313.0, style=ProgressStyle(d…",
            "application/vnd.jupyter.widget-view+json": {
              "version_major": 2,
              "version_minor": 0,
              "model_id": "0d35382c0cd14bab9ae4397ecb15a828"
            }
          },
          "metadata": {}
        },
        {
          "output_type": "stream",
          "name": "stdout",
          "text": [
            "\n"
          ]
        },
        {
          "output_type": "display_data",
          "data": {
            "text/plain": "HBox(children=(FloatProgress(value=0.0, description='[training, epoch 15]', max=937.0, style=ProgressStyle(des…",
            "application/vnd.jupyter.widget-view+json": {
              "version_major": 2,
              "version_minor": 0,
              "model_id": "28a42041d07942e4a10dd4c38c6b3870"
            }
          },
          "metadata": {}
        },
        {
          "output_type": "stream",
          "name": "stdout",
          "text": [
            "\n"
          ]
        },
        {
          "output_type": "display_data",
          "data": {
            "text/plain": "HBox(children=(FloatProgress(value=0.0, description='[validation, epoch 15]', max=313.0, style=ProgressStyle(d…",
            "application/vnd.jupyter.widget-view+json": {
              "version_major": 2,
              "version_minor": 0,
              "model_id": "3d88caa0b9b3468980c835c9fc115757"
            }
          },
          "metadata": {}
        },
        {
          "output_type": "stream",
          "name": "stdout",
          "text": [
            "\n"
          ]
        },
        {
          "output_type": "display_data",
          "data": {
            "text/plain": "HBox(children=(FloatProgress(value=0.0, description='[testing, last]', max=313.0, style=ProgressStyle(descript…",
            "application/vnd.jupyter.widget-view+json": {
              "version_major": 2,
              "version_minor": 0,
              "model_id": "2bd5835569234cb497fcb401f52aea0e"
            }
          },
          "metadata": {}
        },
        {
          "output_type": "stream",
          "name": "stdout",
          "text": [
            "\n"
          ]
        },
        {
          "output_type": "display_data",
          "data": {
            "text/plain": "HBox(children=(FloatProgress(value=0.0, description='[testing, best epoch (14)]', max=313.0, style=ProgressSty…",
            "application/vnd.jupyter.widget-view+json": {
              "version_major": 2,
              "version_minor": 0,
              "model_id": "4346b1829e2e44b894a52b8ec1d4ede1"
            }
          },
          "metadata": {}
        },
        {
          "output_type": "stream",
          "name": "stdout",
          "text": [
            "\nWall time: 27min 35s\n"
          ]
        },
        {
          "output_type": "execute_result",
          "data": {
            "text/plain": [
              "      epoch  test accuracy  valid accuracy  test mean loss  valid mean loss  \\\n",
              "best     14       0.750797        0.751169        0.508857         0.506487   \n",
              "last     15       0.750797        0.750678        0.508857         0.507814   \n",
              "\n",
              "      train mean loss  \n",
              "best         0.471824  \n",
              "last         0.470152  "
            ],
            "text/html": "<div>\n<style scoped>\n    .dataframe tbody tr th:only-of-type {\n        vertical-align: middle;\n    }\n\n    .dataframe tbody tr th {\n        vertical-align: top;\n    }\n\n    .dataframe thead th {\n        text-align: right;\n    }\n</style>\n<table border=\"1\" class=\"dataframe\">\n  <thead>\n    <tr style=\"text-align: right;\">\n      <th></th>\n      <th>epoch</th>\n      <th>test accuracy</th>\n      <th>valid accuracy</th>\n      <th>test mean loss</th>\n      <th>valid mean loss</th>\n      <th>train mean loss</th>\n    </tr>\n  </thead>\n  <tbody>\n    <tr>\n      <th>best</th>\n      <td>14</td>\n      <td>0.750797</td>\n      <td>0.751169</td>\n      <td>0.508857</td>\n      <td>0.506487</td>\n      <td>0.471824</td>\n    </tr>\n    <tr>\n      <th>last</th>\n      <td>15</td>\n      <td>0.750797</td>\n      <td>0.750678</td>\n      <td>0.508857</td>\n      <td>0.507814</td>\n      <td>0.470152</td>\n    </tr>\n  </tbody>\n</table>\n</div>"
          },
          "metadata": {},
          "execution_count": 522
        }
      ],
      "source": [
        "%%time\n",
        "results = train_valid_test_model(**train_valid_test_args)\n",
        "add_experiment_metrics(expr_desc, model_init_kwargs, train_params, results)\n",
        "show_results(results)"
      ]
    },
    {
      "source": [
        "### Вывод\n",
        "В первом варианте качество ухудшилось по сравнению с простым word2vec, хоть и незначительно. Нужно учить дольше и перебирать разные параметры. Всю неделю кодил эту возможность перебирать параметры, в итоге непосредственно поэкспериментировать не успеваю.\n",
        "\n",
        "Во втором варианте accuracy росла медленее и итоговый результат уже ощутимо хуже всех предыдущих вариантов. Наверное, это связано с тем, что методы построения эмбеддингов сильно различаются и простое складывание векторов из полученных векторных пространств только смазывает информацию. Возможно, если бы вместо TF-IDF + SVD использовать PMI + SVD, то результат был бы лучше: в случае PMI используется информация о совстречаемости слов, что близко к принципам word2vec. В случае TF-IDF используется информация о частотности отдельного слова, и обычно с помощью TF-IDF получают эмбеддинги документов (строки), а не слов (столбцы)."
      ],
      "cell_type": "markdown",
      "metadata": {}
    },
    {
      "source": [
        "## Experiment #5\n",
        "default classifier, accuracy, glove-twitter-200, TweetTokenizer"
      ],
      "cell_type": "markdown",
      "metadata": {}
    },
    {
      "cell_type": "code",
      "execution_count": 31,
      "metadata": {},
      "outputs": [
        {
          "output_type": "stream",
          "name": "stderr",
          "text": [
            "[nltk_data] Downloading package stopwords to\n[nltk_data]     C:\\Users\\user0\\AppData\\Roaming\\nltk_data...\n[nltk_data]   Package stopwords is already up-to-date!\n"
          ]
        }
      ],
      "source": [
        "import nltk\n",
        "from nltk.tokenize.casual import TweetTokenizer\n",
        "\n",
        "nltk.download('stopwords')\n",
        "stop_words = nltk.corpus.stopwords.words('english')\n",
        "\n",
        "twitter_tknzr = TweetTokenizer(preserve_case=False, reduce_len=True, strip_handles=True)\n",
        "\n",
        "\n",
        "def tweet_text_to_tokens(text):\n",
        "    return [tok for tok in twitter_tknzr.tokenize(text) if tok not in stop_words]"
      ]
    },
    {
      "cell_type": "code",
      "execution_count": null,
      "metadata": {},
      "outputs": [],
      "source": [
        "import gensim\n",
        "import numpy as np\n",
        "\n",
        "w2v_model_name = \"glove-twitter-200\"\n",
        "word2vec = gensim.downloader.load(w2v_model_name)\n",
        "w2v_mean = np.mean(word2vec.vectors, axis=0)\n",
        "w2v_std = np.std(w2v_std.vectors, axis=0)\n",
        "dataset_w2v_kwargs = dict(word2vec=word2vec, w2v_mean=w2v_mean, w2v_std=w2v_std)"
      ]
    },
    {
      "cell_type": "code",
      "execution_count": null,
      "metadata": {},
      "outputs": [],
      "source": [
        "datasets_kwargs = dict(train=dataset_w2v_kwargs, valid=dataset_w2v_kwargs, test=dataset_w2v_kwargs)\n",
        "datasets = create_datasets(SlightlyMoreComputationallyEfficientDataset, **splitted_data, datasets_kwargs=datasets_kwargs)\n",
        "dataloaders = create_dataloaders(collate_fn, **datasets)"
      ]
    },
    {
      "cell_type": "code",
      "execution_count": null,
      "metadata": {},
      "outputs": [],
      "source": [
        "enable_reproducibility()\n",
        "model_init_kwargs = default_model_init_kwargs\n",
        "epochs_num = 5\n",
        "optim_cls = AdamW\n",
        "lr=3e-4\n",
        "save_best_by='accuracy'\n",
        "expr_desc = \"expr #5\"\n",
        "model = Classifier(**model_init_kwargs)\n",
        "optimizer = optim_cls(model.parameters(), lr=lr)\n",
        "train_params = dict(\n",
        "    optimizer_cls=optimizer.__class__.__name__,\n",
        "    criterion_cls=criterion.__class__.__name__,\n",
        "    predict_func=predict.__name__, collate_fn_func=collate_fn.__name__,\n",
        "    lr=lr, epochs_num=epochs_num, save_best_by=save_best_by, w2v_model_name=w2v_model_name)\n",
        "train_valid_test_args = dict(\n",
        "    epochs_num=epochs_num,\n",
        "    model=model, optimizer=optimizer, criterion=criterion,\n",
        "    **dataloaders,\n",
        "    predict=predict, device=DEVICE,\n",
        "    save_best_by=save_best_by\n",
        ")"
      ]
    },
    {
      "cell_type": "code",
      "execution_count": null,
      "metadata": {},
      "outputs": [],
      "source": [
        "%%time\n",
        "results = train_valid_test_model(**train_valid_test_args)\n",
        "add_experiment_metrics(expr_desc, model_init_kwargs, train_params, results)\n",
        "show_results(results)"
      ]
    }
  ]
}